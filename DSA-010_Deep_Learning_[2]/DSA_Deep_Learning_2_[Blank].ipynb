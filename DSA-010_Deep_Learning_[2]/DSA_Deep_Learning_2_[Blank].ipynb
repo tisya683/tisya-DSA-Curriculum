{
  "cells": [
    {
      "cell_type": "markdown",
      "metadata": {
        "id": "nZooFTWZo8eX"
      },
      "source": [
        "# DSA Deep Learning [2] - Advanced CNNs"
      ]
    },
    {
      "cell_type": "code",
      "source": [
        "# Import Libraries\n",
        "import cv2\n",
        "import numpy as np\n",
        "import tensorflow as tf\n",
        "from tensorflow.keras.applications import MobileNetV2\n",
        "from tensorflow.keras.models import Model\n",
        "from tensorflow.keras.layers import Dense, GlobalAveragePooling2D\n",
        "from tensorflow.keras.utils import to_categorical\n",
        "from sklearn.model_selection import train_test_split\n",
        "import pandas as pd\n",
        "import matplotlib.pyplot as plt\n",
        "from google.colab.patches import cv2_imshow\n",
        "from IPython.display import display, HTML\n",
        "from PIL import Image\n",
        "from IPython.display import display, HTML, Javascript\n",
        "import cv2\n",
        "import numpy as np\n",
        "from PIL import Image\n",
        "import base64\n",
        "import io\n",
        "from google.colab.patches import cv2_imshow\n",
        "from google.colab import output\n",
        "import os\n",
        "from tensorflow.keras.models import load_model"
      ],
      "metadata": {
        "id": "3HC-1Ua0Z33_"
      },
      "execution_count": null,
      "outputs": []
    }
  ],
  "metadata": {
    "colab": {
      "provenance": []
    },
    "kernelspec": {
      "display_name": "Python 3",
      "name": "python3"
    },
    "language_info": {
      "name": "python"
    }
  },
  "nbformat": 4,
  "nbformat_minor": 0
}