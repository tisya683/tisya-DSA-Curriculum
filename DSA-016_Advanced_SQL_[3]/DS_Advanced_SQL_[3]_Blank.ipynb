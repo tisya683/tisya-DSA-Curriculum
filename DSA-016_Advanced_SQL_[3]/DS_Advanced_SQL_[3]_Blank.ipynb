{
 "cells": [
  {
   "cell_type": "code",
   "execution_count": 1,
   "metadata": {
    "collapsed": true,
    "id": "ehQDLyGD3Pm2"
   },
   "outputs": [],
   "source": [
    "# Uncomment once and run the file to get access to all the necessary libraries\n",
    "# %pip install -r requirements.txt\n",
    "# !apt-get install -y poppler-utils\n",
    "# !apt-get install -y tesseract-ocr\n",
    "# !apt-get install -y libmagic1"
   ]
  },
  {
   "cell_type": "code",
   "execution_count": null,
   "metadata": {
    "colab": {
     "base_uri": "https://localhost:8080/"
    },
    "id": "gWzdqTXndL1F",
    "outputId": "77e45ea4-75e1-472f-f822-e3e2ce3b6bbd"
   },
   "outputs": [
    {
     "name": "stderr",
     "output_type": "stream",
     "text": [
      "WARNING:langchain_community.utils.user_agent:USER_AGENT environment variable not set, consider setting it to identify your requests.\n"
     ]
    },
    {
     "data": {
      "text/plain": [
       "True"
      ]
     },
     "execution_count": 2,
     "metadata": {},
     "output_type": "execute_result"
    }
   ],
   "source": [
    "import os\n",
    "import bs4\n",
    "import ast\n",
    "import fitz\n",
    "import uuid\n",
    "import json\n",
    "import base64\n",
    "import markdown\n",
    "from PIL import Image\n",
    "from pprint import pprint\n",
    "from PyPDF2 import PdfMerger\n",
    "from base64 import b64decode\n",
    "from datetime import datetime\n",
    "from dotenv import load_dotenv\n",
    "import matplotlib.pyplot as plt\n",
    "from pdf2image import convert_from_path\n",
    "from IPython.display import Image, display\n",
    "from unstructured.partition.pdf import partition_pdf\n",
    "from unstructured.documents.elements import Text, Image\n",
    "from typing_extensions import Annotated, TypedDict, Sequence\n",
    "\n",
    "from langchain import hub\n",
    "from langchain_core.prompts import MessagesPlaceholder\n",
    "from langchain_openai import ChatOpenAI, OpenAIEmbeddings\n",
    "from langchain_core.output_parsers import StrOutputParser\n",
    "from langchain_core.messages import SystemMessage, HumanMessage\n",
    "from langchain.text_splitter  import RecursiveCharacterTextSplitter\n",
    "from langchain.prompts import ChatPromptTemplate, HumanMessagePromptTemplate, SystemMessagePromptTemplate\n",
    "\n",
    "from langchain_community.document_loaders import(\n",
    "  PyPDFLoader,\n",
    "  Docx2txtLoader,\n",
    "  UnstructuredPDFLoader,\n",
    "  WebBaseLoader,\n",
    "  UnstructuredMarkdownLoader,\n",
    "  UnstructuredWordDocumentLoader,\n",
    "  TextLoader,\n",
    "  UnstructuredPDFLoader\n",
    ")\n",
    "\n",
    "from langchain.schema import BaseMessage\n",
    "from langchain_community.vectorstores import Chroma, InMemoryVectorStore\n",
    "from langchain.storage import InMemoryStore\n",
    "from langchain.schema.document import Document\n",
    "from langchain.embeddings import OpenAIEmbeddings\n",
    "from langchain.chains import create_retrieval_chain\n",
    "from langchain_community.utilities import SQLDatabase\n",
    "from langchain.chains import create_history_aware_retriever\n",
    "from langchain.retrievers.multi_vector import MultiVectorRetriever\n",
    "from langchain_core.runnables import RunnablePassthrough, RunnableLambda\n",
    "from langchain.chains.combine_documents import create_stuff_documents_chain\n",
    "from langchain_community.tools.sql_database.tool import QuerySQLDataBaseTool\n",
    "\n",
    "from IPython.display import Image, display\n",
    "from langgraph.graph import START, StateGraph\n",
    "from langgraph.graph.message import add_messages\n",
    "from langgraph.checkpoint.memory import MemorySaver\n",
    "\n",
    "import gradio as gr"
   ]
  },
  {
   "cell_type": "code",
   "execution_count": null,
   "metadata": {},
   "outputs": [],
   "source": [
    "# Load API keys"
   ]
  },
  {
   "cell_type": "markdown",
   "metadata": {
    "id": "JwGWZqQF721w"
   },
   "source": [
    "### Connect to the SQL lite database"
   ]
  },
  {
   "cell_type": "code",
   "execution_count": null,
   "metadata": {
    "colab": {
     "base_uri": "https://localhost:8080/",
     "height": 70
    },
    "id": "eERkMAjB127U",
    "outputId": "88c30727-60ea-4ed9-9ce9-609972a7da47"
   },
   "outputs": [
    {
     "name": "stdout",
     "output_type": "stream",
     "text": [
      "sqlite\n",
      "['mri_data']\n"
     ]
    },
    {
     "data": {
      "application/vnd.google.colaboratory.intrinsic+json": {
       "type": "string"
      },
      "text/plain": [
       "\"[('notumor',), ('glioma',), ('meningioma',), ('pituitary',)]\""
      ]
     },
     "execution_count": 3,
     "metadata": {},
     "output_type": "execute_result"
    }
   ],
   "source": [
    "# Let's connect to the database again\n"
   ]
  },
  {
   "cell_type": "markdown",
   "metadata": {
    "id": "30PvrhgE721x"
   },
   "source": [
    "## Get your models"
   ]
  },
  {
   "cell_type": "code",
   "execution_count": null,
   "metadata": {
    "colab": {
     "base_uri": "https://localhost:8080/"
    },
    "id": "muMyEhMR4eko",
    "outputId": "2cd331e9-f782-48e0-ad7b-5369ad621727"
   },
   "outputs": [
    {
     "name": "stderr",
     "output_type": "stream",
     "text": [
      "<ipython-input-4-64a1e189a6a7>:11: LangChainDeprecationWarning: The class `OpenAIEmbeddings` was deprecated in LangChain 0.0.9 and will be removed in 1.0. An updated version of the class exists in the :class:`~langchain-openai package and should be used instead. To use it run `pip install -U :class:`~langchain-openai` and import as `from :class:`~langchain_openai import OpenAIEmbeddings``.\n",
      "  embeddings = OpenAIEmbeddings(\n"
     ]
    },
    {
     "name": "stdout",
     "output_type": "stream",
     "text": [
      "Life often feels fleeting because of its transient nature and the constant passage of time. From a philosophical perspective, this can be attributed to the impermanence inherent in existence. Every moment is unique and once it passes, it cannot be reclaimed. This impermanence is a fundamental aspect of the human experience, influencing how we perceive time and our place in the world.\n",
      "\n",
      "Biologically, life is finite due to the limitations of our bodies and the natural lifecycle of living organisms. We are born, we grow, and eventually, we age and die. This natural progression emphasizes the fleeting nature of life.\n",
      "\n",
      "Psychologically, as we age, our perception of time seems to accelerate. This is often because each year becomes a smaller fraction of our lived experience, making time feel as though it is passing more quickly.\n",
      "\n",
      "Culturally, many societies emphasize productivity and achievement, which can lead to a feeling that life is rushing by as we constantly strive to meet various goals and milestones.\n",
      "\n",
      "Understanding life's fleetingness can lead to a greater appreciation for the present moment, encouraging us to live more mindfully and cherish our experiences and relationships. It can also motivate us to pursue meaningful goals and cultivate a sense of purpose.\n"
     ]
    }
   ],
   "source": [
    "# Tracing via Langsmith\n",
    "trace = os.getenv(\"LANGCHAIN_TRACING_V2\")\n",
    "langsmith = os.getenv(\"LANGCHAIN_API_KEY\")\n",
    "\n",
    "# Build a GPT model\n",
    "\n",
    "\n",
    "# Embedding model\n",
    "\n",
    "\n",
    "# Small test"
   ]
  },
  {
   "cell_type": "markdown",
   "metadata": {
    "id": "LbbFYExb721y"
   },
   "source": [
    "## Langgraph\n",
    "### In simple terms works very similar to how OOP operates, it's like a blueprint that enable us to build LLM workflow easily\n",
    "    Key things why we use langgraph here instead of an agent is the fact we want it to go through certain actions instead of the llm deciding on it's own and PERSISTENCE."
   ]
  },
  {
   "cell_type": "code",
   "execution_count": null,
   "metadata": {
    "id": "s4hKAAe1c0ZE"
   },
   "outputs": [],
   "source": [
    "# LangGraph create our workflow!\n"
   ]
  },
  {
   "cell_type": "code",
   "execution_count": null,
   "metadata": {
    "colab": {
     "base_uri": "https://localhost:8080/",
     "height": 350
    },
    "id": "PZszjtO7jVxR",
    "outputId": "3d916cd8-f8d8-424d-84c2-fc04f3ec5fcb"
   },
   "outputs": [
    {
     "data": {
      "image/png": "[encoded data removed]",
      "text/plain": [
       "<IPython.core.display.Image object>"
      ]
     },
     "metadata": {},
     "output_type": "display_data"
    }
   ],
   "source": [
    "# We can visualise our image here as well"
   ]
  },
  {
   "cell_type": "code",
   "execution_count": null,
   "metadata": {
    "colab": {
     "base_uri": "https://localhost:8080/",
     "height": 35
    },
    "id": "qUVs-Aad721z",
    "outputId": "040114d6-2364-4546-b193-357dfe320ba5"
   },
   "outputs": [
    {
     "data": {
      "application/vnd.google.colaboratory.intrinsic+json": {
       "type": "string"
      },
      "text/plain": [
       "'There are 1,731 patients labeled as \"no tumor\" in the dataset.'"
      ]
     },
     "execution_count": 7,
     "metadata": {},
     "output_type": "execute_result"
    }
   ],
   "source": []
  },
  {
   "cell_type": "code",
   "execution_count": null,
   "metadata": {
    "id": "GedNauoHgdzo"
   },
   "outputs": [],
   "source": [
    "# Function to process the question and get the answer\n"
   ]
  },
  {
   "cell_type": "code",
   "execution_count": null,
   "metadata": {
    "colab": {
     "base_uri": "https://localhost:8080/"
    },
    "id": "W7UR7VeRl_9W",
    "outputId": "a6ff46b9-e65b-471f-a3da-0b43ae363c11"
   },
   "outputs": [
    {
     "name": "stdout",
     "output_type": "stream",
     "text": [
      "What is your SQL related question? \n",
      "Do you want to execute query? (yes/no): \n",
      "Operation cancelled by user. Here is the query: SELECT image_path, label FROM mri_data WHERE label = 'tumor' LIMIT 5;\n"
     ]
    }
   ],
   "source": [
    "# Call the function"
   ]
  },
  {
   "cell_type": "code",
   "execution_count": null,
   "metadata": {
    "colab": {
     "base_uri": "https://localhost:8080/",
     "height": 392
    },
    "id": "JYf9E_Gbxdpv",
    "outputId": "c45a34f3-5c87-4347-dfcc-3ed9fcd145d5"
   },
   "outputs": [
    {
     "data": {
      "image/png": "[encoded data removed]",
      "text/plain": [
       "<IPython.core.display.Image object>"
      ]
     },
     "metadata": {},
     "output_type": "display_data"
    }
   ],
   "source": [
    "# New workflow "
   ]
  },
  {
   "cell_type": "markdown",
   "metadata": {
    "id": "oXhbtBcLqU4t"
   },
   "source": [
    "# RAG system\n",
    "## Building the vector store and performing the preprocessing steps"
   ]
  },
  {
   "cell_type": "code",
   "execution_count": 12,
   "metadata": {
    "id": "LOgCJPvHhjWe"
   },
   "outputs": [],
   "source": [
    "# Merge the PDF together\n",
    "pdf_files = [\"cancer1.pdf\", \"cancer2.pdf\"]\n",
    "merger = PdfMerger()\n",
    "\n",
    "for pdf in pdf_files:\n",
    "    merger.append(pdf)\n",
    "\n",
    "output_path = \"merged.pdf\"\n",
    "merger.write(output_path)\n",
    "merger.close()"
   ]
  },
  {
   "cell_type": "code",
   "execution_count": null,
   "metadata": {
    "colab": {
     "base_uri": "https://localhost:8080/"
    },
    "id": "Jv7uxj51qbym",
    "outputId": "264ec7bc-7f21-402d-9775-e3f4476d3ee7"
   },
   "outputs": [
    {
     "data": {
      "text/plain": [
       "[(Document(id='9ba9b72b-7e91-4f68-956f-ab3027e4aca0', metadata={'source': 'merged.pdf', 'coordinates': {'points': ((204.16405399316406, 509.9249787531251), (204.16405399316406, 520.4249783156251), (384.19682074179843, 520.4249783156251), (384.19682074179843, 509.9249787531251)), 'system': 'PixelSpace', 'layout_width': 594.95996, 'layout_height': 841.91998}, 'filename': 'merged.pdf', 'languages': ['eng'], 'last_modified': '2024-12-05T08:34:21', 'page_number': 2, 'parent_id': '8682f3e11991af7f7a659de31825b5a7', 'filetype': 'application/pdf', 'category': 'Title', 'element_id': 'd886d4d4e842dd91917d38732653de1b'}, page_content='Anatomy of the inside of the brain.'),\n",
       "  0.5597748259073476),\n",
       " (Document(id='b1432fdd-a320-4e52-b76c-cd29aed928c5', metadata={'source': 'merged.pdf', 'coordinates': {'points': ((132.374994484375, 608.9249746281255), (132.374994484375, 619.4249741906256), (349.9557334185104, 619.4249741906256), (349.9557334185104, 608.9249746281255)), 'system': 'PixelSpace', 'layout_width': 594.95996, 'layout_height': 841.91998}, 'filename': 'merged.pdf', 'languages': ['eng'], 'last_modified': '2024-12-05T08:34:21', 'page_number': 65, 'parent_id': '6a3087ea5707575cbbccc524bae693b2', 'filetype': 'application/pdf', 'category': 'NarrativeText', 'element_id': '1359efa6b0ea5c2ffc69b2a18d1d6138'}, page_content='skull is removed to show part of the brain.'),\n",
       "  0.493387734242679)]"
      ]
     },
     "execution_count": 13,
     "metadata": {},
     "output_type": "execute_result"
    }
   ],
   "source": []
  },
  {
   "cell_type": "code",
   "execution_count": null,
   "metadata": {
    "id": "OUR2ZdGu7210",
    "outputId": "ac428ba8-6923-4519-923d-6532dd0b971a"
   },
   "outputs": [
    {
     "name": "stdout",
     "output_type": "stream",
     "text": [
      "(Document(id='228f33d8-ae1e-4b36-8cd1-f0e735b43d0d', metadata={'source': 'merged.pdf', 'coordinates': {'points': ((204.16405399316406, 509.9249787531251), (204.16405399316406, 520.4249783156251), (384.19682074179843, 520.4249783156251), (384.19682074179843, 509.9249787531251)), 'system': 'PixelSpace', 'layout_width': 594.95996, 'layout_height': 841.91998}, 'filename': 'merged.pdf', 'languages': ['eng'], 'last_modified': '2024-12-05T15:02:39', 'page_number': 2, 'parent_id': '8682f3e11991af7f7a659de31825b5a7', 'filetype': 'application/pdf', 'category': 'Title', 'element_id': 'd886d4d4e842dd91917d38732653de1b'}, page_content='Anatomy of the inside of the brain.'), 0.5598507664364613)\n",
      "---------------------\n",
      "((204.16405399316406, 509.9249787531251), (204.16405399316406, 520.4249783156251), (384.19682074179843, 520.4249783156251), (384.19682074179843, 509.9249787531251))\n"
     ]
    }
   ],
   "source": []
  },
  {
   "cell_type": "markdown",
   "metadata": {
    "id": "_3oP2iOjkS7A"
   },
   "source": [
    "## Multimodal retrieval"
   ]
  },
  {
   "cell_type": "code",
   "execution_count": null,
   "metadata": {
    "collapsed": true,
    "id": "BnVJXKrKU7V3"
   },
   "outputs": [],
   "source": [
    "# Multimodal chunking and retrieval\n",
    "    # Reference: https://docs.unstructured.io/open-source/core-functionality/chunking"
   ]
  },
  {
   "cell_type": "code",
   "execution_count": null,
   "metadata": {
    "id": "WUzNM15Odcuy"
   },
   "outputs": [],
   "source": [
    "# We get 2 types of elements from the partition_pdf function\n"
   ]
  },
  {
   "cell_type": "code",
   "execution_count": null,
   "metadata": {
    "id": "NHvVvPSJdpuc"
   },
   "outputs": [],
   "source": [
    "# What is composite elements:\n",
    "\n",
    "\n",
    "# All the elements related to the title\n"
   ]
  },
  {
   "cell_type": "code",
   "execution_count": null,
   "metadata": {
    "id": "yZkXFhSeAWgB"
   },
   "outputs": [],
   "source": [
    "# This is what an extracted image looks like.\n",
    "# It contains the base64 representation only because we set the param extract_image_block_to_payload=True\n"
   ]
  },
  {
   "cell_type": "code",
   "execution_count": null,
   "metadata": {
    "colab": {
     "background_save": true
    },
    "id": "heA7RDMPdps1"
   },
   "outputs": [],
   "source": [
    "# This is what an extracted image looks like.\n",
    "# It contains the base64 representation only because we set the param extract_image_block_to_payload=True\n",
    "elements = chunks[3].metadata.orig_elements\n",
    "chunk_images = [el for el in elements if 'Image' in str(type(el))]\n",
    "\n",
    "# separate tables from texts\n",
    "tables = []\n",
    "texts = []\n",
    "\n",
    "for chunk in chunks:\n",
    "    if \"Table\" in str(type(chunk)):\n",
    "        tables.append(chunk)\n",
    "\n",
    "    if \"CompositeElement\" in str(type((chunk))):\n",
    "        texts.append(chunk)\n",
    "\n",
    "# Get the images from the CompositeElement objects\n",
    "def get_images_base64(chunks):\n",
    "    images_b64 = []\n",
    "    for chunk in chunks:\n",
    "        if \"CompositeElement\" in str(type(chunk)):\n",
    "            chunk_els = chunk.metadata.orig_elements\n",
    "            for el in chunk_els:\n",
    "                if \"Image\" in str(type(el)):\n",
    "                    images_b64.append(el.metadata.image_base64)\n",
    "    return images_b64\n",
    "\n",
    "images = get_images_base64(chunks)"
   ]
  },
  {
   "cell_type": "code",
   "execution_count": null,
   "metadata": {
    "colab": {
     "base_uri": "https://localhost:8080/",
     "height": 590
    },
    "id": "lSK8c_DkdplY",
    "outputId": "6f44fac6-bda0-4551-e390-00dbfab8a645"
   },
   "outputs": [
    {
     "data": {
      "image/jpeg": "[encoded data removed]",
      "text/plain": [
       "<IPython.core.display.Image object>"
      ]
     },
     "metadata": {},
     "output_type": "display_data"
    }
   ],
   "source": [
    "# Display the image\n"
   ]
  },
  {
   "cell_type": "markdown",
   "metadata": {
    "id": "G44T3FfWF-hE"
   },
   "source": [
    "## Text Summariser"
   ]
  },
  {
   "cell_type": "code",
   "execution_count": null,
   "metadata": {
    "id": "KRmpfg9Adph3"
   },
   "outputs": [],
   "source": [
    "# Text summariser\n",
    "prompt_text = \"\"\"\n",
    "You are an assistant tasked with summarizing tables and text.\n",
    "Give a concise summary of the table or text.\n",
    "\n",
    "Respond only with the summary, no additionnal comment.\n",
    "Do not start your message by saying \"Here is a summary\" or anything like that.\n",
    "Just give the summary as it is.\n",
    "\n",
    "Table or text chunk: {element}\n",
    "\n",
    "\"\"\"\n"
   ]
  },
  {
   "cell_type": "code",
   "execution_count": null,
   "metadata": {
    "id": "c9h3RnfmGYoI"
   },
   "outputs": [],
   "source": [
    "tables[0].to_dict()"
   ]
  },
  {
   "cell_type": "code",
   "execution_count": null,
   "metadata": {
    "colab": {
     "base_uri": "https://localhost:8080/"
    },
    "collapsed": true,
    "id": "CrZ0pBdNfXry",
    "outputId": "0506a326-61d3-494c-86eb-907fbfe0278a"
   },
   "outputs": [
    {
     "name": "stdout",
     "output_type": "stream",
     "text": [
      "['The table is empty and contains no data to summarize.',\n",
      " 'The table lists four types of astrocytoma: Subependymal giant cell '\n",
      " 'astrocytoma, Pilocytic astrocytoma, Pilomyxoid astrocytoma, and Diffuse '\n",
      " 'astrocytoma.',\n",
      " 'The table lists types of brain tumors: Pleomorphic xanthoastrocytoma, '\n",
      " 'Anaplastic astrocytoma, Glioblastoma, Giant cell glioblastoma, and '\n",
      " 'Gliosarcoma.',\n",
      " 'The table lists two types of brain tumors: Oligodendroglioma and Anaplastic '\n",
      " 'oligodendroglioma.',\n",
      " 'The table lists two types of tumors: Oligoastrocytoma and Anaplastic '\n",
      " 'Oligoastrocytoma.',\n",
      " 'The table lists three types of ependymal tumors: Subependymoma, '\n",
      " 'Myxopapillary ependymoma, and Ependymoma.',\n",
      " 'Anaplastic ependymoma is a type of brain tumor.',\n",
      " 'Choroid plexus tumors include choroid plexus papilloma, atypical choroid '\n",
      " 'plexus papilloma, and choroid plexus carcinoma.',\n",
      " 'Angiocentric glioma and Chordoid glioma of the third ventricle are two '\n",
      " 'distinct types of gliomas.',\n",
      " 'The table lists different types of tumors: Gangliocytoma, Ganglioglioma, '\n",
      " 'Anaplastic ganglioma, Desmoplastic infantile astrocytoma and ganglioglioma, '\n",
      " 'and Dysembryoplastic neuroepithelial tumor.',\n",
      " 'The table lists six types of neural or glioneural tumors: Central '\n",
      " 'neurocytoma, Extraventricular neurocytoma, Cerebellar liponeurocytoma, '\n",
      " 'Paraganglioma of the spinal cord, Papillary glioneuronal tumor, and '\n",
      " 'Rosette-forming glioneural tumor of the fourth ventricle.',\n",
      " 'Types of pineal region tumors include Pineocytoma, Pineal parenchymal tumor '\n",
      " 'of intermediate differentiation, Pineoblastoma, and Papillary tumor of the '\n",
      " 'pineal region.',\n",
      " 'Medulloblastoma is a type of brain cancer.',\n",
      " 'The table lists two types of tumors: CNS primitive neuroectodermal tumor and '\n",
      " 'atypical teratoid/rhabdoid tumor.',\n",
      " 'The table lists four types of nerve sheath tumors: Schwannoma, Neurofibroma, '\n",
      " 'Perineurioma, and Malignant Peripheral Nerve Sheath Tumor.',\n",
      " 'The table lists types of brain tumors: meningioma, atypical meningioma, '\n",
      " 'anaplastic/malignant meningioma, hemangiopericytoma, anaplastic '\n",
      " 'hemangiopericytoma, and hemangioblastoma.',\n",
      " 'The table lists four types of tumors related to the pituitary gland: '\n",
      " 'Craniopharyngioma, Granular cell tumor of the neurohypophysis, Pituicytoma, '\n",
      " 'and Spindle cell oncocytoma of the adenohypophysis.',\n",
      " 'The table outlines treatment strategies for various types of astrocytomas: '\n",
      " 'brain stem gliomas are treated with radiation therapy; pineal astrocytic '\n",
      " 'tumors are treated with surgery plus radiation therapy, with chemotherapy '\n",
      " 'added for higher-grade tumors; pilocytic astrocytomas are treated with '\n",
      " 'surgery alone; diffuse astrocytomas (WHO grade II) are treated with surgery, '\n",
      " 'with the option of adding radiation therapy, and possibly chemotherapy.',\n",
      " 'Treatment options for anaplastic astrocytomas (WHO grade III) include '\n",
      " 'surgery with radiation therapy, with or without chemotherapy, and surgery '\n",
      " 'with chemotherapy. For glioblastomas, treatments involve surgery with '\n",
      " 'radiation therapy and chemotherapy, surgery with radiation therapy, '\n",
      " 'carmustine-impregnated polymer implants, and radiation therapy with '\n",
      " 'concurrent chemotherapy.',\n",
      " 'Treatment approaches for brain tumors vary: Oligodendrogliomas can be '\n",
      " 'treated with surgery, with or without radiation therapy, and sometimes with '\n",
      " 'chemotherapy. Anaplastic oligodendrogliomas and mixed gliomas require '\n",
      " 'surgery plus radiation therapy, with or without chemotherapy. Ependymal '\n",
      " 'tumors have different protocols: Grades I and II are treated with surgery '\n",
      " 'alone or followed by radiation therapy, while anaplastic ependymomas require '\n",
      " 'surgery plus radiation therapy.',\n",
      " 'Medulloblastomas are treated with surgery plus craniospinal radiation '\n",
      " 'therapy. Pineocytomas, a type of pineal parenchymal tumor, are treated with '\n",
      " 'surgery plus radiation therapy, while pineoblastomas require surgery, '\n",
      " 'radiation therapy, and chemotherapy.',\n",
      " 'The table outlines treatment options for different types of tumors: \\n'\n",
      " '\\n'\n",
      " '- For Grade I meningiomas, options include active surveillance, surgery, '\n",
      " 'stereotactic radiosurgery, surgery combined with radiation therapy, and '\n",
      " 'fractionated radiation therapy.\\n'\n",
      " '- Grades II and III meningiomas and hemangiopericytomas are treated with '\n",
      " 'surgery plus radiation therapy.\\n'\n",
      " '- Treatment for germ cell tumors varies based on multiple factors.']\n"
     ]
    }
   ],
   "source": [
    "pprint(table_summaries)"
   ]
  },
  {
   "cell_type": "code",
   "execution_count": null,
   "metadata": {
    "colab": {
     "base_uri": "https://localhost:8080/"
    },
    "collapsed": true,
    "id": "JCL9mqB6hUQo",
    "outputId": "1c2f0757-6ca7-4695-a4c7-767ebcee85c3"
   },
   "outputs": [
    {
     "name": "stdout",
     "output_type": "stream",
     "text": [
      "['Adult central nervous system (CNS) tumors, primarily brain tumors, '\n",
      " 'constitute 85% to 90% of all primary CNS tumors. In 2024, the U.S. is '\n",
      " 'estimated to have 25,400 new cases and 18,760 deaths from brain and other '\n",
      " 'nervous system tumors. SEER data from 2016 to 2020 shows a U.S. incidence of '\n",
      " '6.2 per 100,000 people per year and a mortality rate of 4.4 per 100,000 per '\n",
      " 'year. Globally, in 2020, there were about 308,102 new cases and 251,329 '\n",
      " 'deaths. The incidence is higher in White individuals, and mortality is '\n",
      " 'higher in men. The most frequent primary brain tumors are anaplastic '\n",
      " 'astrocytomas and glioblastomas (38%), while primary spinal tumors are mostly '\n",
      " 'schwannomas, meningiomas, and ependymomas (79%). Primary brain tumors rarely '\n",
      " 'metastasize outside the CNS but can spread within it.',\n",
      " 'The anatomy of the brain is divided into the supratentorium, which includes '\n",
      " 'the cerebrum, ventricles, choroid plexus, hypothalamus, pineal gland, '\n",
      " 'pituitary gland, and optic nerve, and the infratentorium, which contains the '\n",
      " 'cerebellum and brain stem. Few definitive environmental or occupational risk '\n",
      " 'factors for primary CNS tumors have been identified, though exposure to '\n",
      " 'vinyl chloride and Epstein-Barr virus infection are considered potential '\n",
      " 'risks. Familial tumor syndromes linked to CNS neoplasms include '\n",
      " 'neurofibromatosis, von Hippel-Lindau disease, tuberous sclerosis, and '\n",
      " 'Li-Fraumeni syndrome, among others. Common clinical features of brain tumors '\n",
      " 'include headaches, seizures, visual changes, gastrointestinal symptoms, and '\n",
      " 'alterations in personality and cognitive functions. Seizures are a common '\n",
      " 'presenting symptom, especially with supratentorial brain tumors.',\n",
      " 'All brain tumors need to be distinguished from other lesions with similar '\n",
      " 'presentations, such as abscesses and infarctions. CT and MRI imaging tests '\n",
      " 'play complementary roles in diagnosing CNS neoplasms, with CT being faster '\n",
      " 'and better for certain detections like calcifications and skull lesions, '\n",
      " 'while MRI offers superior soft-tissue resolution. In posttherapy imaging, '\n",
      " 'SPECT and PET scans help differentiate between tumor recurrence and '\n",
      " 'radiation necrosis. Biopsy is essential for confirming a primary brain tumor '\n",
      " 'diagnosis, except when a benign tumor is clearly indicated, allowing for '\n",
      " 'possible active surveillance without immediate biopsy. CT- or MRI-guided '\n",
      " 'stereotactic techniques ensure safe and accurate biopsy procedures.',\n",
      " 'Genetic alterations such as MGMT promoter methylation, IDH1/IDH2 mutations, '\n",
      " 'and 1p/19q codeletion serve as significant prognostic factors in diffuse '\n",
      " 'gliomas, influencing patient management. Poor prognostic factors include age '\n",
      " 'over 40, progressive disease, tumor size over 5 cm, midline crossing, MRI '\n",
      " 'contrast enhancement, WHO performance status of 1 or higher, neurological '\n",
      " 'symptoms, and less than gross total resection. An analysis of 318 low-grade '\n",
      " 'glioma patients revealed longer progression-free survival (PFS) with IDH '\n",
      " 'mutation without 1p/19q codeletion treated with radiation, no '\n",
      " 'treatment-dependent PFS differences for IDH mutation with 1p/19q codeletion '\n",
      " 'and IDH wild-type tumors, worst prognosis for IDH wild-type tumors, and best '\n",
      " 'prognosis for IDH-mutated tumors with 1p/19q codeletion. MGMT promoter '\n",
      " 'methylation was observed in all IDH mutations with 1p/19q codeletion, most '\n",
      " 'IDH mutations without 1p/19q codeletion, and 56% of IDH wild-type cases.',\n",
      " 'The provided references consist of a collection of studies and publications '\n",
      " 'related to central nervous system neoplasms, cancer statistics, '\n",
      " 'epidemiology, diagnosis, treatment, and imaging of brain tumors. Key '\n",
      " 'references include the American Cancer Society\\'s \"Cancer Facts and Figures '\n",
      " '2024,\" global cancer statistics from GLOBOCAN, various scientific articles '\n",
      " 'on the epidemiology and pathology of brain tumors, as well as studies '\n",
      " 'focusing on treatment efficacy, such as the comparison of temozolomide '\n",
      " 'chemotherapy versus radiotherapy in high-risk low-grade glioma. These '\n",
      " 'sources serve as a comprehensive overview of current research and knowledge '\n",
      " 'in the field of neuro-oncology.',\n",
      " 'The WHO classification of adult primary CNS tumors is based on morphology, '\n",
      " 'cytogenetics, molecular genetics, and immunological markers to create a '\n",
      " 'universally applicable and prognostically valid cellular classification. The '\n",
      " 'traditional TNM classification is not used due to the irrelevance of tumor '\n",
      " 'size compared to histology and location, and the absence of lymphatics in '\n",
      " 'the brain and spinal cord. Metastatic spread is uncommon as most CNS tumor '\n",
      " 'patients do not live long enough for metastasis. The WHO grading system for '\n",
      " 'CNS tumors ranges from grade I to IV, with increasing malignancy and '\n",
      " 'treatment aggressiveness. Grade I tumors have low proliferative potential '\n",
      " 'and can often be cured with surgery; grade II tumors are infiltrative with '\n",
      " 'low mitotic activity but may recur and progress; grade III tumors show '\n",
      " 'malignancy signs and require aggressive therapy; and grade IV tumors are '\n",
      " 'highly malignant, rapidly progressing, and often fatal, necessitating '\n",
      " 'aggressive treatment. Specific details about tumor types, histopathology, '\n",
      " 'grading, incidence, and etiology are discussed in other resources.',\n",
      " 'The table categorizes central nervous system (CNS) tumors based on WHO '\n",
      " 'grading, which ranges from Grade I to IV. Grade I tumors are slow-growing, '\n",
      " 'less aggressive, and often curable with surgery. Grade II tumors are also '\n",
      " 'slow-growing but may recur and have a potential for progression to higher '\n",
      " 'grades. Grade III tumors are malignant, faster-growing, and often require '\n",
      " 'more aggressive treatment. Grade IV tumors are the most aggressive, rapidly '\n",
      " 'growing, and typically have a poor prognosis.',\n",
      " 'Astrocytic tumors are a type of brain tumor originating from astrocytes, '\n",
      " 'which are star-shaped glial cells in the central nervous system. They vary '\n",
      " 'in malignancy, ranging from low-grade, slow-growing tumors to highly '\n",
      " 'malignant, aggressive forms. Treatment options and prognosis depend on the '\n",
      " \"tumor's grade and location, with common approaches including surgery, \"\n",
      " 'radiation therapy, and chemotherapy.',\n",
      " 'The document is a reference to the World Health Organization Classification '\n",
      " 'of Tumours of the Central Nervous System, authored by Louis DN, Ohgaki H, '\n",
      " 'Wiestler OD, and Cavenee WK, and published by IARC in Lyon in 2007. It is '\n",
      " 'linked to a webpage from the National Cancer Institute (NCI) that provides '\n",
      " 'information on the treatment of adult central nervous system tumors.',\n",
      " 'Oligodendroglial tumors are a type of brain tumor that originate from '\n",
      " 'oligodendrocytes, the cells responsible for producing the myelin sheath that '\n",
      " 'insulates nerve fibers. These tumors are categorized into oligodendrogliomas '\n",
      " 'and anaplastic oligodendrogliomas, with the latter being more aggressive. '\n",
      " 'They are characterized by specific genetic alterations, particularly the '\n",
      " 'co-deletion of chromosome arms 1p and 19q, which is associated with better '\n",
      " 'response to therapy and prognosis. Treatment often involves a combination of '\n",
      " 'surgery, radiation, and chemotherapy.',\n",
      " 'Oligoastrocytic tumors are a type of brain tumor that contain both '\n",
      " 'oligodendrocytes and astrocytes. They are classified as mixed gliomas and '\n",
      " 'can exhibit varying degrees of malignancy. Treatment typically involves '\n",
      " \"surgery, radiation, and chemotherapy, depending on the tumor's grade and \"\n",
      " 'location.',\n",
      " 'Ependymal tumors are a type of brain tumor that originates from ependymal '\n",
      " 'cells lining the ventricles and central canal of the spinal cord. They can '\n",
      " 'occur at any age but are most common in children and young adults. These '\n",
      " 'tumors can vary in their aggressiveness and are categorized into different '\n",
      " 'grades, with treatment options including surgery, radiation therapy, and, '\n",
      " 'occasionally, chemotherapy. The prognosis depends on factors such as tumor '\n",
      " \"grade, location, and the patient's age.\",\n",
      " 'The text refers to a publication on the World Health Organization '\n",
      " 'Classification of Tumours of the Central Nervous System, reprinted with '\n",
      " \"permission, and provides links to the National Cancer Institute's PDQ® \"\n",
      " 'resource on adult central nervous system tumor treatment.',\n",
      " 'Choroid plexus tumors are rare brain tumors that originate from the choroid '\n",
      " 'plexus, a structure in the brain responsible for producing cerebrospinal '\n",
      " 'fluid. These tumors can be benign (choroid plexus papilloma) or malignant '\n",
      " '(choroid plexus carcinoma) and are more common in children than adults. '\n",
      " 'Symptoms often include increased intracranial pressure due to excess '\n",
      " 'cerebrospinal fluid production or obstruction. Diagnosis typically involves '\n",
      " 'imaging studies and sometimes biopsy, while treatment options may include '\n",
      " 'surgery, chemotherapy, or radiation, depending on the tumor type and stage.',\n",
      " 'Other neuroepithelial tumors refer to a group of rare brain tumors '\n",
      " 'originating from neuroepithelial tissue. These tumors have distinct '\n",
      " 'biological and clinical characteristics, differing from more common brain '\n",
      " 'tumors like gliomas. They often present unique challenges in diagnosis and '\n",
      " 'treatment due to their rarity and diverse subtypes.',\n",
      " 'This category includes tumors composed of neuronal and mixed neuronal-glial '\n",
      " 'cells, which are a type of brain tumor. These tumors are characterized by '\n",
      " 'the presence of both neurons and glial cells, and they can vary in their '\n",
      " 'composition and behavior. They are typically found in the central nervous '\n",
      " 'system and can affect both children and adults. The classification and '\n",
      " 'management of these tumors depend on their specific cellular makeup and '\n",
      " 'clinical characteristics.',\n",
      " 'The text is a reprinted reference from a World Health Organization '\n",
      " 'classification of central nervous system tumors, published by IARC in 2007, '\n",
      " \"and includes links to the National Cancer Institute's PDQ® resource on \"\n",
      " 'treatment for adult central nervous system tumors.',\n",
      " 'Pineal tumors are abnormal growths located in the pineal gland, which can '\n",
      " 'affect hormone production and lead to neurological symptoms. They are rare '\n",
      " 'and can be classified into different types based on their cellular origin, '\n",
      " 'including germ cell tumors, pineal parenchymal tumors, and gliomas. '\n",
      " 'Treatment options often involve a combination of surgery, radiation therapy, '\n",
      " 'and chemotherapy, depending on the tumor type and patient condition. '\n",
      " 'Diagnosis typically includes imaging studies and sometimes biopsy to '\n",
      " 'determine the specific tumor type.',\n",
      " 'Embryonal tumors are a group of malignant brain tumors that primarily occur '\n",
      " 'in children. They originate from embryonic tissue and include types such as '\n",
      " 'medulloblastomas, atypical teratoid/rhabdoid tumors, and others. These '\n",
      " 'tumors are characterized by rapid growth and a high degree of malignancy, '\n",
      " 'often requiring aggressive treatment strategies including surgery, '\n",
      " 'chemotherapy, and radiation.',\n",
      " 'The text references a publication on the World Health Organization '\n",
      " 'Classification of Tumours of the Central Nervous System by Louis, Ohgaki, '\n",
      " 'Wiestler, and Cavenee from 2007, along with links to the National Cancer '\n",
      " \"Institute's treatment guidelines for adult brain tumors.\",\n",
      " 'Tumors of the cranial and paraspinal nerves refer to abnormal growths that '\n",
      " 'occur on or around the nerves located in these areas. These tumors can be '\n",
      " 'benign or malignant and may affect nerve function, leading to various '\n",
      " 'neurological symptoms depending on their location and size. Common types '\n",
      " 'include schwannomas and neurofibromas. Treatment options often involve '\n",
      " 'surgical removal, radiation therapy, or a combination of approaches to '\n",
      " 'manage symptoms and prevent complications. Early diagnosis and treatment are '\n",
      " 'crucial for optimal outcomes.',\n",
      " 'Meningeal tumors are abnormal growths that occur in the meninges, the '\n",
      " 'protective membranes surrounding the brain and spinal cord. These tumors can '\n",
      " 'be benign or malignant and may cause symptoms such as headaches, seizures, '\n",
      " 'and neurological deficits, depending on their size and location. Treatment '\n",
      " 'options typically include surgery, radiation therapy, and, in some cases, '\n",
      " \"chemotherapy, with the choice depending on the tumor's characteristics and \"\n",
      " 'patient health.',\n",
      " 'Adult Central Nervous System Tumors Treatment (PDQ®) from the NCI addresses '\n",
      " 'tumors in the sellar region, as classified by the World Health Organization. '\n",
      " 'The source is from a 2007 publication by Louis, Ohgaki, Wiestler, and '\n",
      " 'Cavenee.',\n",
      " 'Genomic alterations in genes such as BRAF, IDH1, and IDH2, along with 1p/19q '\n",
      " 'codeletion, are key markers in certain glioma subtypes. These mutations '\n",
      " 'assist in diagnosis and prognosis, with 1p/19q codeletion indicating '\n",
      " 'chemotherapy response, particularly in oligodendrogliomas. Pilocytic '\n",
      " 'astrocytomas often show BRAF alterations, with tandem duplication leading to '\n",
      " 'KIAA1549::BRAF fusion in 70% of cases, while BRAF V600E mutations occur in '\n",
      " '5-9%. Grade II and III diffuse gliomas and some glioblastomas frequently '\n",
      " 'have IDH1 or IDH2 mutations, which are strong prognostic factors linked to '\n",
      " 'longer survival. These genetic markers are useful for differentiating glioma '\n",
      " 'types and have diagnostic significance, with IDH mutations detectable via '\n",
      " 'immunohistochemical analysis. Different CNS tumors exhibit distinct genetic '\n",
      " 'alterations, sometimes tied to familial tumor syndromes.',\n",
      " 'This list of references includes key publications on the classification, '\n",
      " 'genetic mutations, and prognosis of brain and central nervous system tumors. '\n",
      " 'It covers the WHO classifications, BRAF gene fusions in astrocytomas, and '\n",
      " \"IDH1/IDH2 mutations' impact on glioma prognosis. Other studies focus on \"\n",
      " 'chromosomal alterations in oligodendroglioma and diagnostic markers for '\n",
      " 'astrocytomas.',\n",
      " 'Treatment options for adult primary CNS tumors include surgery, radiation '\n",
      " 'therapy, chemotherapy, active surveillance, and supportive therapy. '\n",
      " 'Treatment varies based on tumor histology and location, with glioblastoma '\n",
      " 'typically receiving combined modality therapy (resection, radiation, and '\n",
      " 'chemotherapy). Surgery aims for as complete removal as possible while '\n",
      " 'preserving neurological function, but total elimination is rare. The benefit '\n",
      " 'of surgery is supported by observational evidence, though not tested in '\n",
      " 'randomized trials. Deep-seated tumors like pontine gliomas often bypass '\n",
      " 'initial surgery. Intraoperative techniques help balance tumor removal with '\n",
      " 'functional preservation.',\n",
      " 'Intraoperative neurological assessments during brain tumor surgeries offer '\n",
      " 'real-time evaluations, including MRI monitoring and language mapping, to '\n",
      " 'balance tumor resection and neurological function preservation. Hospital and '\n",
      " 'surgeon volume significantly affect postoperative mortality rates for '\n",
      " 'primary brain tumor surgeries, with higher volume hospitals and surgeons '\n",
      " 'showing lower in-hospital mortality rates. Although in-hospital mortality '\n",
      " 'decreased over the study period, the decline was more pronounced in '\n",
      " 'high-volume hospitals. These findings may be influenced by factors such as '\n",
      " 'referral patterns and patient selection.',\n",
      " 'Radiation therapy plays a crucial role in treating high-grade gliomas, '\n",
      " 'demonstrating a significant survival advantage over non-radiation '\n",
      " 'treatments. A systematic review of trials confirmed this benefit, '\n",
      " 'highlighting a standard EBRT dose of 60 Gy as more effective than lower '\n",
      " 'doses. Techniques like 3D-CRT and IMRT are standard, while dose escalation '\n",
      " 'with radiosurgery has not improved outcomes. Brachytherapy is less common '\n",
      " 'due to technical demands. For low-grade gliomas, treatment options include '\n",
      " 'observation, PORT, and chemotherapy. The EORTC-22845 trial showed improved '\n",
      " 'progression-free survival with radiation, but no difference in overall '\n",
      " 'survival, due to longer post-progression survival in the control group.',\n",
      " 'The EORTC 22033-26033 trial compared radiation therapy and temozolomide '\n",
      " 'chemotherapy in 707 patients with low-grade glioma and at least one '\n",
      " 'high-risk feature. There was no significant difference in progression-free '\n",
      " 'survival (PFS) or quality of life between the two treatments. At a median '\n",
      " 'follow-up of 48 months, the median PFS was 39 months for temozolomide and 46 '\n",
      " 'months for radiation therapy. An exploratory analysis showed that patients '\n",
      " 'with IDH mutations without 1p/19q codeletion had longer PFS with radiation '\n",
      " 'therapy. IDH wild-type tumors had the worst prognosis, while IDH-mutated '\n",
      " 'tumors with 1p/19q codeletion had the best prognosis. MGMT promoter was '\n",
      " 'methylated in all IDH mutations with 1p/19q codeletion, 86% of IDH mutations '\n",
      " 'without 1p/19q codeletion, and 56% of IDH wild-type cases.',\n",
      " 'There are no randomized trials to determine the role of repeat radiation '\n",
      " 'after disease progression in adult central nervous system tumors, and the '\n",
      " 'literature is limited to small retrospective case series. Repeat radiation '\n",
      " 'must be approached cautiously due to risks like neurocognitive deficits. '\n",
      " 'Radiosurgery can safely re-irradiate recurrent tumors within tolerable dose '\n",
      " 'limits. Historically, carmustine was the standard chemotherapy for malignant '\n",
      " 'gliomas, but a meta-analysis showed a modest survival impact. A large trial '\n",
      " 'found a survival advantage with temozolomide plus radiation, making '\n",
      " 'temozolomide the new standard. For high-risk, low-grade gliomas, and '\n",
      " 'anaplastic oligodendroglial tumors, adding PCV chemotherapy to radiation '\n",
      " 'extends survival after surgery.',\n",
      " 'Localized chemotherapy using biodegradable carmustine wafers allows high '\n",
      " 'doses of chemotherapy directly to the tumor site, reducing systemic toxicity '\n",
      " 'and focusing on controlling intracranial disease. Studies show an overall '\n",
      " 'survival (OS) advantage with carmustine wafers compared to radiation therapy '\n",
      " 'alone. One small trial demonstrated better OS in the carmustine group but '\n",
      " 'had an imbalance in tumor grades. A larger multicenter study with 240 '\n",
      " 'patients found a median survival of 13.8 months with carmustine wafers '\n",
      " 'versus 11.6 months with placebo, showing a significant survival benefit. A '\n",
      " 'systematic review estimated an overall mortality hazard ratio of 0.65, '\n",
      " 'indicating improved survival with carmustine wafers.',\n",
      " 'Active surveillance is suitable for asymptomatic low-grade meningiomas '\n",
      " 'detected through sensitive neuroimaging, as they often show minimal growth '\n",
      " 'and can be monitored until growth or symptoms occur. Supportive therapy for '\n",
      " 'brain tumors includes using dexamethasone, mannitol, and furosemide to treat '\n",
      " 'peritumoral edema, while anticonvulsants are necessary for patients '\n",
      " 'experiencing seizures.',\n",
      " 'The text provides a list of studies and clinical trials related to the '\n",
      " 'treatment of adult central nervous system tumors, particularly gliomas. It '\n",
      " 'includes research on the effectiveness of temozolomide chemotherapy versus '\n",
      " 'radiotherapy, health-related quality of life in patients with gliomas, the '\n",
      " 'potential role of reirradiation in radiation-induced malignant gliomas, and '\n",
      " 'various chemotherapy regimens such as the use of nitrosoureas, procarbazine, '\n",
      " 'CCNU, vincristine, and carmustine-loaded polymers. The studies explore '\n",
      " 'different treatment combinations and their impacts on survival and quality '\n",
      " 'of life for patients with glioblastoma and other gliomas.',\n",
      " 'The text provides references to studies related to the treatment of adult '\n",
      " 'central nervous system tumors, specifically focusing on glioma and '\n",
      " 'meningioma. It mentions the use of Gliadel wafers in surgery for malignant '\n",
      " 'glioma, chemotherapeutic wafers for high-grade glioma, and discusses the '\n",
      " 'natural history and surgical indications for incidental and asymptomatic '\n",
      " 'meningiomas. Additionally, it refers to a table outlining treatment options '\n",
      " 'for different tumor types, including astrocytic tumors.',\n",
      " 'The page from the National Cancer Institute provides information on '\n",
      " 'treatment options for adult central nervous system tumors. The document '\n",
      " 'likely outlines various tumor types and corresponding treatments, offering '\n",
      " 'guidance for healthcare professionals on managing these conditions.',\n",
      " 'Oligodendroglial tumors are a type of brain tumor originating from '\n",
      " 'oligodendrocytes, which are cells responsible for producing and maintaining '\n",
      " 'the myelin sheath in the central nervous system. These tumors are '\n",
      " 'categorized into two main types: oligodendrogliomas and anaplastic '\n",
      " 'oligodendrogliomas, with the latter being more aggressive. They commonly '\n",
      " 'occur in adults, particularly in the frontal lobes of the brain, and are '\n",
      " 'characterized by specific genetic alterations, including the co-deletion of '\n",
      " 'chromosomes 1p and 19q. Treatment typically involves a combination of '\n",
      " 'surgery, radiation therapy, and chemotherapy, with prognosis varying based '\n",
      " 'on the tumor grade and genetic factors.',\n",
      " 'Embryonal cell tumors are a type of adult central nervous system tumor, and '\n",
      " 'the National Cancer Institute provides treatment options for these tumors.',\n",
      " 'Meningeal tumors are growths that occur in the meninges, the protective '\n",
      " 'membranes covering the brain and spinal cord. They can vary in type from '\n",
      " 'benign to malignant, with meningiomas being the most common form. Symptoms '\n",
      " 'depend on the size and location of the tumor and may include headaches, '\n",
      " 'seizures, and neurological deficits. Diagnosis typically involves imaging '\n",
      " 'studies such as MRI or CT scans, and treatment options can include surgery, '\n",
      " \"radiation therapy, or observation, depending on the tumor's characteristics \"\n",
      " 'and patient factors.',\n",
      " 'The document outlines treatment options for various types of tumors in the '\n",
      " 'sellar region and astrocytic tumors. For craniopharyngiomas, treatments '\n",
      " 'include surgery alone or debulking surgery with radiation therapy. Brain '\n",
      " 'stem gliomas have poor prognoses, with a median survival of 44 to 74 weeks, '\n",
      " 'and are primarily treated with radiation therapy. Pineal astrocytic tumors '\n",
      " 'have variable prognoses based on anaplasia, treated with surgery plus '\n",
      " 'radiation, and chemotherapy for higher-grade tumors. Pilocytic astrocytomas, '\n",
      " 'classified as WHO grade I, are often curable with surgery, with radiation '\n",
      " 'therapy for residuals. Diffuse astrocytomas (WHO grade II) are less curable, '\n",
      " 'treated with surgery and possibly radiation and chemotherapy. Timing of '\n",
      " 'radiation is debated, with early radiation improving progression-free '\n",
      " 'survival in a specific trial.',\n",
      " 'In a trial, no difference in overall survival was observed between patients '\n",
      " 'receiving radiation therapy post-surgery and those treated at progression. '\n",
      " 'Surgery alone is sometimes used for low-risk patients under 40 without '\n",
      " 'contrast enhancement on CT scans. For high-risk, low-grade (WHO grade II) '\n",
      " 'tumors, radiation followed by six cycles of PCV chemotherapy is recommended, '\n",
      " 'significantly improving progression-free survival (PFS) and overall survival '\n",
      " '(OS). This benefit was especially noted in oligodendroglial tumors. IDH1 and '\n",
      " 'IDH2 mutations in diffuse gliomas are significant independent prognostic '\n",
      " 'factors, aiding in identifying high-risk patients. Molecular data from the '\n",
      " 'RTOG 98-02 trial on the benefit of PCV addition is yet to be reported.',\n",
      " 'Anaplastic astrocytomas, classified as WHO grade III, have low cure rates '\n",
      " 'with standard local treatments. Treatment options include surgery with '\n",
      " 'radiation therapy, with or without chemotherapy, or surgery with '\n",
      " 'chemotherapy alone. A subset of these tumors is aggressive and often treated '\n",
      " 'similarly to glioblastomas, though optimal treatment is not yet established. '\n",
      " 'Two active phase III trials (NCT00626990 and NCT00887146) focus on these '\n",
      " 'tumors, but efficacy data are pending. IDH1 and IDH2 mutations, present in '\n",
      " '50-70% of cases, correlate with improved survival and may inform treatment '\n",
      " 'decisions. Studies comparing postoperative radiation and chemotherapy in '\n",
      " 'anaplastic gliomas show no significant difference in time-to-treatment '\n",
      " 'failure or overall survival. Patients may consider clinical trials for '\n",
      " 'innovative treatments.',\n",
      " 'The cure rate for glioblastoma (WHO grade IV) is low with standard '\n",
      " 'treatments. Methylation of the MGMT gene promoter is associated with '\n",
      " 'improved survival and may predict response to temozolomide chemotherapy, '\n",
      " 'although its predictive value is uncertain. Standard treatment involves '\n",
      " 'surgery, radiation, and temozolomide, showing improved survival rates '\n",
      " 'compared to radiation alone. A study (NCT00006353) demonstrated better '\n",
      " 'outcomes with combined radiation and temozolomide, particularly for patients '\n",
      " 'with MGMT promoter methylation, which is an independent favorable prognostic '\n",
      " 'factor. Median overall survival for methylated MGMT patients was 18.2 months '\n",
      " 'versus 12.2 months for non-methylated. Various treatment options exist, but '\n",
      " 'adding bevacizumab did not improve overall survival.',\n",
      " 'A trial by RTOG, EORTC, and the North Central Cancer Therapy Group compared '\n",
      " 'standard adjuvant temozolomide with a dose-dense schedule in patients '\n",
      " 'treated with surgery and radiation for glioblastoma. Among 833 patients, no '\n",
      " 'significant difference was found in overall survival (OS) or '\n",
      " 'progression-free survival (PFS) between the two regimens, regardless of MGMT '\n",
      " 'methylation status. MGMT methylation showed a strong prognostic effect, with '\n",
      " 'higher median OS for methylated tumors. The efficacy of dose-dense '\n",
      " 'temozolomide for recurrent glioblastoma remains undetermined. In two phase '\n",
      " 'III trials (RTOG 0825 and AVAglio), bevacizumab did not improve OS in newly '\n",
      " 'diagnosed glioblastoma patients but increased median PFS in RTOG 0825.',\n",
      " 'The AVAglio trial showed that adding bevacizumab to standard glioblastoma '\n",
      " 'therapy improved progression-free survival (PFS) and delayed corticosteroid '\n",
      " 'use but did not enhance overall survival (OS). Bevacizumab-treated patients '\n",
      " 'had longer functional independence and delayed performance status '\n",
      " 'deterioration. However, results regarding health-related quality of life '\n",
      " '(HRQOL) and neurocognitive outcomes were inconsistent between AVAglio and '\n",
      " \"RTOG 0825 trials. No conclusive evidence supports bevacizumab's benefit for \"\n",
      " 'all glioblastoma patients, though some subgroups may benefit. Glioblastoma '\n",
      " 'patients are candidates for clinical trials to explore additional '\n",
      " 'treatments.',\n",
      " 'Oligodendrogliomas (WHO grade II) generally have better prognoses than '\n",
      " 'diffuse astrocytomas, especially those with 1p/19q codeletion, which '\n",
      " 'indicates longer survival. Treatment options include surgery, with or '\n",
      " 'without radiation therapy, and surgery with radiation therapy and '\n",
      " 'chemotherapy. The timing of radiation therapy post-surgery remains '\n",
      " 'controversial, as a study showed no difference in overall survival between '\n",
      " 'immediate radiation and watchful waiting. For high-risk, low-grade tumors, '\n",
      " 'radiation followed by PCV chemotherapy is recommended, particularly '\n",
      " 'benefiting oligodendroglial tumors. The presence of IDH1, IDH2 mutations, '\n",
      " 'and 1p/19q codeletion are important prognostic factors for survival. '\n",
      " 'Molecular data from trials like RTOG-9802 could help determine which '\n",
      " 'patients benefit most from PCV, though such data are not yet available.',\n",
      " 'Patients with anaplastic oligodendrogliomas (WHO grade III) have better '\n",
      " 'prognoses than those with anaplastic astrocytomas, especially if they have a '\n",
      " '1p/19q codeletion. Treatment options include surgery plus radiation therapy '\n",
      " 'with or without chemotherapy. Findings from the EORTC trial show that adding '\n",
      " 'PCV chemotherapy to radiation therapy improves overall survival (OS) and '\n",
      " 'progression-free survival (PFS) compared to radiation alone, particularly '\n",
      " 'for 1p/19q-codeleted tumors. The RTOG trial found no survival difference '\n",
      " 'between intensive PCV chemotherapy plus radiation versus radiation alone, '\n",
      " 'except for a subgroup with 1p/19q-codeleted tumors. Radiation therapy alone '\n",
      " 'is no longer sufficient for 1p/19q-codeleted tumors, leading to changes in '\n",
      " \"trial designs such as CODEL. Temozolomide and PCV chemotherapy's efficacy in \"\n",
      " \"anaplastic oligodendroglioma hasn't been directly compared, and combining \"\n",
      " 'radiation with chemotherapy shows no superiority over sequential therapy.',\n",
      " 'Anaplastic oligodendrogliomas with IDH1/IDH2 mutations and 1p/19q codeletion '\n",
      " 'are associated with improved survival, and PCV chemotherapy may be '\n",
      " 'predictive in treatment. Mixed gliomas have variable prognoses based on '\n",
      " 'IDH1/IDH2 and 1p/19q status, and treatment is often similar to astrocytic '\n",
      " 'tumors. Testing for molecular markers is recommended to guide treatment '\n",
      " 'decisions. Ependymal tumors (WHO grades I and II) are often curable with '\n",
      " 'surgery, with radiation therapy for residual tumors. Anaplastic ependymomas '\n",
      " '(WHO grade III) have variable prognoses and are treated with surgery plus '\n",
      " 'radiation therapy.',\n",
      " 'Medulloblastomas primarily affect children but can occur in adults, with '\n",
      " 'treatment involving surgery and craniospinal radiation, and possibly '\n",
      " 'chemotherapy for poor-risk patients. Pineal parenchymal tumors vary in '\n",
      " 'growth and prognosis; treatment includes surgery and radiation, with '\n",
      " 'chemotherapy added for pineoblastomas. WHO grade I meningiomas are often '\n",
      " 'curable if resectable, detected increasingly due to advanced imaging. '\n",
      " 'Treatment can include active surveillance, surgery, stereotactic '\n",
      " 'radiosurgery for smaller tumors, surgery plus radiation for residual or '\n",
      " 'recurrent disease, or fractionated radiation for unresectable tumors.',\n",
      " 'Prognoses for WHO grade II and III meningiomas and hemangiopericytomas are '\n",
      " 'poorer than for low-grade meningiomas due to challenges in complete '\n",
      " 'resections and higher proliferative capacity. Treatment options include '\n",
      " \"surgery with radiation. Germ cell tumors' prognoses and treatments depend on \"\n",
      " 'histology, location, markers, and resectability, while craniopharyngiomas '\n",
      " '(WHO grade I) are often curable, treated with surgery or surgery plus '\n",
      " 'radiation. Clinical trials are recommended for difficult CNS tumors, with '\n",
      " 'heavy-particle radiation and novel biological therapies like dendritic cell '\n",
      " 'vaccination and tyrosine kinase inhibitors under evaluation.',\n",
      " 'The document provides information on treatments for adult central nervous '\n",
      " 'system tumors, including experimental therapies such as viral-based gene '\n",
      " 'therapy, oncolytic viruses, epidermal growth factor-receptor inhibitors, and '\n",
      " 'vascular endothelial growth factor inhibitors. It highlights the '\n",
      " 'availability of NCI-supported clinical trials, with search options based on '\n",
      " 'trial location, treatment type, and drug name. The document also references '\n",
      " 'studies on radiotherapy for low-grade gliomas, genomic analyses of '\n",
      " 'glioblastoma multiforme, and the prognostic significance of IDH1 and IDH2 '\n",
      " 'mutations in gliomas.',\n",
      " 'The document provides a list of studies related to the treatment of adult '\n",
      " 'central nervous system tumors, specifically focusing on gliomas and '\n",
      " 'glioblastomas. Key topics include the impact of IDH1 and IDH2 mutations, the '\n",
      " 'efficacy of various chemotherapy and radiotherapy combinations, and the '\n",
      " 'prognostic significance of genetic alterations such as chromosome arms 1p '\n",
      " 'and 19q. Notable studies highlight the benefits of temozolomide, the use of '\n",
      " 'bevacizumab, and the outcomes of different treatment regimens for '\n",
      " 'glioblastoma and oligodendroglioma.',\n",
      " 'The provided text includes references to studies and clinical trials '\n",
      " 'concerning the treatment and classification of adult central nervous system '\n",
      " 'tumors. Key topics covered include the effectiveness of various chemotherapy '\n",
      " 'protocols, such as procarbazine, lomustine, and vincristine for anaplastic '\n",
      " 'oligodendroglioma; the comparison of temozolomide with other chemotherapies '\n",
      " 'for high-grade gliomas; the role of genetic mutations in gliomas, such as '\n",
      " 'ATRX, CIC, FUBP1, IDH1, IDH2, and TERT promoter mutations, in defining tumor '\n",
      " 'subgroups; and the prognosis and treatment of ependymomas and '\n",
      " 'medulloblastomas. Additionally, the text discusses the management and '\n",
      " 'natural history of meningiomas, including the indications for surgery and '\n",
      " 'the efficacy of fractionated stereotactic radiotherapy for large '\n",
      " 'base-of-skull meningiomas.',\n",
      " 'The treatment of primary tumors of the spinal axis primarily involves '\n",
      " 'surgery and radiation therapy, with options varying based on tumor '\n",
      " 'histology. Chemotherapy is limited for primary spinal cord tumors, lacking '\n",
      " 'controlled clinical trials. It is recommended for patients with '\n",
      " 'leptomeningeal involvement and positive cerebrospinal fluid cytology. '\n",
      " 'Corticosteroids are often used, especially alongside radiation therapy. '\n",
      " 'Patients with incurable or unresectable tumors are encouraged to consider '\n",
      " 'clinical trials, with information available on the NCI website.',\n",
      " 'Metastatic brain tumors are significantly more common than primary brain '\n",
      " 'tumors, occurring in 20% to 40% of cancer patients, with a median survival '\n",
      " 'of less than 6 months. An estimated 98,000 to 170,000 new cases are '\n",
      " 'diagnosed annually in the U.S., a figure possibly rising due to better '\n",
      " 'detection and improved systemic therapy. Common primary sources include '\n",
      " 'lung, breast, unknown primary, melanoma, colorectal, and kidney cancers. '\n",
      " 'Most metastases occur in the cerebral hemispheres, with multiple metastases '\n",
      " 'more prevalent. Diagnosis is based on patient history, neurological exams, '\n",
      " 'and MRI, with symptoms including headaches, weakness, seizures, sensory '\n",
      " 'defects, and gait problems. Observations by others might include lethargy, '\n",
      " 'emotional changes, and personality shifts.',\n",
      " 'The diagnosis of brain metastasis involves physical examinations and imaging '\n",
      " 'tests such as CT scans, MRIs, PET scans, and spectroscopic evaluations. A '\n",
      " 'brain biopsy may be required for solitary lesions or uncertain primary tumor '\n",
      " 'relationships. Treatment options include radiation therapy, radiosurgery, '\n",
      " 'surgical resection, corticosteroids, and anticonvulsants. Whole-brain '\n",
      " 'radiation therapy has been traditional, but stereotactic radiosurgery is '\n",
      " 'becoming more common. Surgery may be needed for unknown primary tumors or '\n",
      " 'significant mass effects. Chemotherapy is generally not primary but can be '\n",
      " 'combined with radiation for chemosensitive tumors and intrathecal '\n",
      " 'chemotherapy for meningeal spread.',\n",
      " 'For patients with one to four brain metastases, treatment options include '\n",
      " 'whole brain radiation therapy (WBRT) with or without surgical resection or '\n",
      " 'stereotactic radiosurgery, and focal therapy alone. Three randomized trials '\n",
      " 'showed mixed results on the benefit of surgical resection followed by WBRT '\n",
      " 'versus WBRT alone, with no significant overall survival (OS) difference in a '\n",
      " 'meta-analysis. WBRT post-surgery reduces brain tumor progression and death '\n",
      " 'from neurological causes without affecting OS. A Radiation Therapy Oncology '\n",
      " 'Group study found no OS difference between WBRT with a stereotactic boost '\n",
      " 'and WBRT alone, except a survival advantage in patients with a single '\n",
      " 'metastasis receiving combined therapy. Local control and Karnofsky '\n",
      " 'Performance status were better with combined therapy, but mental status '\n",
      " 'showed no difference.',\n",
      " 'In a phase III trial, patients with stable solid tumors and limited brain '\n",
      " 'metastases showed improved health-related quality of life and better '\n",
      " 'physical, role, and cognitive functioning at 9 months with observation after '\n",
      " 'surgery or radiosurgery compared to adjuvant whole-brain radiation therapy '\n",
      " '(WBRT). WBRT was associated with worse scores in several health aspects. A '\n",
      " 'meta-analysis of two trials found no significant difference in overall '\n",
      " 'survival between WBRT plus stereotactic radiosurgery and WBRT alone, but '\n",
      " 'combined therapy reduced local failure and maintained or improved '\n",
      " 'performance status in more patients. Studies indicate that while WBRT with '\n",
      " 'focal therapy decreases brain progression risk, it does not enhance overall '\n",
      " 'survival. Treatment options of focal therapy with or without WBRT should be '\n",
      " 'discussed considering their pros and cons.',\n",
      " 'The decrease in risk of intracranial disease progression does not improve '\n",
      " 'functional or neurological status or reduce the risk of death from '\n",
      " 'neurological deterioration. Approximately half of patients receiving focal '\n",
      " 'therapy alone need salvage therapy, compared to a quarter of those receiving '\n",
      " 'initial WBRT. The effect of WBRT on quality of life remains unclear. '\n",
      " 'Leptomeningeal Carcinomatosis (LC) occurs in 5% of cancer patients, with '\n",
      " 'breast, lung, and hematologic cancers being the most common sources. '\n",
      " 'Diagnosis involves neurospinal axis imaging and CSF cytology, with a median '\n",
      " 'overall survival of 10-12 weeks. Management includes intrathecal '\n",
      " 'chemotherapy, systemic chemotherapy, radiation therapy, and supportive care. '\n",
      " 'Poor prognostic factors for survival in LC include poor performance status, '\n",
      " 'high CSF protein levels, and high initial CSF white blood cell count. In '\n",
      " 'metastatic breast cancer with LC, the incidence varies by subtype, with '\n",
      " 'Luminal B being the highest at 31.6%.',\n",
      " 'Patients with triple-negative breast cancer experience a shorter interval '\n",
      " 'from metastatic breast cancer diagnosis to the development of leptomeningeal '\n",
      " 'carcinomatosis (LC), but median survival is similar across breast cancer '\n",
      " 'subtypes. Intrathecal administration of trastuzumab for patients with '\n",
      " 'HER2-positive LC has been suggested in case reports.',\n",
      " 'The document references various clinical studies and trials focused on the '\n",
      " 'treatment of brain metastases and leptomeningeal carcinomatosis. Studies '\n",
      " 'include trials comparing whole-brain radiation therapy (WBRT) with or '\n",
      " 'without stereotactic radiosurgery, exploring the impact on neurocognition, '\n",
      " 'quality of life, and survival outcomes. Research addresses brain metastases '\n",
      " 'from various primary cancers, including non-small-cell lung cancer and '\n",
      " 'breast cancer, evaluating treatment strategies such as surgery, WBRT, '\n",
      " 'radiosurgery, and observation to optimize patient outcomes.',\n",
      " 'Recurrent CNS tumors in adults are rarely curable, and clinical trial '\n",
      " 'enrollment is recommended. Treatment options include chemotherapy, '\n",
      " 'antiangiogenesis therapy, radiation therapy, and surgery. Localized '\n",
      " 'chemotherapy using carmustine wafers has been studied for recurrent '\n",
      " 'malignant gliomas. In a trial with 222 patients, those receiving carmustine '\n",
      " 'wafers had a median survival of 31 weeks versus 23 weeks for placebo, with a '\n",
      " 'hazard ratio of 0.67 after adjusting for prognostic factors, indicating a '\n",
      " 'positive outcome. However, a Cochrane review focusing on unadjusted analysis '\n",
      " 'found the trial negative.',\n",
      " 'Systemic therapy, including drugs like temozolomide and lomustine, is used '\n",
      " 'upon recurrence of primary malignant brain tumors but lacks controlled study '\n",
      " 'validation, making its impact on survival unclear. Bevacizumab, approved by '\n",
      " 'the FDA in 2009 for progressive glioblastoma, is based on improved response '\n",
      " 'rates from phase II trials, though no randomized controlled trials '\n",
      " 'demonstrate survival benefits or improved health outcomes.',\n",
      " 'The role of repeat radiation therapy after disease progression or for '\n",
      " 'radiation-induced cancers is unclear due to limited data from small '\n",
      " 'retrospective studies, and it poses risks like neurocognitive deficits and '\n",
      " 'radiation necrosis. Re-resection of recurrent CNS tumors is an option but '\n",
      " 'only for select patients; evidence on its impact is limited. The text also '\n",
      " 'mentions an advanced clinical trial search tool for finding ongoing '\n",
      " 'NCI-supported cancer trials.',\n",
      " 'The PDQ cancer information summary for Adult Central Nervous System Tumors '\n",
      " 'has been updated with new statistics for 2024, including estimated new cases '\n",
      " 'and deaths, and revised information on incidence and mortality rates. This '\n",
      " 'summary, reviewed and updated by the PDQ Adult Treatment Editorial Board, '\n",
      " 'provides evidence-based information for healthcare professionals but does '\n",
      " 'not offer formal healthcare guidelines. Updates are made based on a '\n",
      " 'consensus process evaluating recent literature, with Minh Tam Truong, MD, as '\n",
      " 'the lead reviewer. The summary is independent of NCI or NIH policy '\n",
      " 'statements.',\n",
      " 'The summary details the guidelines for using and citing the PDQ® Adult '\n",
      " 'Central Nervous System Tumors Treatment information provided by the National '\n",
      " 'Cancer Institute (NCI). The summary includes a system of evidence ranking '\n",
      " 'for assessing intervention efficacy, permissions for using PDQ content, and '\n",
      " 'citation preferences. It also notes that images in the summary require '\n",
      " 'permission for use outside PDQ contexts. Treatment options are categorized '\n",
      " 'based on evidence strength as \"standard\" or \"under clinical evaluation,\" and '\n",
      " 'these labels are not for insurance reimbursement decisions.',\n",
      " 'The National Cancer Institute provides information about contacting them for '\n",
      " 'help with their website and submitting questions via email. For reproduction '\n",
      " 'of their content, they require credit and a link to the original source. The '\n",
      " 'site includes detailed information on treatments for adult central nervous '\n",
      " 'system tumors and pituitary tumors. Pituitary tumors are abnormal cell '\n",
      " 'growths in the pituitary gland, affecting hormone production and control. '\n",
      " 'Risk factors include genetic conditions, and symptoms involve vision '\n",
      " 'problems and physical changes. Diagnosis involves imaging and blood/urine '\n",
      " 'tests, with prognosis and treatment options influenced by various factors.',\n",
      " 'Pituitary tumors are classified into three types: benign pituitary adenomas, '\n",
      " \"which grow slowly and don't spread; invasive pituitary adenomas, which may \"\n",
      " 'spread to nearby bones; and pituitary carcinomas, which are malignant and '\n",
      " 'can spread within or outside the central nervous system. Tumors can be '\n",
      " 'nonfunctioning, not producing extra hormones, or functioning, producing '\n",
      " 'excess hormones that cause symptoms. The pituitary gland regulates various '\n",
      " 'body glands by producing hormones such as prolactin, ACTH, growth hormone, '\n",
      " 'thyroid-stimulating hormone, luteinizing hormone, and follicle-stimulating '\n",
      " 'hormone, which oversee functions like milk production, stress response, '\n",
      " 'growth, metabolic control, and reproductive processes.',\n",
      " 'Certain genetic conditions, such as Multiple Endocrine Neoplasia Type 1 '\n",
      " '(MEN1) syndrome, Carney complex, and isolated familial acromegaly, increase '\n",
      " 'the risk of developing pituitary tumors. Not everyone with these risk '\n",
      " 'factors will develop tumors, and tumors can occur without any known risk '\n",
      " 'factors. Signs of a pituitary tumor include vision problems and physical '\n",
      " 'changes, depending on whether the tumor is functioning (producing hormones) '\n",
      " 'or nonfunctioning. Nonfunctioning tumors may cause symptoms due to pressure '\n",
      " 'on the pituitary gland, leading to hormone deficiencies. Functioning tumors '\n",
      " 'cause symptoms based on the excess hormones produced.',\n",
      " 'The document provides information on symptoms and diagnostic methods for '\n",
      " 'pituitary tumors. Symptoms include headaches, vision loss, menstrual '\n",
      " 'irregularities, infertility, impotence, reduced sex drive, unexpected breast '\n",
      " 'milk flow, and symptoms associated with excessive hormone production such as '\n",
      " 'ACTH, growth hormone, and thyroid-stimulating hormone. These symptoms '\n",
      " 'include weight changes, skin alterations, bone fragility, mood changes, '\n",
      " 'acromegaly, and heart irregularities. Diagnosis involves imaging studies, '\n",
      " 'blood and urine tests, personal and family health history, physical exams, '\n",
      " 'eye exams, and visual field tests.',\n",
      " 'The document outlines various diagnostic tests and procedures for pituitary '\n",
      " 'tumors. These include vision tests, neurological exams, MRI with gadolinium, '\n",
      " 'blood chemistry studies, hormone-level blood tests, 24-hour urine tests, and '\n",
      " 'dexamethasone suppression tests to evaluate cortisol levels. Venous sampling '\n",
      " 'assesses ACTH levels, while biopsies allow for microscopic examination of '\n",
      " 'tissue. Further tests on biopsy samples include immunohistochemistry, '\n",
      " 'immunocytochemistry, and light and electron microscopy to identify cancer '\n",
      " 'markers and differentiate cancer types.',\n",
      " 'The prognosis and treatment options for pituitary tumors depend on the tumor '\n",
      " 'type, size, hormone production, and whether it has spread within the central '\n",
      " 'nervous system or to other body parts. Tumors can be classified by size: '\n",
      " 'microadenomas (less than 1 cm) and macroadenomas (1 cm or larger). The grade '\n",
      " 'is determined by the extent of growth into surrounding brain areas. Tests, '\n",
      " 'such as MRI, are conducted to assess spread. There is no standard staging '\n",
      " 'system for pituitary tumors, but they can recur after treatment.',\n",
      " 'Pituitary tumors can recur after treatment and may reappear in the pituitary '\n",
      " 'gland or elsewhere in the body. Treatment options include surgery, radiation '\n",
      " 'therapy, drug therapy, and chemotherapy, with new treatments being tested in '\n",
      " 'clinical trials. Clinical trials, which aim to improve or discover new '\n",
      " 'treatments, may be considered at various stages of treatment. Surgery '\n",
      " 'methods include transsphenoidal surgery, endoscopic transsphenoidal surgery, '\n",
      " 'and craniotomy. Adjuvant therapy, such as chemotherapy or radiation, may be '\n",
      " 'used post-surgery to reduce recurrence risk.',\n",
      " 'Radiation therapy is used to treat cancer by using high-energy x-rays or '\n",
      " 'other radiation to kill or inhibit cancer cells. External radiation is '\n",
      " 'delivered from outside the body, while stereotactic radiosurgery targets '\n",
      " 'tumors with a precise, high dose of radiation without actual surgery. Drug '\n",
      " 'therapy and chemotherapy are also treatments for pituitary tumors, with '\n",
      " 'chemotherapy being used for symptomatic relief in pituitary carcinomas. '\n",
      " 'Chemotherapy can be systemic or regional, depending on its delivery method. '\n",
      " 'New treatments are under clinical trials, and treatment may result in side '\n",
      " 'effects.',\n",
      " 'Participating in clinical trials may be the best treatment option for some '\n",
      " 'cancer patients, as these trials help determine the safety and effectiveness '\n",
      " 'of new treatments compared to standard therapies. Clinical trials play a '\n",
      " 'crucial role in cancer research and have led to many current standard '\n",
      " 'treatments. Patients involved in trials might receive standard or novel '\n",
      " 'treatments and contribute to future cancer treatment advancements. Trials '\n",
      " 'may focus on untreated patients, those with persistent cancer, or ways to '\n",
      " 'prevent recurrence or reduce side effects. Information on trials is '\n",
      " \"available on NCI's and ClinicalTrials.gov websites. Follow-up tests are \"\n",
      " 'necessary during and after treatment to assess effectiveness and monitor '\n",
      " 'changes or recurrence.',\n",
      " 'Treatment of nonfunctioning pituitary tumors primarily involves surgery '\n",
      " '(preferably transsphenoidal), followed by watchful waiting or radiation '\n",
      " 'therapy if the tumor recurs. For luteinizing and follicle-stimulating '\n",
      " 'hormone-producing tumors, surgery is the common approach. '\n",
      " 'Prolactin-producing tumors may be treated with drug therapy, surgery, '\n",
      " 'radiation therapy, or a combination of surgery and radiation. ACTH-producing '\n",
      " 'tumors are generally treated with surgery, possibly accompanied by radiation '\n",
      " 'therapy, drug therapy, or participation in a clinical trial for stereotactic '\n",
      " 'radiation surgery. Clinical trials for these treatments are available, '\n",
      " 'searchable by cancer type, patient age, and trial location.',\n",
      " 'Treatment for growth hormone-producing pituitary tumors typically involves '\n",
      " 'surgery (transsphenoidal or endoscopic transsphenoidal) to remove the tumor, '\n",
      " 'possibly with radiation therapy, and drug therapy to inhibit growth hormone '\n",
      " 'production. Thyroid-stimulating hormone-producing tumors also may be treated '\n",
      " 'with surgery and drug therapy to prevent hormone production. Pituitary '\n",
      " 'carcinomas are treated palliatively to alleviate symptoms and improve '\n",
      " 'quality of life, using surgery, radiation, drug therapy, and chemotherapy. '\n",
      " 'Clinical trials supported by NCI are available for patients seeking '\n",
      " 'additional treatment options.',\n",
      " 'Treatment for recurrent pituitary tumors may involve radiation therapy or '\n",
      " 'participation in a clinical trial of stereotactic radiation surgery. The '\n",
      " 'National Cancer Institute (NCI) offers resources for finding clinical trials '\n",
      " 'and provides general information about pituitary tumors and cancer '\n",
      " 'treatment. The Physician Data Query (PDQ) is a comprehensive cancer '\n",
      " 'information database by the NCI, featuring up-to-date summaries in both '\n",
      " 'technical and non-technical language, available in English and Spanish. PDQ '\n",
      " 'is a service of the NCI, which is part of the NIH.',\n",
      " 'This PDQ cancer information summary provides current information on the '\n",
      " 'treatment of pituitary tumors for patients, families, and caregivers, '\n",
      " 'without offering formal healthcare guidelines. It is maintained by expert '\n",
      " 'editorial boards who update it regularly. Clinical trials, which help '\n",
      " 'discover new treatments, are discussed, and patients are encouraged to '\n",
      " 'consider participating. The summary is freely usable as text but must be '\n",
      " 'cited properly if not shown in full. Images require separate permission for '\n",
      " 'use outside the summary.',\n",
      " 'The summaries should not be used for insurance reimbursement decisions. For '\n",
      " 'more information on insurance coverage, visit Cancer.gov. Contact details '\n",
      " 'and help are available on the Contact Us page, or questions can be submitted '\n",
      " 'via email through the website. For reproducing content, refer to Reuse of '\n",
      " 'NCI Information for copyright guidance, credit the National Cancer '\n",
      " 'Institute, and link to the original product.']\n"
     ]
    }
   ],
   "source": [
    "pprint(text_summaries)"
   ]
  },
  {
   "cell_type": "code",
   "execution_count": null,
   "metadata": {
    "colab": {
     "base_uri": "https://localhost:8080/"
    },
    "collapsed": true,
    "id": "DGDjhKtihUPE",
    "outputId": "ec130ff2-b160-4fec-9622-d60f70053f9e"
   },
   "outputs": [
    {
     "name": "stdout",
     "output_type": "stream",
     "text": [
      "['The image is a detailed anatomical illustration of the human brain in a '\n",
      " 'sagittal section. It is labeled with various parts of the brain, relevant '\n",
      " 'for understanding brain cancer treatment. Key features include:\\n'\n",
      " '\\n'\n",
      " '- **Cerebrum**: The largest part of the brain, shown in yellow.\\n'\n",
      " '- **Choroid Plexus**: Located near the ventricles, responsible for producing '\n",
      " 'cerebrospinal fluid.\\n'\n",
      " '- **Pineal Gland**: A small endocrine gland located near the center of the '\n",
      " 'brain.\\n'\n",
      " '- **Ventricles**: Fluid-filled spaces within the brain, shown in blue.\\n'\n",
      " '- **Hypothalamus**: Positioned below the thalamus, involved in hormone '\n",
      " 'release.\\n'\n",
      " '- **Optic Nerve**: Indicated at the front, transmitting visual information.\\n'\n",
      " '- **Pituitary Gland**: Shown below the hypothalamus, a critical endocrine '\n",
      " 'gland.\\n'\n",
      " '- **Brain Stem**: Includes the pons, medulla, and spinal cord, which are '\n",
      " 'essential for basic life functions.\\n'\n",
      " '- **Cerebellum**: Located at the back, involved in motor control.\\n'\n",
      " '\\n'\n",
      " 'The image is likely used in the context of explaining how different brain '\n",
      " 'regions may be affected by cancer or involved in treatment approaches. There '\n",
      " 'are no graphs or bar plots present in this image.',\n",
      " 'The image is a detailed anatomical illustration of the human brain in a '\n",
      " 'sagittal section view. It highlights various parts of the brain and '\n",
      " \"associated structures. Here's a detailed description:\\n\"\n",
      " '\\n'\n",
      " '- **Cerebrum**: The largest part of the brain, located at the top, depicted '\n",
      " 'in yellow. It is responsible for higher brain functions like thought and '\n",
      " 'action.\\n'\n",
      " '- **Choroid Plexus**: Shown near the top, involved in the production of '\n",
      " 'cerebrospinal fluid.\\n'\n",
      " '- **Pineal Gland**: A small, pea-shaped gland located near the center of the '\n",
      " 'brain.\\n'\n",
      " '- **Cerebellum**: Located at the back of the brain, illustrated in green, '\n",
      " 'responsible for motor control and coordination.\\n'\n",
      " '- **Ventricles (Fluid-filled spaces)**: Depicted in blue, these are cavities '\n",
      " 'within the brain that produce and contain cerebrospinal fluid.\\n'\n",
      " '- **Hypothalamus**: Located below the thalamus, involved in hormone '\n",
      " 'regulation and homeostasis.\\n'\n",
      " '- **Optic Nerve**: Shown extending from the eye to the brain, responsible '\n",
      " 'for visual information transmission.\\n'\n",
      " '- **Pituitary Gland**: A small gland located at the base of the brain, '\n",
      " 'involved in hormone secretion.\\n'\n",
      " '- **Pons**: Part of the brainstem, shown in purple, it connects the '\n",
      " 'cerebellum with the cerebrum.\\n'\n",
      " '- **Medulla**: Located below the pons, it controls autonomic functions such '\n",
      " 'as breathing and heart rate.\\n'\n",
      " '- **Brain Stem**: Includes the midbrain, pons, and medulla, crucial for '\n",
      " 'basic life functions.\\n'\n",
      " '- **Spinal Cord**: Extending downwards from the brainstem, it transmits '\n",
      " 'neural signals between the brain and the body.\\n'\n",
      " '\\n'\n",
      " 'This illustration is a useful reference for understanding the complex '\n",
      " 'anatomy of the brain, particularly in the context of brain cancer treatment '\n",
      " 'research. There are no graphs or bar plots in this image.',\n",
      " 'The image is an illustration depicting tumor sizes, comparing them to common '\n",
      " 'objects for better understanding. It includes a scale at the top for both '\n",
      " 'centimeters and inches, ranging from 1 to 10 cm and 0.5 to 4 inches.\\n'\n",
      " '\\n'\n",
      " 'Below the scale, various objects are shown with corresponding measurements:\\n'\n",
      " '\\n'\n",
      " '1. **1 cm**: A green pea.\\n'\n",
      " '2. **2 cm**: A peanut.\\n'\n",
      " '3. **3 cm**: A grape.\\n'\n",
      " '4. **4 cm**: A walnut.\\n'\n",
      " '5. **5 cm**: A lime.\\n'\n",
      " '6. **6 cm**: An egg.\\n'\n",
      " '7. **7 cm**: A peach.\\n'\n",
      " '8. **10 cm**: A grapefruit.\\n'\n",
      " '\\n'\n",
      " 'Each object is labeled with its size in centimeters, providing a visual '\n",
      " 'reference for the dimensions of tumors. The arrangement is linear, starting '\n",
      " 'from the smallest size on the left to the largest on the right. The '\n",
      " 'illustration helps in visualizing the scale of tumor sizes in a clear and '\n",
      " 'relatable manner.',\n",
      " 'The image is an anatomical illustration depicting the process of '\n",
      " 'transsphenoidal surgery, a procedure used to treat brain tumors, '\n",
      " 'particularly those affecting the pituitary gland. The illustration shows a '\n",
      " 'side view of a human head with a focus on the nasal and cranial structures.\\n'\n",
      " '\\n'\n",
      " 'Key elements in the image include:\\n'\n",
      " '\\n'\n",
      " '- **Brain:** The brain is shown in cross-section, highlighting its location '\n",
      " 'relative to the surgical area.\\n'\n",
      " '- **Cancer:** Labeled near the pituitary gland, indicating the target of the '\n",
      " 'surgical procedure.\\n'\n",
      " '- **Pituitary Gland:** Positioned below the brain, this gland is the focus '\n",
      " 'of the surgery.\\n'\n",
      " '- **Sphenoid Bone and Sphenoid Sinus:** These structures are depicted as '\n",
      " 'part of the pathway for the surgical instruments.\\n'\n",
      " '- **Endoscope:** A slender instrument inserted through the nasal passage to '\n",
      " 'provide visualization of the surgical site.\\n'\n",
      " '- **Curette:** Another surgical instrument used for the removal of the '\n",
      " 'tumor, shown alongside the endoscope.\\n'\n",
      " '\\n'\n",
      " 'The illustration emphasizes the minimally invasive approach of the surgery '\n",
      " 'through the nasal cavity, avoiding the need for open craniotomy. There are '\n",
      " 'no graphs or bar plots in this image.',\n",
      " 'The image is an illustration of a craniotomy, a surgical procedure to access '\n",
      " 'the brain. It depicts a side view of a human head with various layers of the '\n",
      " 'skull and brain exposed. \\n'\n",
      " '\\n'\n",
      " 'Key components include:\\n'\n",
      " '\\n'\n",
      " '- **Scalp**: Shown as a layer that has been incised and retracted.\\n'\n",
      " '- **Skull**: A section has been removed to expose the brain. The removed '\n",
      " 'piece is labeled \"Skull piece\" and is shown to the side.\\n'\n",
      " '- **Dura**: The outermost membrane covering the brain, depicted as being '\n",
      " 'incised.\\n'\n",
      " '- **Brain**: Visible under the dura, illustrating the area accessed during '\n",
      " 'the procedure.\\n'\n",
      " '- **Muscle**: Shown beneath the scalp layer.\\n'\n",
      " '\\n'\n",
      " 'An arrow indicates the direction of the surgical access. There are no graphs '\n",
      " 'or bar plots in this image.']\n"
     ]
    }
   ],
   "source": [
    "# Image summariser\n",
    "prompt_template = \"\"\"\n",
    "  Describe the image in detail. For context,\n",
    "  the image is part of a research paper explaining the treatment\n",
    "  of brain cancer. Be specific about graphs, such as bar plots if any.\n",
    "\"\"\"\n"
   ]
  },
  {
   "cell_type": "code",
   "execution_count": null,
   "metadata": {
    "id": "zlAiqsDKhqMW"
   },
   "outputs": [],
   "source": [
    "# The vectorstore to use to index the child chunks\n",
    "\n",
    "\n",
    "# The storage layer for the parent documents\n",
    "\n",
    "\n",
    "# The retriever (empty to start)\n"
   ]
  },
  {
   "cell_type": "code",
   "execution_count": null,
   "metadata": {},
   "outputs": [],
   "source": [
    "# Add texts\n"
   ]
  },
  {
   "cell_type": "code",
   "execution_count": null,
   "metadata": {},
   "outputs": [],
   "source": [
    "# Add tables\n",
    "table_ids = [str(uuid.uuid4()) for _ in tables]\n",
    "summary_tables = [\n",
    "    Document(page_content=summary, metadata={id_key: table_ids[i]}) for i, summary in enumerate(table_summaries)\n",
    "]\n",
    "retriever.vectorstore.add_documents(summary_tables)\n",
    "retriever.docstore.mset(list(zip(table_ids, tables)))"
   ]
  },
  {
   "cell_type": "code",
   "execution_count": null,
   "metadata": {
    "id": "GaQd0Pmyhp-l"
   },
   "outputs": [],
   "source": [
    "# Add image summaries\n",
    "img_ids = [str(uuid.uuid4()) for _ in images]\n",
    "summary_img = [\n",
    "    Document(page_content=summary, metadata={id_key: img_ids[i]}) for i, summary in enumerate(image_summaries)\n",
    "]\n",
    "retriever.vectorstore.add_documents(summary_img)\n",
    "retriever.docstore.mset(list(zip(img_ids, images)))"
   ]
  },
  {
   "cell_type": "code",
   "execution_count": null,
   "metadata": {
    "id": "wB85tRrakNvL"
   },
   "outputs": [],
   "source": [
    "# Retrieve\n",
    "docs = retriever.invoke(\"How to treat meningioma?\")"
   ]
  },
  {
   "cell_type": "code",
   "execution_count": null,
   "metadata": {
    "colab": {
     "base_uri": "https://localhost:8080/"
    },
    "collapsed": true,
    "id": "PKiJPot5hULD",
    "outputId": "e1f84eeb-8bd6-4c9f-d001-25149c94f329"
   },
   "outputs": [
    {
     "name": "stdout",
     "output_type": "stream",
     "text": [
      "—Grade I meningiomas Active surveillance with deferred treatment Surgery Stereotactic radiosurgery Surgery plus radiation therapy Fractionated radiation therapy —Grades II and III meningiomas and Surgery plus radiation therapy hemangiopericytomas Germ cell tumors Depends on multiple factors\n",
      "\n",
      "--------------------------------------------------------------------------------\n"
     ]
    }
   ],
   "source": [
    "for doc in docs:\n",
    "    print(str(doc) + \"\\n\\n\" + \"-\" * 80)"
   ]
  },
  {
   "cell_type": "code",
   "execution_count": null,
   "metadata": {},
   "outputs": [],
   "source": [
    "def parse_docs(docs):\n",
    "    \"\"\"Split base64-encoded images and texts\"\"\"\n",
    "    b64 = []\n",
    "    text = []\n",
    "    for doc in docs:\n",
    "        try:\n",
    "            b64decode(doc)\n",
    "            b64.append(doc)\n",
    "        except Exception as e:\n",
    "            text.append(doc)\n",
    "    return {\"images\": b64, \"texts\": text}"
   ]
  },
  {
   "cell_type": "code",
   "execution_count": null,
   "metadata": {
    "id": "jcrlaekJkmZ8"
   },
   "outputs": [],
   "source": [
    "def build_prompt(kwargs):\n",
    "    \n",
    "\n",
    "    return ChatPromptTemplate.from_messages([HumanMessage(content=prompt_content),])"
   ]
  },
  {
   "cell_type": "code",
   "execution_count": null,
   "metadata": {},
   "outputs": [],
   "source": [
    "# Text summariser retriever chain\n",
    "chain = (\n",
    "    {\n",
    "        \"context\": retriever | RunnableLambda(parse_docs),\n",
    "        \"question\": RunnablePassthrough(),\n",
    "    }\n",
    "    | RunnableLambda(build_prompt)\n",
    "    | gpt\n",
    "    | StrOutputParser()\n",
    ")"
   ]
  },
  {
   "cell_type": "code",
   "execution_count": null,
   "metadata": {},
   "outputs": [],
   "source": [
    "# Doc retriever chain\n",
    "chain_with_sources = {\n",
    "    \"context\": retriever | RunnableLambda(parse_docs),\n",
    "    \"question\": RunnablePassthrough(),\n",
    "} | RunnablePassthrough().assign(\n",
    "    response=(\n",
    "        RunnableLambda(build_prompt)\n",
    "        | gpt\n",
    "        | StrOutputParser()\n",
    "    )\n",
    ")"
   ]
  },
  {
   "cell_type": "code",
   "execution_count": null,
   "metadata": {
    "colab": {
     "base_uri": "https://localhost:8080/"
    },
    "id": "hAynCXlnlQsZ",
    "outputId": "97a201e3-8564-4397-8b44-e381a14bac65"
   },
   "outputs": [
    {
     "name": "stdout",
     "output_type": "stream",
     "text": [
      "The treatment for meningiomas varies based on the grade of the tumor:\n",
      "\n",
      "- **Grade I meningiomas**: Options include active surveillance with deferred treatment, surgery, stereotactic radiosurgery, surgery plus radiation therapy, or fractionated radiation therapy.\n",
      "  \n",
      "- **Grades II and III meningiomas**: Typically, the treatment involves surgery plus radiation therapy.\n",
      "\n",
      "The choice of treatment often depends on the specific characteristics of the tumor and the patient's overall health.\n"
     ]
    }
   ],
   "source": [
    "# response = chain.invoke(\"Show me a picture of the brain\")\n",
    "response = chain.invoke(\"How to treat meningioma\")\n",
    "\n",
    "print(response)"
   ]
  },
  {
   "cell_type": "code",
   "execution_count": null,
   "metadata": {
    "collapsed": true,
    "id": "0KXYveVDpt3g"
   },
   "outputs": [],
   "source": [
    "# response = chain_with_sources.invoke(\"Show me a picture of the brain\")\n",
    "response = chain_with_sources.invoke(\"How to treat meningioma\")\n",
    "\n",
    "if response['context']['images'] is not None:\n",
    "  for image in response['context']['images']:\n",
    "      display_base64_image(image)\n",
    "      break\n",
    "else:\n",
    "  print(\"Response:\", response['response'])\n",
    "\n",
    "# print(\"\\n\\nContext:\")\n",
    "# for text in response['context']['texts']:\n",
    "#     print(text.text)\n",
    "#     print(\"Page number: \", text.metadata.page_number)\n",
    "#     print(\"\\n\" + \"-\"*50 + \"\\n\")\n",
    "# for image in response['context']['images']:\n",
    "#     display_base64_image(image)"
   ]
  },
  {
   "cell_type": "code",
   "execution_count": null,
   "metadata": {
    "colab": {
     "base_uri": "https://localhost:8080/",
     "height": 790
    },
    "id": "sfXflsHHtRLo",
    "outputId": "2b61aa2c-38ea-4313-b6c9-3a6ae5649674"
   },
   "outputs": [
    {
     "name": "stdout",
     "output_type": "stream",
     "text": [
      "Here are pictures of the brain from the provided context.\n"
     ]
    },
    {
     "data": {
      "image/jpeg": "[encoded data removed]",
      "text/plain": [
       "<IPython.core.display.Image object>"
      ]
     },
     "metadata": {},
     "output_type": "display_data"
    }
   ],
   "source": [
    "response = chain.invoke(\"Show me a picture of the brain\")\n",
    "source = chain_with_sources.invoke(\"Show me a picture of the brain\")\n",
    "print(response)\n",
    "\n",
    "# for image in source['context']['images']:\n",
    "#   display_base64_image(image)\n",
    "\n",
    "display_base64_image(source['context']['images'][0])"
   ]
  }
 ],
 "metadata": {
  "colab": {
   "provenance": []
  },
  "kernelspec": {
   "display_name": "Python 3",
   "name": "python3"
  },
  "language_info": {
   "codemirror_mode": {
    "name": "ipython",
    "version": 3
   },
   "file_extension": ".py",
   "mimetype": "text/x-python",
   "name": "python",
   "nbconvert_exporter": "python",
   "pygments_lexer": "ipython3",
   "version": "3.12.0"
  }
 },
 "nbformat": 4,
 "nbformat_minor": 0
}
