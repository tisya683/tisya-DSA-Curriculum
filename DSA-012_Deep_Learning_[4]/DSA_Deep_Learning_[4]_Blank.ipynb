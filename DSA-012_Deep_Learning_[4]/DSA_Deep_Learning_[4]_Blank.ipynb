{
  "cells": [
    {
      "cell_type": "markdown",
      "metadata": {
        "id": "c3Ew1pEmu05z"
      },
      "source": [
        "# DSA - Deep Learning [4] - Reinforcement learning"
      ]
    },
    {
      "cell_type": "code",
      "execution_count": null,
      "metadata": {
        "id": "51-HV2WWMG8A"
      },
      "outputs": [],
      "source": [
        "# Install necessary libraries\n",
        "!pip install flappy-bird-gymnasium pygame\n",
        "!apt-get install -y xvfb python3-opengl ffmpeg\n",
        "!pip install pyvirtualdisplay\n",
        "!pip install torch torchvision torchaudio --index-url https://download.pytorch.org/whl/cpu"
      ]
    },
    {
      "cell_type": "code",
      "execution_count": null,
      "metadata": {
        "id": "TCYjQVtsMHbO"
      },
      "outputs": [],
      "source": [
        "# Import necessary libraries\n",
        "import os\n",
        "import torch\n",
        "import random\n",
        "import numpy as np\n",
        "import pygame\n",
        "import imageio\n",
        "from IPython.display import display, Image\n",
        "from PIL import Image as PILImage  # Importing PIL for image manipulation\n",
        "from flappy_bird_gymnasium.envs.flappy_bird_env import FlappyBirdEnv\n",
        "\n",
        "# Set environment variables for rendering and audio in Colab\n",
        "os.environ[\"SDL_VIDEODRIVER\"] = \"dummy\"\n",
        "os.environ[\"SDL_AUDIODRIVER\"] = \"dummy\"\n"
      ]
    }
  ],
  "metadata": {
    "colab": {
      "provenance": []
    },
    "kernelspec": {
      "display_name": "Python 3",
      "name": "python3"
    },
    "language_info": {
      "name": "python"
    }
  },
  "nbformat": 4,
  "nbformat_minor": 0
}