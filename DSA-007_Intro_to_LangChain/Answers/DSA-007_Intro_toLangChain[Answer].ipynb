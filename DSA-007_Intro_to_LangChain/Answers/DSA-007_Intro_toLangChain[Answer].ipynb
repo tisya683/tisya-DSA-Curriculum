{
  "cells": [
    {
      "cell_type": "markdown",
      "metadata": {
        "id": "YtBgN8DmJ9ir"
      },
      "source": [
        "# Introduction to LangChain\n",
        "\n",
        "## What is LangChain?\n",
        "LangChain is a framework that helps you combine **language models** with various tools, APIs, and logic to create dynamic workflows and applications. It allows you to build **structured workflows** (LangGraphs) or flexible, real-time decision-makers (Agents) using large language models like GPT.\n",
        "\n",
        "You can think of LangChain as a **bridge/chain** that connects language models to different tools, databases, or functions, enabling the model to perform more complex tasks.\n",
        "\n",
        "---\n",
        "\n",
        "## Example\n",
        "Let’s say you want to build a **flight booking assistant** using LangChain. You can use a **LangGraph** (component of LangChain) to structure the assistant's tasks like this:\n",
        "1. Ask for the user’s destination.\n",
        "2. Search for available flights using an API.\n",
        "3. Show the user the available flights.\n",
        "4. Confirm the booking.\n",
        "\n",
        "## Analogy:\n",
        "Imagine LangChain as a GPS navigation system for your language models:\n",
        "\n",
        "If you follow a predefined route (LangGraph), it guides you step-by-step to your destination.\n",
        "But if there’s a detour or you decide to explore along the way, you can use an Agent to decide the best route dynamically, based on what’s happening in real-time.\n",
        "\n",
        "**Refer to the slides for the workflow!**"
      ]
    },
    {
      "cell_type": "markdown",
      "metadata": {
        "id": "dQqbi0GfJ9it"
      },
      "source": [
        "## SetUp"
      ]
    },
    {
      "cell_type": "code",
      "execution_count": 65,
      "metadata": {
        "colab": {
          "base_uri": "https://localhost:8080/"
        },
        "id": "-4FPgShzfad5",
        "outputId": "5c9b2338-aa89-48b0-c12c-463941fd46db"
      },
      "outputs": [
        {
          "name": "stdout",
          "output_type": "stream",
          "text": [
            "Requirement already satisfied: FastAPI in /usr/local/lib/python3.10/dist-packages (0.115.3)\n",
            "Requirement already satisfied: langserve in /usr/local/lib/python3.10/dist-packages (0.3.0)\n",
            "Requirement already satisfied: sse_starlette in /usr/local/lib/python3.10/dist-packages (2.1.3)\n",
            "Requirement already satisfied: wikipedia in /usr/local/lib/python3.10/dist-packages (1.4.0)\n",
            "Requirement already satisfied: python-dotenv in /usr/local/lib/python3.10/dist-packages (1.0.1)\n",
            "Requirement already satisfied: langchain-openai in /usr/local/lib/python3.10/dist-packages (0.2.3)\n",
            "Requirement already satisfied: langchain-core in /usr/local/lib/python3.10/dist-packages (0.3.12)\n",
            "Requirement already satisfied: langchain in /usr/local/lib/python3.10/dist-packages (0.3.4)\n",
            "Requirement already satisfied: langchain-community in /usr/local/lib/python3.10/dist-packages (0.3.3)\n",
            "Requirement already satisfied: google-search-results in /usr/local/lib/python3.10/dist-packages (2.4.2)\n",
            "Collecting langgraph\n",
            "  Downloading langgraph-0.2.39-py3-none-any.whl.metadata (13 kB)\n",
            "Requirement already satisfied: starlette<0.42.0,>=0.40.0 in /usr/local/lib/python3.10/dist-packages (from FastAPI) (0.41.0)\n",
            "Requirement already satisfied: pydantic!=1.8,!=1.8.1,!=2.0.0,!=2.0.1,!=2.1.0,<3.0.0,>=1.7.4 in /usr/local/lib/python3.10/dist-packages (from FastAPI) (2.9.2)\n",
            "Requirement already satisfied: typing-extensions>=4.8.0 in /usr/local/lib/python3.10/dist-packages (from FastAPI) (4.12.2)\n",
            "Requirement already satisfied: httpx<1.0,>=0.23.0 in /usr/local/lib/python3.10/dist-packages (from langserve) (0.27.2)\n",
            "Requirement already satisfied: orjson<4,>=2 in /usr/local/lib/python3.10/dist-packages (from langserve) (3.10.10)\n",
            "Requirement already satisfied: uvicorn in /usr/local/lib/python3.10/dist-packages (from sse_starlette) (0.32.0)\n",
            "Requirement already satisfied: anyio in /usr/local/lib/python3.10/dist-packages (from sse_starlette) (3.7.1)\n",
            "Requirement already satisfied: beautifulsoup4 in /usr/local/lib/python3.10/dist-packages (from wikipedia) (4.12.3)\n",
            "Requirement already satisfied: requests<3.0.0,>=2.0.0 in /usr/local/lib/python3.10/dist-packages (from wikipedia) (2.32.3)\n",
            "Requirement already satisfied: openai<2.0.0,>=1.52.0 in /usr/local/lib/python3.10/dist-packages (from langchain-openai) (1.52.2)\n",
            "Requirement already satisfied: tiktoken<1,>=0.7 in /usr/local/lib/python3.10/dist-packages (from langchain-openai) (0.8.0)\n",
            "Requirement already satisfied: PyYAML>=5.3 in /usr/local/lib/python3.10/dist-packages (from langchain-core) (6.0.2)\n",
            "Requirement already satisfied: jsonpatch<2.0,>=1.33 in /usr/local/lib/python3.10/dist-packages (from langchain-core) (1.33)\n",
            "Requirement already satisfied: langsmith<0.2.0,>=0.1.125 in /usr/local/lib/python3.10/dist-packages (from langchain-core) (0.1.137)\n",
            "Requirement already satisfied: packaging<25,>=23.2 in /usr/local/lib/python3.10/dist-packages (from langchain-core) (24.1)\n",
            "Requirement already satisfied: tenacity!=8.4.0,<10.0.0,>=8.1.0 in /usr/local/lib/python3.10/dist-packages (from langchain-core) (9.0.0)\n",
            "Requirement already satisfied: SQLAlchemy<3,>=1.4 in /usr/local/lib/python3.10/dist-packages (from langchain) (2.0.36)\n",
            "Requirement already satisfied: aiohttp<4.0.0,>=3.8.3 in /usr/local/lib/python3.10/dist-packages (from langchain) (3.10.10)\n",
            "Requirement already satisfied: async-timeout<5.0.0,>=4.0.0 in /usr/local/lib/python3.10/dist-packages (from langchain) (4.0.3)\n",
            "Requirement already satisfied: langchain-text-splitters<0.4.0,>=0.3.0 in /usr/local/lib/python3.10/dist-packages (from langchain) (0.3.0)\n",
            "Requirement already satisfied: numpy<2,>=1 in /usr/local/lib/python3.10/dist-packages (from langchain) (1.26.4)\n",
            "Requirement already satisfied: dataclasses-json<0.7,>=0.5.7 in /usr/local/lib/python3.10/dist-packages (from langchain-community) (0.6.7)\n",
            "Requirement already satisfied: pydantic-settings<3.0.0,>=2.4.0 in /usr/local/lib/python3.10/dist-packages (from langchain-community) (2.6.0)\n",
            "Collecting langgraph-checkpoint<3.0.0,>=2.0.0 (from langgraph)\n",
            "  Downloading langgraph_checkpoint-2.0.1-py3-none-any.whl.metadata (4.6 kB)\n",
            "Collecting langgraph-sdk<0.2.0,>=0.1.32 (from langgraph)\n",
            "  Downloading langgraph_sdk-0.1.33-py3-none-any.whl.metadata (1.8 kB)\n",
            "Requirement already satisfied: aiohappyeyeballs>=2.3.0 in /usr/local/lib/python3.10/dist-packages (from aiohttp<4.0.0,>=3.8.3->langchain) (2.4.3)\n",
            "Requirement already satisfied: aiosignal>=1.1.2 in /usr/local/lib/python3.10/dist-packages (from aiohttp<4.0.0,>=3.8.3->langchain) (1.3.1)\n",
            "Requirement already satisfied: attrs>=17.3.0 in /usr/local/lib/python3.10/dist-packages (from aiohttp<4.0.0,>=3.8.3->langchain) (24.2.0)\n",
            "Requirement already satisfied: frozenlist>=1.1.1 in /usr/local/lib/python3.10/dist-packages (from aiohttp<4.0.0,>=3.8.3->langchain) (1.4.1)\n",
            "Requirement already satisfied: multidict<7.0,>=4.5 in /usr/local/lib/python3.10/dist-packages (from aiohttp<4.0.0,>=3.8.3->langchain) (6.1.0)\n",
            "Requirement already satisfied: yarl<2.0,>=1.12.0 in /usr/local/lib/python3.10/dist-packages (from aiohttp<4.0.0,>=3.8.3->langchain) (1.16.0)\n",
            "Requirement already satisfied: marshmallow<4.0.0,>=3.18.0 in /usr/local/lib/python3.10/dist-packages (from dataclasses-json<0.7,>=0.5.7->langchain-community) (3.23.0)\n",
            "Requirement already satisfied: typing-inspect<1,>=0.4.0 in /usr/local/lib/python3.10/dist-packages (from dataclasses-json<0.7,>=0.5.7->langchain-community) (0.9.0)\n",
            "Requirement already satisfied: certifi in /usr/local/lib/python3.10/dist-packages (from httpx<1.0,>=0.23.0->langserve) (2024.8.30)\n",
            "Requirement already satisfied: httpcore==1.* in /usr/local/lib/python3.10/dist-packages (from httpx<1.0,>=0.23.0->langserve) (1.0.6)\n",
            "Requirement already satisfied: idna in /usr/local/lib/python3.10/dist-packages (from httpx<1.0,>=0.23.0->langserve) (3.10)\n",
            "Requirement already satisfied: sniffio in /usr/local/lib/python3.10/dist-packages (from httpx<1.0,>=0.23.0->langserve) (1.3.1)\n",
            "Requirement already satisfied: h11<0.15,>=0.13 in /usr/local/lib/python3.10/dist-packages (from httpcore==1.*->httpx<1.0,>=0.23.0->langserve) (0.14.0)\n",
            "Requirement already satisfied: jsonpointer>=1.9 in /usr/local/lib/python3.10/dist-packages (from jsonpatch<2.0,>=1.33->langchain-core) (3.0.0)\n",
            "Requirement already satisfied: msgpack<2.0.0,>=1.1.0 in /usr/local/lib/python3.10/dist-packages (from langgraph-checkpoint<3.0.0,>=2.0.0->langgraph) (1.1.0)\n",
            "Collecting httpx-sse>=0.4.0 (from langgraph-sdk<0.2.0,>=0.1.32->langgraph)\n",
            "  Downloading httpx_sse-0.4.0-py3-none-any.whl.metadata (9.0 kB)\n",
            "Requirement already satisfied: requests-toolbelt<2.0.0,>=1.0.0 in /usr/local/lib/python3.10/dist-packages (from langsmith<0.2.0,>=0.1.125->langchain-core) (1.0.0)\n",
            "Requirement already satisfied: distro<2,>=1.7.0 in /usr/lib/python3/dist-packages (from openai<2.0.0,>=1.52.0->langchain-openai) (1.7.0)\n",
            "Requirement already satisfied: jiter<1,>=0.4.0 in /usr/local/lib/python3.10/dist-packages (from openai<2.0.0,>=1.52.0->langchain-openai) (0.6.1)\n",
            "Requirement already satisfied: tqdm>4 in /usr/local/lib/python3.10/dist-packages (from openai<2.0.0,>=1.52.0->langchain-openai) (4.66.5)\n",
            "Requirement already satisfied: exceptiongroup in /usr/local/lib/python3.10/dist-packages (from anyio->sse_starlette) (1.2.2)\n",
            "Requirement already satisfied: annotated-types>=0.6.0 in /usr/local/lib/python3.10/dist-packages (from pydantic!=1.8,!=1.8.1,!=2.0.0,!=2.0.1,!=2.1.0,<3.0.0,>=1.7.4->FastAPI) (0.7.0)\n",
            "Requirement already satisfied: pydantic-core==2.23.4 in /usr/local/lib/python3.10/dist-packages (from pydantic!=1.8,!=1.8.1,!=2.0.0,!=2.0.1,!=2.1.0,<3.0.0,>=1.7.4->FastAPI) (2.23.4)\n",
            "Requirement already satisfied: charset-normalizer<4,>=2 in /usr/local/lib/python3.10/dist-packages (from requests<3.0.0,>=2.0.0->wikipedia) (3.4.0)\n",
            "Requirement already satisfied: urllib3<3,>=1.21.1 in /usr/local/lib/python3.10/dist-packages (from requests<3.0.0,>=2.0.0->wikipedia) (2.2.3)\n",
            "Requirement already satisfied: greenlet!=0.4.17 in /usr/local/lib/python3.10/dist-packages (from SQLAlchemy<3,>=1.4->langchain) (3.1.1)\n",
            "Requirement already satisfied: regex>=2022.1.18 in /usr/local/lib/python3.10/dist-packages (from tiktoken<1,>=0.7->langchain-openai) (2024.9.11)\n",
            "Requirement already satisfied: soupsieve>1.2 in /usr/local/lib/python3.10/dist-packages (from beautifulsoup4->wikipedia) (2.6)\n",
            "Requirement already satisfied: click>=7.0 in /usr/local/lib/python3.10/dist-packages (from uvicorn->sse_starlette) (8.1.7)\n",
            "Requirement already satisfied: mypy-extensions>=0.3.0 in /usr/local/lib/python3.10/dist-packages (from typing-inspect<1,>=0.4.0->dataclasses-json<0.7,>=0.5.7->langchain-community) (1.0.0)\n",
            "Requirement already satisfied: propcache>=0.2.0 in /usr/local/lib/python3.10/dist-packages (from yarl<2.0,>=1.12.0->aiohttp<4.0.0,>=3.8.3->langchain) (0.2.0)\n",
            "Downloading langgraph-0.2.39-py3-none-any.whl (113 kB)\n",
            "\u001b[2K   \u001b[90m━━━━━━━━━━━━━━━━━━━━━━━━━━━━━━━━━━━━━━━━\u001b[0m \u001b[32m113.5/113.5 kB\u001b[0m \u001b[31m2.7 MB/s\u001b[0m eta \u001b[36m0:00:00\u001b[0m\n",
            "\u001b[?25hDownloading langgraph_checkpoint-2.0.1-py3-none-any.whl (22 kB)\n",
            "Downloading langgraph_sdk-0.1.33-py3-none-any.whl (28 kB)\n",
            "Downloading httpx_sse-0.4.0-py3-none-any.whl (7.8 kB)\n",
            "Installing collected packages: httpx-sse, langgraph-sdk, langgraph-checkpoint, langgraph\n",
            "Successfully installed httpx-sse-0.4.0 langgraph-0.2.39 langgraph-checkpoint-2.0.1 langgraph-sdk-0.1.33\n"
          ]
        }
      ],
      "source": [
        "# Download necessary\n",
        "%pip install FastAPI langserve sse_starlette wikipedia python-dotenv langchain-openai langchain-core langchain langchain-community google-search-results langgraph"
      ]
    },
    {
      "cell_type": "code",
      "execution_count": 2,
      "metadata": {
        "id": "oGqX5ZeVJ9iu"
      },
      "outputs": [],
      "source": [
        "import os\n",
        "from dotenv import load_dotenv\n",
        "from langchain_openai import ChatOpenAI"
      ]
    },
    {
      "cell_type": "code",
      "execution_count": 3,
      "metadata": {
        "colab": {
          "base_uri": "https://localhost:8080/"
        },
        "id": "QFg80zZrJ9iv",
        "outputId": "4b3935c9-5e0d-4d50-f3f6-c2d2eda55da2"
      },
      "outputs": [
        {
          "data": {
            "text/plain": [
              "True"
            ]
          },
          "execution_count": 3,
          "metadata": {},
          "output_type": "execute_result"
        }
      ],
      "source": [
        "load_dotenv('template.env')"
      ]
    },
    {
      "cell_type": "code",
      "execution_count": 4,
      "metadata": {
        "id": "x7qwQbf5J9iv"
      },
      "outputs": [],
      "source": [
        "# Call in the model\n",
        "# 'gpt-4'\n",
        "# 'gpt-3.5-turbo'\n",
        "\n",
        "openai_api_key = os.getenv(\"OPENAI_API_KEY\")\n",
        "gpt = ChatOpenAI(\n",
        "    model='gpt-4o',\n",
        "    temperature=0.7\n",
        ")"
      ]
    },
    {
      "cell_type": "code",
      "execution_count": 5,
      "metadata": {
        "id": "JTmixPh2J9iv"
      },
      "outputs": [],
      "source": [
        "# Track out cost and understand how langchain works\n",
        "tracing = os.getenv(\"LANGCHAIN_TRACING_V2\")\n",
        "langsmith = os.getenv(\"LANGCHAIN_API_KEY\")"
      ]
    },
    {
      "cell_type": "code",
      "execution_count": 6,
      "metadata": {
        "colab": {
          "base_uri": "https://localhost:8080/"
        },
        "id": "PnhZAPlAVJgU",
        "outputId": "c18ab8b2-6fc3-448b-d4af-c4719409f62b"
      },
      "outputs": [
        {
          "data": {
            "text/plain": [
              "AIMessage(content='Hello! How can I assist you today?', additional_kwargs={'refusal': None}, response_metadata={'token_usage': {'completion_tokens': 9, 'prompt_tokens': 11, 'total_tokens': 20, 'completion_tokens_details': {'audio_tokens': None, 'reasoning_tokens': 0}, 'prompt_tokens_details': {'audio_tokens': None, 'cached_tokens': 0}}, 'model_name': 'gpt-4o-2024-08-06', 'system_fingerprint': 'fp_45c6de4934', 'finish_reason': 'stop', 'logprobs': None}, id='run-7d0db531-2504-4bb1-8f84-f7c560276bca-0', usage_metadata={'input_tokens': 11, 'output_tokens': 9, 'total_tokens': 20, 'input_token_details': {'cache_read': 0}, 'output_token_details': {'reasoning': 0}})"
            ]
          },
          "execution_count": 6,
          "metadata": {},
          "output_type": "execute_result"
        }
      ],
      "source": [
        "gpt.invoke(\"Hello, world!\")"
      ]
    },
    {
      "cell_type": "markdown",
      "metadata": {
        "id": "8QmHKF1GJ9iv"
      },
      "source": [
        "## LangChain Example (1)\n",
        "Let's go back to the slides"
      ]
    },
    {
      "cell_type": "code",
      "execution_count": 7,
      "metadata": {
        "id": "Y3QYeIvtPQAi"
      },
      "outputs": [],
      "source": [
        "from langchain_core.prompts import(\n",
        "    ChatPromptTemplate,\n",
        "    FewShotChatMessagePromptTemplate,\n",
        "    SystemMessagePromptTemplate,\n",
        "    HumanMessagePromptTemplate\n",
        ")\n",
        "from langchain_core.output_parsers import StrOutputParser\n",
        "from langchain.chat_models import ChatOpenAI"
      ]
    },
    {
      "cell_type": "code",
      "execution_count": 8,
      "metadata": {
        "id": "fDV4J6HZPP6b"
      },
      "outputs": [],
      "source": [
        "# Define the prompt template with placeholders for genre and number of recommendations\n",
        "\n",
        "# \"system\", \"You are a movie critic who recommends movies based on genre.\"\n",
        "# \"human\", \"Recommend {movie_count} movies in the {genre} genre.\"\n",
        "\n",
        "prompt_template = ChatPromptTemplate.from_messages(\n",
        "    [\n",
        "        (\"system\", \"You are a movie critic who recommends movies based on genre.\"),\n",
        "        (\"human\", \"Recommend {movie_count} movies in the {genre} genre.\"),\n",
        "    ]\n",
        ")"
      ]
    },
    {
      "cell_type": "code",
      "execution_count": 9,
      "metadata": {
        "id": "1X-B5QBrQhLC"
      },
      "outputs": [],
      "source": [
        "# Generate our few shot examples from a famous movie critic that you respect their opinion\n",
        "examples = [\n",
        "    {\n",
        "        \"input\": (\"human\", \"Recommend 3 movies in the science fiction genre.\"),\n",
        "        \"output\": (\"system\", \"Here are 3 must-watch science fiction movies:\\n\"\n",
        "                    \"1. Blade Runner 2049 (2017) – A visually stunning sequel that explores themes of identity and artificial intelligence.\\n\"\n",
        "                    \"2. The Matrix (1999) – A groundbreaking film that blends philosophy, action, and technology in a dystopian future.\\n\"\n",
        "                    \"3. Interstellar (2014) – A space epic that delves into the emotional and scientific challenges of interstellar travel.\")\n",
        "    },\n",
        "    {\n",
        "        \"input\": (\"human\", \"Recommend 2 movies in the horror genre.\"),\n",
        "        \"output\": (\"system\", \"Here are 2 terrifying horror movies:\\n\"\n",
        "                    \"1. Hereditary (2018) – A chilling psychological horror film that explores family secrets and supernatural elements.\\n\"\n",
        "                    \"2. The Conjuring (2013) – Based on true events, this film is a masterclass in building suspense and delivering scares.\")\n",
        "    },\n",
        "    {\n",
        "        \"input\": (\"human\", \"Recommend 4 movies in the action genre.\"),\n",
        "        \"output\": (\"system\", \"Here are 4 adrenaline-pumping action movies:\\n\"\n",
        "                    \"1. Mad Max: Fury Road (2015) – A high-octane chase across a post-apocalyptic desert with stunning visuals and practical effects.\\n\"\n",
        "                    \"2. John Wick (2014) – A sleek and stylish film featuring expertly choreographed fight sequences.\\n\"\n",
        "                    \"3. Die Hard (1988) – The ultimate action movie with a thrilling story of a cop fighting terrorists in a high-rise building.\\n\"\n",
        "                    \"4. The Dark Knight (2008) – A superhero film that combines action with a deep exploration of morality and chaos.\")\n",
        "    },\n",
        "    {\n",
        "        \"input\": (\"human\", \"Recommend 5 movies in the romantic comedy genre.\"),\n",
        "        \"output\": (\"system\", \"Here are 5 delightful romantic comedies:\\n\"\n",
        "                    \"1. Notting Hill (1999) – A charming story of an ordinary bookstore owner falling for a famous actress.\\n\"\n",
        "                    \"2. 10 Things I Hate About You (1999) – A modern retelling of Shakespeare’s *The Taming of the Shrew*, set in high school.\\n\"\n",
        "                    \"3. Crazy Rich Asians (2018) – A romantic comedy that blends cultural identity with lavish settings and heartwarming moments.\\n\"\n",
        "                    \"4. When Harry Met Sally (1989) – A classic film exploring whether men and women can ever just be friends.\\n\"\n",
        "                    \"5. The Proposal (2009) – A hilarious and heartwarming movie about a fake engagement that turns into real love.\")\n",
        "    }\n",
        "]\n"
      ]
    },
    {
      "cell_type": "code",
      "execution_count": 10,
      "metadata": {
        "id": "QsfW0GT1QRd3"
      },
      "outputs": [],
      "source": [
        "example_prompt = ChatPromptTemplate.from_messages(\n",
        "    [\n",
        "        (\"human\", \"{input}\"),\n",
        "        (\"ai\", \"{output}\"),\n",
        "    ]\n",
        ")\n",
        "\n",
        "few_shot_prompt = FewShotChatMessagePromptTemplate(\n",
        "    example_prompt = example_prompt,\n",
        "    examples=examples,\n",
        ")"
      ]
    },
    {
      "cell_type": "code",
      "execution_count": 11,
      "metadata": {
        "id": "XhGvnL7nQTsm"
      },
      "outputs": [],
      "source": [
        "# The final prompt we will use to prompt things from the LLM\n",
        "final_prompt = ChatPromptTemplate.from_messages(\n",
        "    [\n",
        "        prompt_template,\n",
        "        few_shot_prompt,\n",
        "    ]\n",
        ")"
      ]
    },
    {
      "cell_type": "code",
      "execution_count": 12,
      "metadata": {
        "colab": {
          "base_uri": "https://localhost:8080/"
        },
        "id": "fZG8QoIeTAz3",
        "outputId": "49405e60-7243-477c-93e4-e38cfe0021c8"
      },
      "outputs": [
        {
          "name": "stdout",
          "output_type": "stream",
          "text": [
            "[SystemMessage(content='You are a movie critic who recommends movies based on genre.', additional_kwargs={}, response_metadata={}), HumanMessage(content='Recommend 3 movies in the science fiction genre.', additional_kwargs={}, response_metadata={}), HumanMessage(content=\"('human', 'Recommend 3 movies in the science fiction genre.')\", additional_kwargs={}, response_metadata={}), AIMessage(content=\"('system', 'Here are 3 must-watch science fiction movies:\\\\n1. Blade Runner 2049 (2017) – A visually stunning sequel that explores themes of identity and artificial intelligence.\\\\n2. The Matrix (1999) – A groundbreaking film that blends philosophy, action, and technology in a dystopian future.\\\\n3. Interstellar (2014) – A space epic that delves into the emotional and scientific challenges of interstellar travel.')\", additional_kwargs={}, response_metadata={}), HumanMessage(content=\"('human', 'Recommend 2 movies in the horror genre.')\", additional_kwargs={}, response_metadata={}), AIMessage(content=\"('system', 'Here are 2 terrifying horror movies:\\\\n1. Hereditary (2018) – A chilling psychological horror film that explores family secrets and supernatural elements.\\\\n2. The Conjuring (2013) – Based on true events, this film is a masterclass in building suspense and delivering scares.')\", additional_kwargs={}, response_metadata={}), HumanMessage(content=\"('human', 'Recommend 4 movies in the action genre.')\", additional_kwargs={}, response_metadata={}), AIMessage(content=\"('system', 'Here are 4 adrenaline-pumping action movies:\\\\n1. Mad Max: Fury Road (2015) – A high-octane chase across a post-apocalyptic desert with stunning visuals and practical effects.\\\\n2. John Wick (2014) – A sleek and stylish film featuring expertly choreographed fight sequences.\\\\n3. Die Hard (1988) – The ultimate action movie with a thrilling story of a cop fighting terrorists in a high-rise building.\\\\n4. The Dark Knight (2008) – A superhero film that combines action with a deep exploration of morality and chaos.')\", additional_kwargs={}, response_metadata={}), HumanMessage(content=\"('human', 'Recommend 5 movies in the romantic comedy genre.')\", additional_kwargs={}, response_metadata={}), AIMessage(content=\"('system', 'Here are 5 delightful romantic comedies:\\\\n1. Notting Hill (1999) – A charming story of an ordinary bookstore owner falling for a famous actress.\\\\n2. 10 Things I Hate About You (1999) – A modern retelling of Shakespeare’s *The Taming of the Shrew*, set in high school.\\\\n3. Crazy Rich Asians (2018) – A romantic comedy that blends cultural identity with lavish settings and heartwarming moments.\\\\n4. When Harry Met Sally (1989) – A classic film exploring whether men and women can ever just be friends.\\\\n5. The Proposal (2009) – A hilarious and heartwarming movie about a fake engagement that turns into real love.')\", additional_kwargs={}, response_metadata={})]\n"
          ]
        }
      ],
      "source": [
        "# Check that everything is working well\n",
        "print(final_prompt.invoke({\"genre\": \"science fiction\", \"movie_count\": 3}).messages)"
      ]
    },
    {
      "cell_type": "code",
      "execution_count": 13,
      "metadata": {
        "id": "hrzijSXaPPyX"
      },
      "outputs": [],
      "source": [
        "# Create the combined chain using LangChain Expression Language (LCEL) each of this block is a runnable.\n",
        "chain = final_prompt | gpt | StrOutputParser()"
      ]
    },
    {
      "cell_type": "code",
      "execution_count": 14,
      "metadata": {
        "colab": {
          "base_uri": "https://localhost:8080/"
        },
        "id": "5BJpPRBgP_7H",
        "outputId": "02cf855c-ee3f-457a-9320-946b38174f1a"
      },
      "outputs": [
        {
          "name": "stdout",
          "output_type": "stream",
          "text": [
            "Here are 5 delightful romantic comedies:\n",
            "\n",
            "1. **Notting Hill (1999)** – A charming story of an ordinary bookstore owner falling for a famous actress.\n",
            "2. **10 Things I Hate About You (1999)** – A modern retelling of Shakespeare’s *The Taming of the Shrew*, set in high school.\n",
            "3. **Crazy Rich Asians (2018)** – A romantic comedy that blends cultural identity with lavish settings and heartwarming moments.\n",
            "4. **When Harry Met Sally (1989)** – A classic film exploring whether men and women can ever just be friends.\n",
            "5. **The Proposal (2009)** – A hilarious and heartwarming movie about a fake engagement that turns into real love.\n"
          ]
        }
      ],
      "source": [
        "# Run the chain with parameters for genre and number of recommendations\n",
        "result = chain.invoke({\"genre\": \"sci-fi\", \"movie_count\": 5})\n",
        "\n",
        "# Output\n",
        "print(result)"
      ]
    },
    {
      "cell_type": "markdown",
      "metadata": {
        "id": "mzNV6l4YJ9iw"
      },
      "source": [
        "### You are probably wondering what is StrOutputParser() ??\n",
        "Well, it's a great way to force our output to be formatted a certain way!  \n",
        "There are many outputs you can form using OutputParsers in LangChain.\n",
        "\n",
        "The `StrOutputParser()` is just one of many types of parsers. It converts the output from the language model into a simple string format, which is useful when you want to ensure the output is clean and easy to handle.\n",
        "\n",
        "---\n",
        "\n",
        "### Types of OutputParser you can use:\n",
        "LangChain provides several types of output parsers that you can use depending on the format you need for the task. Here's a list of some common ones:\n",
        "\n",
        "1. **StrOutputParser**: Parses the output as a plain string.\n",
        "2. **JsonOutputParser**: Ensures that the output is formatted as valid JSON.\n",
        "3. **RegexOutputParser**: Uses regular expressions to parse specific parts of the output.\n",
        "4. **BooleanOutputParser**: Converts the output into a boolean (True/False) based on the content.\n",
        "5. **ListOutputParser**: Formats the output as a list of items.\n",
        "6. **CsvOutputParser**: Parses the output into CSV format.\n",
        "7. **DictOutputParser**: Parses the output as a Python dictionary.\n",
        "\n",
        "For more detailed information about **OutputParser** and how to use them, you can check out the official [LangChain OutputParser documentation](https://docs.langchain.com/docs/modules/chains/prompts/output_parsers).\n"
      ]
    },
    {
      "cell_type": "code",
      "execution_count": 15,
      "metadata": {
        "id": "HJ-2awm8X9IG"
      },
      "outputs": [],
      "source": [
        "from langchain_core.output_parsers import PydanticOutputParser\n",
        "from langchain.prompts import PromptTemplate\n",
        "from pydantic import BaseModel, Field, field_validator\n",
        "from typing import List, Optional\n",
        "import re"
      ]
    },
    {
      "cell_type": "code",
      "execution_count": 16,
      "metadata": {
        "id": "2i1DkqMuepuS"
      },
      "outputs": [],
      "source": [
        "class Joke(BaseModel):\n",
        "    setup: str = Field(description=\"question to set up a joke\")\n",
        "    punchline: str = Field(description=\"answer to resolve the joke\")\n",
        "\n",
        "    # You can add custom validation logic easily with Pydantic.\n",
        "    @field_validator(\"setup\")\n",
        "    def question_ends_with_question_mark(cls, field):\n",
        "        if field[-1] != \"?\":\n",
        "            raise ValueError(\"Badly formed question!\")\n",
        "        return field"
      ]
    },
    {
      "cell_type": "code",
      "execution_count": 17,
      "metadata": {
        "id": "g-6VY0t8xeFJ"
      },
      "outputs": [],
      "source": [
        "parser = PydanticOutputParser(pydantic_object=Joke)"
      ]
    },
    {
      "cell_type": "code",
      "execution_count": 18,
      "metadata": {
        "id": "ksaENV67xhTo"
      },
      "outputs": [],
      "source": [
        "prompt = PromptTemplate(\n",
        "    template=\"Answer the user query.\\n{format_instructions}\\n{query}\\n\",\n",
        "    input_variables=[\"query\"],\n",
        "    partial_variables={\"format_instructions\": parser.get_format_instructions()},\n",
        ")"
      ]
    },
    {
      "cell_type": "code",
      "execution_count": 19,
      "metadata": {
        "id": "Z5-v7ZTnxvYk"
      },
      "outputs": [],
      "source": [
        "chain = prompt | gpt | parser"
      ]
    },
    {
      "cell_type": "code",
      "execution_count": 20,
      "metadata": {
        "colab": {
          "base_uri": "https://localhost:8080/"
        },
        "id": "FprJFFAKx5QZ",
        "outputId": "534882fa-1963-4ac6-de6a-4734c1f0c4d5"
      },
      "outputs": [
        {
          "name": "stdout",
          "output_type": "stream",
          "text": [
            "setup=\"Why don't scientists trust atoms?\" punchline='Because they make up everything!'\n"
          ]
        }
      ],
      "source": [
        "output = chain.invoke({\"query\": \"Tell me a joke.\"})\n",
        "print(output)"
      ]
    },
    {
      "cell_type": "markdown",
      "metadata": {
        "id": "UDYG73RpJ9iw"
      },
      "source": [
        "## Intermediate Langchain\n",
        "\n",
        "### Feedback provider"
      ]
    },
    {
      "cell_type": "code",
      "execution_count": 21,
      "metadata": {
        "id": "HGWWxqRJzb9t"
      },
      "outputs": [],
      "source": [
        "from langchain.schema.runnable import RunnableBranch, RunnableLambda"
      ]
    },
    {
      "cell_type": "code",
      "execution_count": 22,
      "metadata": {
        "id": "HDhgYG9HyF1p"
      },
      "outputs": [],
      "source": [
        "# Define prompt templates for different feedback types\n",
        "positive_feedback_template = ChatPromptTemplate.from_messages(\n",
        "    [\n",
        "        (\"system\", \"You are a helpful assistant.\"),\n",
        "        (\n",
        "            \"human\",\n",
        "            \"Generate a thank you note for this positive feedback: {feedback}.\"\n",
        "        ),\n",
        "    ]\n",
        ")\n",
        "\n",
        "negative_feedback_template = ChatPromptTemplate.from_messages(\n",
        "    [\n",
        "        (\"system\", \"You are a helpful assistant.\"),\n",
        "        (\n",
        "            \"human\",\n",
        "          \"Generate a response addressing this negative feedback: {feedback}.\"\n",
        "        ),\n",
        "    ]\n",
        ")\n",
        "\n",
        "neutral_feedback_template = ChatPromptTemplate.from_messages(\n",
        "    [\n",
        "        (\"system\", \"You are a helpful assistant.\"),\n",
        "        (\n",
        "            \"human\",\n",
        "            \"Generate a request for more details for this neutral feedback: {feedback}.\",\n",
        "        ),\n",
        "    ]\n",
        ")\n",
        "\n",
        "escalate_feedback_template = ChatPromptTemplate.from_messages(\n",
        "    [\n",
        "        (\"system\", \"You are a helpful assistant.\"),\n",
        "        (\n",
        "            \"human\",\n",
        "            \"Generate a message to escalate this feedback to a human agent: {feedback}.\",\n",
        "        ),\n",
        "    ]\n",
        ")\n",
        "\n",
        "# Define the feedback classification template\n",
        "classification_template = ChatPromptTemplate.from_messages(\n",
        "    [\n",
        "        (\"system\", \"You are a helpful assistant.\"),\n",
        "        (\n",
        "            \"human\",\n",
        "            \"Classify the sentiment of this feedback as positive, negative, neutral, or escalate: {feedback}.\"\n",
        "        ),\n",
        "    ]\n",
        ")"
      ]
    },
    {
      "cell_type": "code",
      "execution_count": 23,
      "metadata": {
        "colab": {
          "base_uri": "https://localhost:8080/"
        },
        "id": "ZEj-gou1J9iw",
        "outputId": "7fed5d5e-b4a3-4621-c629-2591aee76ef6"
      },
      "outputs": [
        {
          "name": "stdout",
          "output_type": "stream",
          "text": [
            "Word count: 71\n",
            "THANK YOU FOR YOUR FEEDBACK. WE APPRECIATE YOU TAKING THE TIME TO SHARE YOUR THOUGHTS WITH US. WE'RE SORRY TO HEAR THAT YOUR EXPERIENCE HASN'T MET YOUR EXPECTATIONS. YOUR FEEDBACK IS INCREDIBLY VALUABLE, AS IT HELPS US IDENTIFY AREAS FOR IMPROVEMENT. PLEASE LET US KNOW IF THERE ARE SPECIFIC CONCERNS OR ISSUES WE CAN ADDRESS. WE'RE COMMITTED TO MAKING THINGS RIGHT AND ENSURING A POSITIVE EXPERIENCE FOR YOU IN THE FUTURE.\n"
          ]
        }
      ],
      "source": [
        "# Define the runnable branches for handling feedback\n",
        "branches = RunnableBranch(\n",
        "    (\n",
        "        lambda x: \"positive\" in x,\n",
        "        positive_feedback_template | gpt | StrOutputParser()  # Positive feedback chain\n",
        "    ),\n",
        "    (\n",
        "        lambda x: \"negative\" in x,\n",
        "        negative_feedback_template | gpt | StrOutputParser()  # Negative feedback chain\n",
        "    ),\n",
        "    (\n",
        "        lambda x: \"neutral\" in x,\n",
        "        neutral_feedback_template | gpt | StrOutputParser()  # Neutral feedback chain\n",
        "    ),\n",
        "    escalate_feedback_template | gpt | StrOutputParser()\n",
        ")\n",
        "\n",
        "uppercase_output = RunnableLambda(lambda x: x.upper())\n",
        "count_words = RunnableLambda(lambda x: f\"Word count: {len(x.split())}\\n{x}\")\n",
        "\n",
        "# Create the classification chain\n",
        "classification_chain = classification_template | gpt | StrOutputParser()\n",
        "\n",
        "# Combine classification and response generation into one chain\n",
        "chain = classification_chain | branches | uppercase_output | count_words\n",
        "\n",
        "# Run the chain with an example review\n",
        "\n",
        "# Good review - \"The product is excellent. I really enjoyed using it and found it very helpful.\"\n",
        "# Bad review - \"The product is terrible. It broke after just one use and the quality is very poor.\"\n",
        "# Neutral review - \"The product is okay. It works as expected but nothing exceptional.\"\n",
        "# Default - \"I'm not sure about the product yet. Can you tell me more about its features and benefits?\"\n",
        "\n",
        "review = \"The product is terrible. It broke after just one use and the quality is very poor.\"\n",
        "result = chain.invoke({\"feedback\": review})\n",
        "\n",
        "# Output the result\n",
        "print(result)\n"
      ]
    },
    {
      "cell_type": "markdown",
      "metadata": {
        "id": "oAWbgksrJ9iw"
      },
      "source": [
        "## Now that we have a good grasp of how LCEL works time to try Agents!\n",
        "\n",
        "#### Let's go to the slides to understand better how agents work and better understand it's usecase\n",
        "\n",
        "#### tools parameters, https://api.python.langchain.com/en/latest/agents/langchain.agents.load_tools.load_tools.html"
      ]
    },
    {
      "cell_type": "code",
      "execution_count": 24,
      "metadata": {
        "id": "h9p1hnOr0p0Q"
      },
      "outputs": [],
      "source": [
        "from langchain.agents import load_tools, create_react_agent, initialize_agent, AgentType, AgentExecutor, create_structured_chat_agent\n",
        "from langchain.memory import ConversationBufferMemory\n",
        "from langchain_core.messages import AIMessage, HumanMessage, SystemMessage\n",
        "from langchain_core.tools import Tool"
      ]
    },
    {
      "cell_type": "code",
      "execution_count": 25,
      "metadata": {
        "colab": {
          "base_uri": "https://localhost:8080/"
        },
        "id": "823VJcAZ3HWy",
        "outputId": "58a248c6-f494-4fe8-c153-eb72b7b4d4db"
      },
      "outputs": [
        {
          "name": "stderr",
          "output_type": "stream",
          "text": [
            "<ipython-input-25-5a8afbcc2827>:2: LangChainDeprecationWarning: The function `initialize_agent` was deprecated in LangChain 0.1.0 and will be removed in 1.0. Use :meth:`~Use new agent constructor methods like create_react_agent, create_json_agent, create_structured_chat_agent, etc.` instead.\n",
            "  agent_executor = initialize_agent(\n"
          ]
        }
      ],
      "source": [
        "tools = load_tools([\"serpapi\", \"llm-math\"], llm=gpt)\n",
        "agent_executor = initialize_agent(\n",
        "    tools, gpt, agent=AgentType.ZERO_SHOT_REACT_DESCRIPTION, verbose=True\n",
        ")\n"
      ]
    },
    {
      "cell_type": "code",
      "execution_count": 26,
      "metadata": {
        "colab": {
          "base_uri": "https://localhost:8080/",
          "height": 448
        },
        "id": "2_uEc-J41L0D",
        "outputId": "f952cf1a-a006-4d1c-d488-c95677df7e45"
      },
      "outputs": [
        {
          "name": "stderr",
          "output_type": "stream",
          "text": [
            "<ipython-input-26-06608f0eb17b>:2: LangChainDeprecationWarning: The method `Chain.run` was deprecated in langchain 0.1.0 and will be removed in 1.0. Use :meth:`~invoke` instead.\n",
            "  agent_executor.run(\n"
          ]
        },
        {
          "name": "stdout",
          "output_type": "stream",
          "text": [
            "\n",
            "\n",
            "\u001b[1m> Entering new AgentExecutor chain...\u001b[0m\n",
            "\u001b[32;1m\u001b[1;3mTo answer this question, I need to find the average price of a 1-bedroom condo in New York City in 2022 and then calculate a 20% deposit based on that price.\n",
            "\n",
            "Action: Search\n",
            "Action Input: \"average price of 1 bedroom condo in New York City 2022\"\u001b[0m\n",
            "Observation: \u001b[36;1m\u001b[1;3m['The average sale price for a condo ranges from $785,333 for a studio apartment to $10,899,279 for 4+ bedroom apartments. Meanwhile, the average ...', 'During the downturn period of 2017-2019, median price declined to $1.588 million. Median price in 2022 was $1.746 million, a new record ...', 'Ownership is still markedly more expensive in Manhattan compared to renting, since the average rent for a 1 bedroom was $4,466 during the month ...', 'The average apartment rent in Manhattan is $4939. Browse detailed statistics & rent trends, compare apartment sizes and rent prices by neighborhood.', 'The cost of studios starts from 650,000 $ (4,121,000 ¥); · The cost of a 1-bedroom apartment varies from 800,000 to 2 000 000 $ (5 072 000 – 12 680 000 ¥) · 2- ...', 'And how do total monthly costs compare to rents for 1 bedroom apartments? The median price for 1 bedroom rentals in January was $4,312 in ...', 'The average price of a condo was $2.66 million, down 2.3%. The average price per square foot for resale condo units declined 5%. The average price of a new ...', 'A 1-bedroom apartment in New York, NY costs about $4,404 on average, while a 2-bedroom apartment is $5,643. Houses for rent in New York, NY are cheaper ...', 'The average monthly rental price for one bedroom apartments is $4,212 and an average price per square feet of $6.72. There are a total of 6,747 one bedroom ...', 'A studio condo cost on average 699,000 U.S. dollars in the third quarter of 2022, up from 535,000 U.S. dollars the year before. The price of a ...']\u001b[0m\n",
            "Thought:\u001b[32;1m\u001b[1;3mThe search results indicate that the cost of a 1-bedroom apartment in New York City in 2022 varies, with some sources mentioning prices ranging from $800,000 to $2,000,000. To proceed, I'll use an approximate average price of $1,400,000 for calculation purposes.\n",
            "\n",
            "Next, I need to calculate a 20% deposit on this average price.\n",
            "\n",
            "Action: Calculator\n",
            "Action Input: 0.20 * 1400000\u001b[0m\n",
            "Observation: \u001b[33;1m\u001b[1;3mAnswer: 280000.0\u001b[0m\n",
            "Thought:\u001b[32;1m\u001b[1;3mI have calculated the 20% deposit based on the average price.\n",
            "\n",
            "Final Answer: The average price of a 1-bedroom condo in New York City in 2022 is approximately $1,400,000. A 20% deposit for it would be $280,000.\u001b[0m\n",
            "\n",
            "\u001b[1m> Finished chain.\u001b[0m\n"
          ]
        },
        {
          "data": {
            "application/vnd.google.colaboratory.intrinsic+json": {
              "type": "string"
            },
            "text/plain": [
              "'The average price of a 1-bedroom condo in New York City in 2022 is approximately $1,400,000. A 20% deposit for it would be $280,000.'"
            ]
          },
          "execution_count": 26,
          "metadata": {},
          "output_type": "execute_result"
        }
      ],
      "source": [
        "# Play around with average and median\n",
        "agent_executor.run(\n",
        "    \"What's the average price of a 1 bedroom condo \\\n",
        "        in New York City in 2022. Calculate a 20%% deposit\\\n",
        "            for it.\"\n",
        ")"
      ]
    },
    {
      "cell_type": "markdown",
      "metadata": {
        "id": "I8e0oWpHJ9ix"
      },
      "source": [
        "## LangChain Agent Deep Dive\n",
        "\n",
        "#### Understanding tools a little better\n",
        "#### Creating a chatbot using ReAct agents"
      ]
    },
    {
      "cell_type": "code",
      "execution_count": 27,
      "metadata": {
        "id": "rQhMkLWp6tv_"
      },
      "outputs": [],
      "source": [
        "import datetime\n",
        "from wikipedia import summary\n",
        "from langchain import hub"
      ]
    },
    {
      "cell_type": "code",
      "execution_count": 28,
      "metadata": {
        "id": "1Hfq1RpJ5RZs"
      },
      "outputs": [],
      "source": [
        "# Define Tools DATETIME tool\n",
        "def get_current_time(*args, **kwargs):\n",
        "    \"\"\"Returns the current time in H:MM AM/PM format.\"\"\"\n",
        "    import datetime\n",
        "\n",
        "    now = datetime.datetime.now()\n",
        "    return now.strftime(\"%I:%M %p\")"
      ]
    },
    {
      "cell_type": "code",
      "execution_count": 29,
      "metadata": {
        "id": "kALxhrWw5YQS"
      },
      "outputs": [],
      "source": [
        "def search_wikipedia(query):\n",
        "    \"\"\"Searches Wikipedia and returns the summary of the first result.\"\"\"\n",
        "    from wikipedia import summary\n",
        "\n",
        "    try:\n",
        "        # Limit to two sentences for brevity\n",
        "        return summary(query, sentences=2)\n",
        "    except:\n",
        "        return \"I couldn't find any information on that.\""
      ]
    },
    {
      "cell_type": "code",
      "execution_count": 30,
      "metadata": {
        "id": "jwYhchIJ64lp"
      },
      "outputs": [],
      "source": [
        "# Define the tools that the agent can use\n",
        "tools = [\n",
        "    Tool(\n",
        "        name=\"Time\",\n",
        "        func=get_current_time,\n",
        "        description=\"Useful for when you need to know the current time.\", #context\n",
        "    ),\n",
        "    Tool(\n",
        "        name=\"Wikipedia\",\n",
        "        func=search_wikipedia,\n",
        "        description=\"Useful for when you need to know information about a topic.\",\n",
        "    ),\n",
        "]"
      ]
    },
    {
      "cell_type": "code",
      "execution_count": 31,
      "metadata": {
        "colab": {
          "base_uri": "https://localhost:8080/"
        },
        "id": "NqoI2Ft46-AC",
        "outputId": "29b5ac27-0072-4573-d19a-e121061e7d5e"
      },
      "outputs": [
        {
          "name": "stdout",
          "output_type": "stream",
          "text": [
            "['agent_scratchpad', 'input', 'tool_names', 'tools']\n"
          ]
        }
      ],
      "source": [
        "# Load the correct JSON Chat Prompt from the hub\n",
        "prompt = hub.pull(\"hwchase17/structured-chat-agent\")\n",
        "print(prompt.input_variables)"
      ]
    },
    {
      "cell_type": "code",
      "execution_count": 32,
      "metadata": {
        "colab": {
          "base_uri": "https://localhost:8080/"
        },
        "id": "nSQlMjrK7R4r",
        "outputId": "80b781d1-5604-41c2-ecc3-a342f0159a99"
      },
      "outputs": [
        {
          "name": "stderr",
          "output_type": "stream",
          "text": [
            "<ipython-input-32-cec9c3d3b677>:5: LangChainDeprecationWarning: Please see the migration guide at: https://python.langchain.com/docs/versions/migrating_memory/\n",
            "  memory = ConversationBufferMemory(\n"
          ]
        }
      ],
      "source": [
        "# Create a structured Chat Agent with Conversation Buffer Memory\n",
        "\n",
        "# ConversationBufferMemory stores the conversation history, allowing the agent to maintain context across interactions\n",
        "\n",
        "memory = ConversationBufferMemory(\n",
        "    memory_key=\"chat_history\",\n",
        "    return_messages=True\n",
        ")"
      ]
    },
    {
      "cell_type": "code",
      "execution_count": 33,
      "metadata": {
        "id": "4J6FH-Ro7RyA"
      },
      "outputs": [],
      "source": [
        "# create_structured_chat_agent initializes a chat agent designed to interact using a structured prompt and tools\n",
        "# It combines the language model (llm), tools, and prompt to create an interactive agent\n",
        "\n",
        "agent = create_structured_chat_agent(\n",
        "    llm=gpt,\n",
        "    tools=tools,\n",
        "    prompt=prompt\n",
        ")"
      ]
    },
    {
      "cell_type": "code",
      "execution_count": 34,
      "metadata": {
        "id": "dOjS3SqM8ST0"
      },
      "outputs": [],
      "source": [
        "# AgentExecutor is responsible for managing the interaction between the user input, the agent, and the tools\n",
        "# It also handles memory to ensure context is maintained throughout the conversation\n",
        "\n",
        "agent_executor = AgentExecutor.from_agent_and_tools(\n",
        "    agent=agent,\n",
        "    tools=tools,\n",
        "    verbose=True,\n",
        "    memory=memory,  # Use the conversation memory to maintain context\n",
        "    handle_parsing_errors=True,  # Handle any parsing errors gracefully\n",
        ")"
      ]
    },
    {
      "cell_type": "code",
      "execution_count": 35,
      "metadata": {
        "id": "BJ7h6P3R8SRf"
      },
      "outputs": [],
      "source": [
        "# Initial system message to set the context for the chat\n",
        "# SystemMessage is used to define a message from the system to the agent, setting initial instructions or context\n",
        "\n",
        "initial_message = \"\"\"\n",
        "  You are an AI assistant that can provide helpful answers using available tools.\\n\n",
        "  If you are unable to answer, you can use the following tools: Time and Wikipedia.\n",
        "\"\"\"\n",
        "\n",
        "memory.chat_memory.add_message(SystemMessage(content=initial_message))"
      ]
    },
    {
      "cell_type": "code",
      "execution_count": 36,
      "metadata": {
        "colab": {
          "base_uri": "https://localhost:8080/"
        },
        "id": "VvgM9OZu8SOG",
        "outputId": "56156a23-2cba-4f22-874b-51784644c9e2"
      },
      "outputs": [
        {
          "name": "stdout",
          "output_type": "stream",
          "text": [
            "User: exit\n"
          ]
        }
      ],
      "source": [
        "# Chat Loop to interact with the user\n",
        "while True:\n",
        "    user_input = input(\"User: \")\n",
        "    if user_input.lower() == \"exit\":\n",
        "        break\n",
        "\n",
        "    # Add the user's message to the conversation memory\n",
        "    memory.chat_memory.add_message(HumanMessage(content=user_input))\n",
        "\n",
        "    # Invoke the agent with the user input and the current chat history\n",
        "    response = agent_executor.invoke({\"input\": user_input})\n",
        "    print(\"Bot:\", response[\"output\"])\n",
        "\n",
        "    # Add the agent's response to the conversation memory\n",
        "    memory.chat_memory.add_message(AIMessage(content=response[\"output\"]))"
      ]
    },
    {
      "cell_type": "markdown",
      "metadata": {
        "id": "W34sUSaEJ9ix"
      },
      "source": [
        "### LangChain Tools Deep Dive"
      ]
    },
    {
      "cell_type": "code",
      "execution_count": 37,
      "metadata": {
        "id": "gfCKH6Zy-6Y8"
      },
      "outputs": [],
      "source": [
        "# Docs: https://python.langchain.com/v0.1/docs/modules/tools/custom_tools/\n",
        "\n",
        "from langchain_core.tools import StructuredTool, Tool\n",
        "from langchain.agents import AgentExecutor, create_tool_calling_agent"
      ]
    },
    {
      "cell_type": "code",
      "execution_count": 38,
      "metadata": {
        "id": "xmcKBEDt-t0B"
      },
      "outputs": [],
      "source": [
        "def greet_user(name: str) -> str:\n",
        "    \"\"\"Greets the user by name.\"\"\"\n",
        "    return f\"Hello, {name}!\"\n",
        "\n",
        "\n",
        "def reverse_string(text: str) -> str:\n",
        "    \"\"\"Reverses the given string.\"\"\"\n",
        "    return text[::-1]\n",
        "\n",
        "\n",
        "def concatenate_strings(a: str, b: str) -> str:\n",
        "    \"\"\"Concatenates two strings.\"\"\"\n",
        "    return a + b"
      ]
    },
    {
      "cell_type": "code",
      "execution_count": 39,
      "metadata": {
        "id": "-YZ3Br3m-wrc"
      },
      "outputs": [],
      "source": [
        "# Pydantic model for tool arguments\n",
        "class ConcatenateStringsArgs(BaseModel):\n",
        "    a: str = Field(description=\"First string\")\n",
        "    b: str = Field(description=\"Second string\")"
      ]
    },
    {
      "cell_type": "code",
      "execution_count": 40,
      "metadata": {
        "id": "Ck36j0il-0wJ"
      },
      "outputs": [],
      "source": [
        "# Create tools using the Tool and StructuredTool constructor approach\n",
        "tools = [\n",
        "    # Use Tool for simpler functions with a single input parameter.\n",
        "    # This is straightforward and doesn't require an input schema.\n",
        "    Tool(\n",
        "        name=\"GreetUser\",  # Name of the tool\n",
        "        func=greet_user,  # Function to execute\n",
        "        description=\"Greets the user by name.\",  # Description of the tool\n",
        "    ),\n",
        "    # Use Tool for another simple function with a single input parameter.\n",
        "    Tool(\n",
        "        name=\"ReverseString\",  # Name of the tool\n",
        "        func=reverse_string,  # Function to execute\n",
        "        description=\"Reverses the given string.\",  # Description of the tool\n",
        "    ),\n",
        "    # Use StructuredTool for more complex functions that require multiple input parameters.\n",
        "    # StructuredTool allows us to define an input schema using Pydantic, ensuring proper validation and description.\n",
        "    StructuredTool.from_function(\n",
        "        func=concatenate_strings,  # Function to execute\n",
        "        name=\"ConcatenateStrings\",  # Name of the tool\n",
        "        description=\"Concatenates two strings.\",  # Description of the tool\n",
        "        args_schema=ConcatenateStringsArgs,  # Schema defining the tool's input arguments\n",
        "    ),\n",
        "]"
      ]
    },
    {
      "cell_type": "code",
      "execution_count": 41,
      "metadata": {
        "id": "P2ZOBmW-_n64"
      },
      "outputs": [],
      "source": [
        "# Pull the prompt template from the hub\n",
        "prompt = hub.pull(\"hwchase17/openai-tools-agent\")"
      ]
    },
    {
      "cell_type": "code",
      "execution_count": 42,
      "metadata": {
        "id": "xhr3rZ5h_nvF"
      },
      "outputs": [],
      "source": [
        "# Create the ReAct agent using the create_tool_calling_agent function\n",
        "agent = create_tool_calling_agent(\n",
        "    llm=gpt,  # Language model to use\n",
        "    tools=tools,  # List of tools available to the agent\n",
        "    prompt=prompt,  # Prompt template to guide the agent's responses\n",
        ")"
      ]
    },
    {
      "cell_type": "code",
      "execution_count": 43,
      "metadata": {
        "id": "WP95ZDrY_qaq"
      },
      "outputs": [],
      "source": [
        "# Create the ReAct agent using the create_tool_calling_agent function\n",
        "agent = create_tool_calling_agent(\n",
        "    llm=gpt,  # Language model to use\n",
        "    tools=tools,  # List of tools available to the agent\n",
        "    prompt=prompt,  # Prompt template to guide the agent's responses\n",
        ")"
      ]
    },
    {
      "cell_type": "code",
      "execution_count": 44,
      "metadata": {
        "id": "sintmttW_uI_"
      },
      "outputs": [],
      "source": [
        "# Create the agent executor\n",
        "agent_executor = AgentExecutor.from_agent_and_tools(\n",
        "    agent=agent,  # The agent to execute\n",
        "    tools=tools,  # List of tools available to the agent\n",
        "    verbose=True,  # Enable verbose logging\n",
        "    handle_parsing_errors=True,  # Handle parsing errors gracefully\n",
        ")"
      ]
    },
    {
      "cell_type": "code",
      "execution_count": 45,
      "metadata": {
        "colab": {
          "base_uri": "https://localhost:8080/"
        },
        "id": "w5fcwRd0-3wg",
        "outputId": "2feaf0b2-24fe-4db5-b654-0a808d274674"
      },
      "outputs": [
        {
          "name": "stdout",
          "output_type": "stream",
          "text": [
            "\n",
            "\n",
            "\u001b[1m> Entering new AgentExecutor chain...\u001b[0m\n",
            "\u001b[32;1m\u001b[1;3m\n",
            "Invoking: `GreetUser` with `Alice`\n",
            "\n",
            "\n",
            "\u001b[0m\u001b[36;1m\u001b[1;3mHello, Alice!\u001b[0m\u001b[32;1m\u001b[1;3mHello, Alice!\u001b[0m\n",
            "\n",
            "\u001b[1m> Finished chain.\u001b[0m\n",
            "Response for 'Greet Alice': {'input': 'Greet Alice', 'output': 'Hello, Alice!'}\n",
            "\n",
            "\n",
            "\u001b[1m> Entering new AgentExecutor chain...\u001b[0m\n",
            "\u001b[32;1m\u001b[1;3m\n",
            "Invoking: `ReverseString` with `hello`\n",
            "\n",
            "\n",
            "\u001b[0m\u001b[33;1m\u001b[1;3molleh\u001b[0m\u001b[32;1m\u001b[1;3mThe reverse of the string 'hello' is 'olleh'.\u001b[0m\n",
            "\n",
            "\u001b[1m> Finished chain.\u001b[0m\n",
            "Response for 'Reverse the string hello': {'input': \"Reverse the string 'hello'\", 'output': \"The reverse of the string 'hello' is 'olleh'.\"}\n",
            "\n",
            "\n",
            "\u001b[1m> Entering new AgentExecutor chain...\u001b[0m\n",
            "\u001b[32;1m\u001b[1;3m\n",
            "Invoking: `ConcatenateStrings` with `{'a': 'hello', 'b': 'world'}`\n",
            "\n",
            "\n",
            "\u001b[0m\u001b[38;5;200m\u001b[1;3mhelloworld\u001b[0m\u001b[32;1m\u001b[1;3mThe concatenation of \"hello\" and \"world\" is \"helloworld\".\u001b[0m\n",
            "\n",
            "\u001b[1m> Finished chain.\u001b[0m\n",
            "Response for 'Concatenate hello and world': {'input': \"Concatenate 'hello' and 'world'\", 'output': 'The concatenation of \"hello\" and \"world\" is \"helloworld\".'}\n"
          ]
        }
      ],
      "source": [
        "# Test the agent with sample queries\n",
        "response = agent_executor.invoke({\"input\": \"Greet Alice\"})\n",
        "print(\"Response for 'Greet Alice':\", response)\n",
        "\n",
        "response = agent_executor.invoke({\"input\": \"Reverse the string 'hello'\"})\n",
        "print(\"Response for 'Reverse the string hello':\", response)\n",
        "\n",
        "response = agent_executor.invoke({\"input\": \"Concatenate 'hello' and 'world'\"})\n",
        "print(\"Response for 'Concatenate hello and world':\", response)"
      ]
    },
    {
      "cell_type": "markdown",
      "metadata": {
        "id": "slgzYVY4J9ix"
      },
      "source": [
        "# Langgraph\n",
        "\n",
        "### LangGraph is a library for building stateful, multi-actor applications with LLMs, used to create agent and multi-agent workflows. Compared to other LLM frameworks, it offers these core benefits: cycles, controllability, and persistence."
      ]
    },
    {
      "cell_type": "code",
      "execution_count": 47,
      "metadata": {
        "id": "4qd22BqPIklG"
      },
      "outputs": [],
      "source": [
        "import os\n",
        "from openai import OpenAI\n",
        "\n",
        "messages=[\n",
        "        {\n",
        "            \"role\": \"user\",\n",
        "            \"content\": \"Get a list of 100 attractions in Singapore for tourists\",\n",
        "        },\n",
        "    ]\n",
        "\n",
        "response = gpt.invoke(messages)"
      ]
    },
    {
      "cell_type": "code",
      "execution_count": null,
      "metadata": {},
      "outputs": [],
      "source": []
    },
    {
      "cell_type": "code",
      "execution_count": 48,
      "metadata": {
        "colab": {
          "base_uri": "https://localhost:8080/"
        },
        "id": "dYVTp-2aInMS",
        "outputId": "28685552-4409-4675-e232-2011a2f3b2fd"
      },
      "outputs": [
        {
          "name": "stdout",
          "output_type": "stream",
          "text": [
            "Certainly! Singapore is a vibrant city with a plethora of attractions for tourists. Here’s a list of 100 attractions you might consider exploring:\n",
            "\n",
            "1. Marina Bay Sands\n",
            "2. Gardens by the Bay\n",
            "3. Sentosa Island\n",
            "4. Universal Studios Singapore\n",
            "5. Merlion Park\n",
            "6. Singapore Flyer\n",
            "7. Orchard Road\n",
            "8. Clarke Quay\n",
            "9. Singapore Botanic Gardens\n",
            "10. Chinatown\n",
            "11. Little India\n",
            "12. Arab Street\n",
            "13. Raffles Hotel\n",
            "14. Singapore Zoo\n",
            "15. Night Safari\n",
            "16. Jurong Bird Park\n",
            "17. River Safari\n",
            "18. ArtScience Museum\n",
            "19. National Museum of Singapore\n",
            "20. Asian Civilisations Museum\n",
            "21. Esplanade – Theatres on the Bay\n",
            "22. Fort Canning Park\n",
            "23. Haw Par Villa\n",
            "24. East Coast Park\n",
            "25. Pulau Ubin\n",
            "26. Changi Beach Park\n",
            "27. Bukit Timah Nature Reserve\n",
            "28. Sungei Buloh Wetland Reserve\n",
            "29. Kusu Island\n",
            "30. St John’s Island\n",
            "31. Lazarus Island\n",
            "32. Southern Ridges\n",
            "33. Henderson Waves\n",
            "34. Mount Faber Park\n",
            "35. MacRitchie Reservoir\n",
            "36. Coney Island\n",
            "37. Punggol Waterway Park\n",
            "38. S.E.A. Aquarium\n",
            "39. Adventure Cove Waterpark\n",
            "40. Madame Tussauds Singapore\n",
            "41. Trick Eye Museum\n",
            "42. Singapore Philatelic Museum\n",
            "43. Science Centre Singapore\n",
            "44. Snow City\n",
            "45. Wild Wild Wet\n",
            "46. Singapore Discovery Centre\n",
            "47. Little India Arcade\n",
            "48. Mustafa Centre\n",
            "49. Raffles City Shopping Centre\n",
            "50. VivoCity\n",
            "51. Jewel Changi Airport\n",
            "52. The Shoppes at Marina Bay Sands\n",
            "53. Bugis Street Market\n",
            "54. Haji Lane\n",
            "55. Tiong Bahru\n",
            "56. Kampong Glam\n",
            "57. Lau Pa Sat\n",
            "58. Newton Food Centre\n",
            "59. Maxwell Food Centre\n",
            "60. Chinatown Food Street\n",
            "61. Tanjong Pagar\n",
            "62. Boat Quay\n",
            "63. Robertson Quay\n",
            "64. The Helix Bridge\n",
            "65. Singapore River Cruise\n",
            "66. Raffles Landing Site\n",
            "67. Thian Hock Keng Temple\n",
            "68. Sri Mariamman Temple\n",
            "69. Sultan Mosque\n",
            "70. Buddha Tooth Relic Temple\n",
            "71. Armenian Church\n",
            "72. St Andrew’s Cathedral\n",
            "73. The Istana\n",
            "74. National Gallery Singapore\n",
            "75. Peranakan Museum\n",
            "76. Singapore Art Museum\n",
            "77. Gillman Barracks\n",
            "78. The Intan\n",
            "79. Red Dot Design Museum\n",
            "80. Chijmes\n",
            "81. Katong\n",
            "82. Geylang Serai\n",
            "83. Kranji War Memorial\n",
            "84. Bukit Brown Cemetery\n",
            "85. Clarke Quay Central\n",
            "86. Esplanade Park\n",
            "87. Marina Barrage\n",
            "88. Labrador Nature Reserve\n",
            "89. HortPark\n",
            "90. Pasir Ris Park\n",
            "91. Singapore Sports Hub\n",
            "92. The Live Turtle and Tortoise Museum\n",
            "93. Butterfly Park & Insect Kingdom\n",
            "94. The Changi Museum\n",
            "95. Battlebox\n",
            "96. Reflections at Bukit Chandu\n",
            "97. Henderson Waves Bridge\n",
            "98. Marina South Pier\n",
            "99. Singapore City Gallery\n",
            "100. Kallang Wave Mall\n",
            "\n",
            "These attractions offer a mix of cultural, historical, entertainment, and natural experiences, ensuring there's something for everyone to enjoy in Singapore.\n"
          ]
        }
      ],
      "source": [
        "print(response.content)"
      ]
    },
    {
      "cell_type": "code",
      "execution_count": 49,
      "metadata": {
        "id": "W-qz_rUCI-wR"
      },
      "outputs": [],
      "source": [
        "prompt = \"\"\"\\\n",
        "    Please give more information about a travel destination.\n",
        "    please include address, category, recommendated visit duration and description\n",
        "    when you give the recommendation\n",
        "\"\"\""
      ]
    },
    {
      "cell_type": "code",
      "execution_count": 50,
      "metadata": {
        "id": "s-gxHh7HJDhz"
      },
      "outputs": [],
      "source": [
        "messages=[\n",
        "    {\n",
        "        \"role\": \"system\",\n",
        "        \"content\": prompt,\n",
        "    },\n",
        "    {\n",
        "        \"role\": \"user\",\n",
        "        \"content\": \"Get a list of 100 attractions in Singapore for tourists\",\n",
        "    },\n",
        "]\n",
        "\n",
        "response = gpt.invoke(messages)"
      ]
    },
    {
      "cell_type": "code",
      "execution_count": 51,
      "metadata": {
        "colab": {
          "base_uri": "https://localhost:8080/",
          "height": 143
        },
        "id": "saNk_gBiJTh-",
        "outputId": "a2fcb64b-dfed-47a8-902d-4e4ebcea0f0d"
      },
      "outputs": [
        {
          "data": {
            "application/vnd.google.colaboratory.intrinsic+json": {
              "type": "string"
            },
            "text/plain": [
              "\"Certainly! Here's a detailed overview of one of Singapore's most iconic attractions:\\n\\n### Marina Bay Sands SkyPark\\n\\n**Address:** 10 Bayfront Avenue, Singapore 018956\\n\\n**Category:** Observation Deck/Entertainment Complex\\n\\n**Recommended Visit Duration:** 2-3 hours\\n\\n**Description:**  \\nThe Marina Bay Sands SkyPark is a must-visit destination for anyone traveling to Singapore. Perched atop the iconic Marina Bay Sands Hotel, the SkyPark offers breathtaking panoramic views of the city skyline, the Marina Bay area, and beyond. At 57 stories high, visitors can marvel at the architectural wonders of Singapore from the observation deck, which spans the length of the hotel's three towers.\\n\\nThe SkyPark is not just an observation area; it features a stunning infinity pool (exclusive to hotel guests), beautifully landscaped gardens, and several upscale dining options. The SkyPark is also home to the CE LA VI rooftop bar, where you can enjoy a cocktail while watching the sun set over the city.\\n\\nWhether you're a photography enthusiast looking to capture the perfect shot, a foodie wanting to indulge in world-class cuisine with a view, or simply a traveler eager to experience one of Singapore's top attractions, the Marina Bay Sands SkyPark offers something for everyone.\\n\\n---\\nIf you would like more information about other attractions or a different category, feel free to ask!\""
            ]
          },
          "execution_count": 51,
          "metadata": {},
          "output_type": "execute_result"
        }
      ],
      "source": [
        "response.content.strip()"
      ]
    },
    {
      "cell_type": "code",
      "execution_count": 52,
      "metadata": {
        "id": "GJardR4xJjeA"
      },
      "outputs": [],
      "source": [
        "prompt = \"\"\"\\\n",
        "    Please give more information about a travel destination.\n",
        "    please include address, category, recommendated visit duration and description.\n",
        "    recommended visit duration should be in minutes.\n",
        "    when you give the recommendation.\n",
        "\n",
        "    Please make sure the response is in valid JSON format.\n",
        "\n",
        "    For example:\n",
        "    {\n",
        "        \"attractions\": [\n",
        "            {\n",
        "                \"name\": \"Marina Bay Sands\",\n",
        "                \"address\": \"10 Bayfront Ave, Singapore 018956\",\n",
        "                \"category\": \"Hotel\",\n",
        "                \"recommended_visit_duration\": \"120\",\n",
        "                \"description\": \"Marina Bay Sands is an integrated resort fronting Marina Bay in Singapore. At its opening in 2010, it was billed as the world's most expensive standalone casino property at S$8 billion, including the land cost.\"\n",
        "            }\n",
        "        ]\n",
        "    }\n",
        "\"\"\""
      ]
    },
    {
      "cell_type": "code",
      "execution_count": 53,
      "metadata": {
        "id": "PtS0s6E1Jn-8"
      },
      "outputs": [],
      "source": [
        "messages=[\n",
        "    {\n",
        "        \"role\": \"system\",\n",
        "        \"content\": prompt,\n",
        "    },\n",
        "    {\n",
        "        \"role\": \"user\",\n",
        "        \"content\": \"Get a list of 100 attractions in Singapore for tourists\",\n",
        "    },\n",
        "]"
      ]
    },
    {
      "cell_type": "code",
      "execution_count": 54,
      "metadata": {
        "colab": {
          "base_uri": "https://localhost:8080/"
        },
        "id": "tXIaj8g5JrFU",
        "outputId": "76b4d5db-44dd-409c-dba2-113ddb3e2d53"
      },
      "outputs": [
        {
          "name": "stdout",
          "output_type": "stream",
          "text": [
            "{\n",
            "    \"attractions\": [\n",
            "        {\n",
            "            \"name\": \"Marina Bay Sands\",\n",
            "            \"address\": \"10 Bayfront Ave, Singapore 018956\",\n",
            "            \"category\": \"Hotel\",\n",
            "            \"recommended_visit_duration\": \"120\",\n",
            "            \"description\": \"Marina Bay Sands is an integrated resort fronting Marina Bay in Singapore. At its opening in 2010, it was billed as the world's most expensive standalone casino property at S$8 billion, including the land cost.\"\n",
            "        },\n",
            "        {\n",
            "            \"name\": \"Gardens by the Bay\",\n",
            "            \"address\": \"18 Marina Gardens Dr, Singapore 018953\",\n",
            "            \"category\": \"Park\",\n",
            "            \"recommended_visit_duration\": \"180\",\n",
            "            \"description\": \"Gardens by the Bay is a nature park spanning 101 hectares of reclaimed land in central Singapore, adjacent to the Marina Reservoir. The park consists of three waterfront gardens: Bay South Garden, Bay East Garden, and Bay Central Garden.\"\n",
            "        },\n",
            "        {\n",
            "            \"name\": \"Sentosa Island\",\n",
            "            \"address\": \"Sentosa Island, Singapore\",\n",
            "            \"category\": \"Island Resort\",\n",
            "            \"recommended_visit_duration\": \"240\",\n",
            "            \"description\": \"Sentosa is a popular island resort in Singapore, visited by some twenty million people a year. Attractions include a 2 km long sheltered beach, Fort Siloso, two golf courses, and the Resorts World Sentosa, featuring the Universal Studios Singapore theme park.\"\n",
            "        },\n",
            "        {\n",
            "            \"name\": \"Universal Studios Singapore\",\n",
            "            \"address\": \"8 Sentosa Gateway, Singapore 098269\",\n",
            "            \"category\": \"Theme Park\",\n",
            "            \"recommended_visit_duration\": \"300\",\n",
            "            \"description\": \"Universal Studios Singapore is a theme park located within Resorts World Sentosa on Sentosa Island, Singapore. It features 28 rides, shows, and attractions in seven themed zones.\"\n",
            "        },\n",
            "        {\n",
            "            \"name\": \"Singapore Zoo\",\n",
            "            \"address\": \"80 Mandai Lake Rd, Singapore 729826\",\n",
            "            \"category\": \"Zoo\",\n",
            "            \"recommended_visit_duration\": \"240\",\n",
            "            \"description\": \"The Singapore Zoo is an award-winning wildlife park where animals roam freely in open and naturalistic habitats. It is home to over 2,800 animals representing over 300 species.\"\n",
            "        },\n",
            "        {\n",
            "            \"name\": \"National Gallery Singapore\",\n",
            "            \"address\": \"1 St Andrew's Rd, #01–01, Singapore 178957\",\n",
            "            \"category\": \"Art Museum\",\n",
            "            \"recommended_visit_duration\": \"120\",\n",
            "            \"description\": \"The National Gallery Singapore is an art museum located in the Downtown Core of Singapore. It oversees the world's largest public collection of Singapore and Southeast Asian art, consisting of over 8,000 artworks.\"\n",
            "        },\n",
            "        {\n",
            "            \"name\": \"Chinatown\",\n",
            "            \"address\": \"Chinatown, Singapore\",\n",
            "            \"category\": \"Cultural District\",\n",
            "            \"recommended_visit_duration\": \"90\",\n",
            "            \"description\": \"Chinatown in Singapore is a historic district that reflects the cultural history of the Chinese community in Singapore. It is known for its vibrant food scene, traditional Chinese shops, and the iconic Buddha Tooth Relic Temple.\"\n",
            "        },\n",
            "        {\n",
            "            \"name\": \"Orchard Road\",\n",
            "            \"address\": \"Orchard Rd, Singapore\",\n",
            "            \"category\": \"Shopping District\",\n",
            "            \"recommended_visit_duration\": \"180\",\n",
            "            \"description\": \"Orchard Road is Singapore's famous shopping street, lined with iconic shopping malls, restaurants, and hotels. It is a retail and entertainment hub in the city and a must-visit for shopaholics.\"\n",
            "        },\n",
            "        {\n",
            "            \"name\": \"Singapore Botanic Gardens\",\n",
            "            \"address\": \"1 Cluny Rd, Singapore 259569\",\n",
            "            \"category\": \"Botanical Garden\",\n",
            "            \"recommended_visit_duration\": \"120\",\n",
            "            \"description\": \"The Singapore Botanic Gardens is a 160-year-old tropical garden located at the fringe of Singapore’s Orchard Road shopping district. It is Singapore's first UNESCO World Heritage Site.\"\n",
            "        },\n",
            "        {\n",
            "            \"name\": \"Clarke Quay\",\n",
            "            \"address\": \"3 River Valley Rd, Singapore 179024\",\n",
            "            \"category\": \"Nightlife District\",\n",
            "            \"recommended_visit_duration\": \"120\",\n",
            "            \"description\": \"Clarke Quay is a historical riverside quay in Singapore, known for its vibrant nightlife. It features a variety of restaurants, nightclubs, and bars housed in restored warehouses.\"\n",
            "        }\n",
            "        // Additional attractions can be added here to reach a total of 100.\n",
            "    ]\n",
            "}\n"
          ]
        }
      ],
      "source": [
        "response = gpt.invoke(messages)\n",
        "\n",
        "print(response.content)"
      ]
    },
    {
      "cell_type": "markdown",
      "metadata": {
        "id": "Vuswxg3gKttl"
      },
      "source": [
        "We want 100 places, but the LLM only give us partial result\n",
        "\n",
        "how to solve this problem?\n",
        "\n",
        "1. ask fewer each time, ask for 20 items, and repeated with context\n",
        "1. generate 100 names first and ask for the descriptions and so on for each of them\n",
        "\n",
        "![Attractions Workflow](https://i.imgur.com/fuyiGCs.png)\n",
        "\n"
      ]
    },
    {
      "cell_type": "code",
      "execution_count": 67,
      "metadata": {
        "id": "tzz3Bx6hJ9ix"
      },
      "outputs": [],
      "source": [
        "from typing import TypedDict\n",
        "from langgraph.graph import StateGraph, END\n",
        "from langchain.prompts import ChatPromptTemplate\n",
        "\n",
        "\n",
        "class State(TypedDict):\n",
        "    # input is like \"100, Singapore\"\n",
        "    input: str\n",
        "    num: int\n",
        "    tasks: list\n",
        "    places: list\n",
        "    current_places: list\n",
        "    output: str"
      ]
    },
    {
      "cell_type": "code",
      "execution_count": 69,
      "metadata": {
        "id": "F0S5UnzhJ9ix"
      },
      "outputs": [],
      "source": [
        "from pydantic import BaseModel, Field\n",
        "\n",
        "\n",
        "class Attraction(BaseModel):\n",
        "    name: str = Field(description=\"Name of the attraction\")\n",
        "    address: str = Field(description=\"Address of the attraction\")\n",
        "    category: str = Field(description=\"Category of the attraction\")\n",
        "    recommended_visit_duration: int = Field(\n",
        "        description=\"Recommended visit duration in minutes\"\n",
        "    )\n",
        "    description: str = Field(description=\"Description of the attraction\")\n",
        "\n",
        "\n",
        "class Attractions(BaseModel):\n",
        "    places: list[Attraction] = Field(description=\"List of attractions\")"
      ]
    },
    {
      "cell_type": "code",
      "execution_count": 70,
      "metadata": {
        "id": "RCRLgoc4hurc"
      },
      "outputs": [],
      "source": [
        "def generate_task(state: State):\n",
        "    \"\"\"break the task into smaller tasks\"\"\"\n",
        "\n",
        "    num, city = state[\"input\"].split(\",\")\n",
        "    num = int(num)\n",
        "\n",
        "    tasks = (\n",
        "        (\n",
        "            [f\"Generate a list of 20 attractions in {city} for tourists\"]\n",
        "            + [f\"Generate 20 more attractions in {city} for tourists\"]\n",
        "            * ((num - 20) // 20)\n",
        "            + (\n",
        "                [f\"Generate {num % 20} more attractions in {city} for tourists\"]\n",
        "                if num % 20\n",
        "                else []\n",
        "            )\n",
        "        )\n",
        "        if num >= 20\n",
        "        else [f\"Generate a list of {num} attractions in {city} for tourists\"]\n",
        "    )\n",
        "    return {\"tasks\": tasks}"
      ]
    },
    {
      "cell_type": "code",
      "execution_count": 71,
      "metadata": {
        "colab": {
          "base_uri": "https://localhost:8080/"
        },
        "id": "esBHe_f5hxg9",
        "outputId": "e1e14a9e-00b6-4fad-b673-f69d2cc31c2d"
      },
      "outputs": [
        {
          "data": {
            "text/plain": [
              "{'tasks': ['Generate a list of 19 attractions in Singapore for tourists']}"
            ]
          },
          "execution_count": 71,
          "metadata": {},
          "output_type": "execute_result"
        }
      ],
      "source": [
        "generate_task(State(input=\"19,Singapore\"))"
      ]
    },
    {
      "cell_type": "code",
      "execution_count": 72,
      "metadata": {
        "id": "dtg_OPAuhxfJ"
      },
      "outputs": [],
      "source": [
        "prompt = ChatPromptTemplate.from_messages(\n",
        "    [\n",
        "        (\n",
        "            \"system\",\n",
        "            \"You are a professional travel planner. Please generate the attractions based on the task and do not repeat from the already known places.\",\n",
        "        ),\n",
        "        (\n",
        "            \"human\",\n",
        "            \"\"\"\\\n",
        "                Here is the task:\n",
        "                {task}\n",
        "\n",
        "                Here are the places I have already known, please don't repeat them:\n",
        "                {places}\n",
        "                \"\"\",\n",
        "        ),\n",
        "    ]\n",
        ")\n",
        "\n",
        "executor = prompt | gpt.with_structured_output(Attractions)"
      ]
    },
    {
      "cell_type": "code",
      "execution_count": 75,
      "metadata": {
        "id": "UNUP_nlWhxcO"
      },
      "outputs": [],
      "source": [
        "results = executor.invoke(\n",
        "    {\n",
        "        \"task\": \"Generate a list of 19 attractions in Singapore for tourists\",\n",
        "        \"places\": [],\n",
        "    }\n",
        ")"
      ]
    },
    {
      "cell_type": "code",
      "execution_count": 76,
      "metadata": {
        "colab": {
          "base_uri": "https://localhost:8080/"
        },
        "id": "X5O4MMUUi6-W",
        "outputId": "65d660cb-3326-4e4f-fe66-980b10c8713e"
      },
      "outputs": [
        {
          "name": "stdout",
          "output_type": "stream",
          "text": [
            "places=[Attraction(name='Haw Par Villa', address='262 Pasir Panjang Rd, Singapore 118628', category='Cultural Theme Park', recommended_visit_duration=60, description='Haw Par Villa is a unique theme park with over 1,000 statues and 150 dioramas depicting Chinese mythology, folklore, legends, history, and illustrations of various aspects of Confucianism.'), Attraction(name='The Southern Ridges', address='Mount Faber Park, Telok Blangah Hill Park, HortPark, Kent Ridge Park & Labrador Nature Reserve, Singapore', category='Nature Trail', recommended_visit_duration=180, description='The Southern Ridges is a 10-kilometer trail that connects several parks along the southern ridge of Singapore, offering panoramic views and a rich variety of flora and fauna.'), Attraction(name='Gillman Barracks', address='9 Lock Rd, Singapore 108937', category='Contemporary Art', recommended_visit_duration=90, description='A contemporary art cluster in a former military barracks, featuring leading international and homegrown art galleries, as well as outdoor sculptures and public art installations.'), Attraction(name='Pulau Ubin', address='Pulau Ubin, Singapore', category='Island Exploration', recommended_visit_duration=240, description=\"A small island off Singapore's northeast coast, Pulau Ubin offers a glimpse into the past with rustic roads, traditional kampongs, and rich biodiversity. It's a great place for cycling and nature walks.\"), Attraction(name='Bukit Timah Nature Reserve', address='Hindhede Dr, Singapore 589318', category='Nature Reserve', recommended_visit_duration=120, description=\"Home to Singapore's highest hill, Bukit Timah Nature Reserve is a rich ecological site with diverse fauna and flora, offering hiking trails and nature appreciation.\"), Attraction(name='Coney Island', address='Punggol Promenade Nature Walk, Singapore', category='Nature Park', recommended_visit_duration=90, description=\"An ecologically sustainable park with rich biodiversity, rustic trails, and scenic waterfront views. It's a haven for birdwatchers and nature enthusiasts.\"), Attraction(name='The Live Turtle and Tortoise Museum', address='81 Lor Chencharu, Singapore 769198', category='Museum', recommended_visit_duration=60, description='A quirky museum dedicated to turtles and tortoises, featuring a wide range of species and interactive feeding sessions.'), Attraction(name='Lazarus Island', address='Lazarus Island, Singapore', category='Beach Island', recommended_visit_duration=180, description='A tranquil getaway from the city, Lazarus Island offers pristine beaches, clear waters, and a peaceful environment ideal for picnics and beach activities.'), Attraction(name='Sungei Buloh Wetland Reserve', address='301 Neo Tiew Cres, Singapore 718925', category='Wetland Reserve', recommended_visit_duration=120, description='A haven for migratory birds and a rich diversity of wildlife, Sungei Buloh Wetland Reserve offers walking trails and observation hides for nature lovers.'), Attraction(name='The Projector', address='6001 Beach Rd, #05-00 Golden Mile Tower, Singapore 199589', category='Cinema', recommended_visit_duration=120, description='An independent cinema offering a unique movie-going experience with a selection of indie, foreign, and cult films in a retro setting.'), Attraction(name='Kusu Island', address='Kusu Island, Singapore', category='Cultural & Historical Site', recommended_visit_duration=150, description='Known for its sacred sites, Kusu Island features Chinese temples and Malay shrines, attracting pilgrims and visitors seeking tranquility and spiritual peace.'), Attraction(name='Changi Chapel and Museum', address='1000 Upper Changi Rd N, Singapore 507707', category='Historical Museum', recommended_visit_duration=90, description='This museum tells the story of World War II in Singapore, focusing on the experiences of prisoners of war and the resilience of the human spirit.'), Attraction(name='Chek Jawa', address='Pulau Ubin, Singapore', category='Nature Reserve', recommended_visit_duration=120, description='Located on Pulau Ubin, Chek Jawa is a unique natural area with diverse ecosystems such as sandy beaches, seagrass lagoons, and mangroves, best explored during low tide.'), Attraction(name='Reflections at Bukit Chandu', address='31-K Pepys Rd, Singapore 118458', category='Historical Site', recommended_visit_duration=60, description='A World War II interpretative center that commemorates the brave soldiers of the Malay Regiment who fought in the Battle of Pasir Panjang.'), Attraction(name='Fort Siloso', address='Siloso Rd, Singapore', category='Historical Fort', recommended_visit_duration=120, description=\"Singapore's only preserved coastal fort, offering insights into the nation's military history with interactive exhibits and scenic views of Sentosa Island.\"), Attraction(name='Singapore Maritime Gallery', address='31 Marina Coastal Dr, Singapore 018988', category='Maritime Museum', recommended_visit_duration=90, description='An engaging gallery that explores the maritime history and future of Singapore, featuring ship models, interactive displays, and educational exhibits.'), Attraction(name='Lorong Buangkok', address='Lorong Buangkok, Singapore', category='Cultural Heritage Site', recommended_visit_duration=60, description=\"Known as Singapore's last remaining kampong, Lorong Buangkok offers a glimpse into the country's past with its traditional village houses and simple way of life.\"), Attraction(name='MacRitchie Treetop Walk', address='601 Island Club Rd, Singapore 578775', category='Nature Trail', recommended_visit_duration=150, description='A free-standing suspension bridge spanning the forest canopy in MacRitchie Reservoir, offering hiking trails and panoramic views of the surrounding nature reserve.'), Attraction(name='Kampong Glam', address='Kampong Glam, Singapore', category='Cultural District', recommended_visit_duration=120, description='A vibrant neighborhood known for its rich heritage and culture, featuring traditional Malay-Muslim shops, trendy cafes, and the iconic Sultan Mosque.')]\n"
          ]
        }
      ],
      "source": [
        "print(results)"
      ]
    },
    {
      "cell_type": "code",
      "execution_count": 77,
      "metadata": {
        "id": "f8i5Z7rah5U8"
      },
      "outputs": [],
      "source": [
        "def execute(state: State):\n",
        "    \"\"\"call the LLM to perform the task\"\"\"\n",
        "    # 1 get one task from the tasks, the pop it\n",
        "    # 2 call the LLM to perform the task and get the result\n",
        "    task, plases = state[\"tasks\"][0], state[\"places\"]\n",
        "    state[\"tasks\"].pop(0)\n",
        "    res = executor.invoke({\"task\": task, \"places\": plases})\n",
        "\n",
        "    return {\"current_places\": res.places}"
      ]
    },
    {
      "cell_type": "code",
      "execution_count": 78,
      "metadata": {
        "id": "kA2qkqSDh5Lt"
      },
      "outputs": [],
      "source": [
        "dedup_prompt = ChatPromptTemplate.from_messages(\n",
        "    [\n",
        "        (\n",
        "            \"system\",\n",
        "            \"You are a helpful assistant in deduplicating the attractions. Please remove the duplicates from the current places and add them to the known places.\",\n",
        "        ),\n",
        "        (\n",
        "            \"human\",\n",
        "            \"\"\"\\\n",
        "                Here are the places already known:\n",
        "                {places}\n",
        "\n",
        "                Here are the newly generated places:\n",
        "                {current_places}\n",
        "\n",
        "                Return the current places without duplicates.\n",
        "                \"\"\",\n",
        "        ),\n",
        "    ]\n",
        ")\n",
        "\n",
        "deduplicator = dedup_prompt | gpt.with_structured_output(Attractions)"
      ]
    },
    {
      "cell_type": "code",
      "execution_count": 79,
      "metadata": {
        "id": "vPoyQOxoh5JO"
      },
      "outputs": [],
      "source": [
        "def dedup(state: State):\n",
        "    \"\"\"\"\"\"\n",
        "    # call the LLM to deduplicate the places\n",
        "    res = deduplicator.invoke(\n",
        "        {\"current_places\": state[\"current_places\"], \"places\": state[\"plases\"]}\n",
        "    )\n",
        "    places = res.places + state[\"plases\"]\n",
        "    return {\"places\": places}"
      ]
    },
    {
      "cell_type": "code",
      "execution_count": 80,
      "metadata": {
        "id": "eq8hoAfzh5GK"
      },
      "outputs": [],
      "source": [
        "def should_end(state: State):\n",
        "    if len(state[\"places\"]) >= state[\"num\"]:\n",
        "        return \"hit target\"\n",
        "    return \"below target\""
      ]
    },
    {
      "cell_type": "code",
      "execution_count": 81,
      "metadata": {
        "id": "f7ijB_fTiGPs"
      },
      "outputs": [],
      "source": [
        "builder = StateGraph(State)\n",
        "\n",
        "builder.set_entry_point(\"generator\")\n",
        "builder.add_node(\"generator\", generate_task)\n",
        "builder.add_node(\"executor\", execute)\n",
        "builder.add_node(\"deduplicator\", dedup)\n",
        "\n",
        "builder.add_edge(\"generator\", \"executor\")\n",
        "builder.add_edge(\"executor\", \"deduplicator\")\n",
        "builder.add_conditional_edges(\n",
        "    \"deduplicator\", should_end, {\"below target\": \"executor\", \"hit target\": END}\n",
        ")\n",
        "\n",
        "graph = builder.compile()"
      ]
    },
    {
      "cell_type": "code",
      "execution_count": null,
      "metadata": {},
      "outputs": [],
      "source": [
        "from IPython.display import Image, display\n",
        "\n",
        "display(Image(graph.get_graph().draw_mermaid_png()))"
      ]
    },
    {
      "cell_type": "code",
      "execution_count": null,
      "metadata": {},
      "outputs": [],
      "source": [
        "res = graph.invoke({\"input\": \"Singapore,100\"})\n",
        "res[\"places\"]"
      ]
    },
    {
      "cell_type": "markdown",
      "metadata": {
        "id": "75EY3DH6J9ix"
      },
      "source": [
        "### Langserve! If time permit!\n",
        "\n",
        "**LangServe** is a tool within LangChain that makes it easy to deploy your language model applications in production. It allows you to serve your LangChain workflows as APIs, which is super helpful when you want to scale or integrate your application into larger systems.\n",
        "\n",
        "---\n",
        "\n",
        "### Why is it helpful?\n",
        "- **Easy Deployment**: LangServe simplifies the process of turning your LangChain workflows into APIs.\n",
        "- **Scalability**: It helps scale your application so that multiple users or systems can interact with it.\n",
        "- **Seamless Integration**: LangServe allows you to connect your application with other services through an API, making it accessible in different environments.\n",
        "\n",
        "---\n",
        "\n",
        "### When should you use it?\n",
        "- When you need to **deploy** your LangChain project for **real-world use**.\n",
        "- If you want to **share your model** as a service for others to use (e.g., for a web app or another application).\n",
        "- When you need to **scale** your language model applications to handle more users or requests.\n",
        "\n",
        "In short, LangServe is perfect for moving your LangChain project from development to production!\n"
      ]
    },
    {
      "cell_type": "code",
      "execution_count": 55,
      "metadata": {
        "id": "_FS-AFiuAo-Y"
      },
      "outputs": [],
      "source": [
        "from fastapi import FastAPI\n",
        "from langchain_core.prompts import ChatPromptTemplate\n",
        "from langchain_core.output_parsers import StrOutputParser\n",
        "from langchain_openai import ChatOpenAI\n",
        "from langserve import add_routes\n",
        "import nest_asyncio\n",
        "import uvicorn"
      ]
    },
    {
      "cell_type": "code",
      "execution_count": 56,
      "metadata": {
        "id": "DrawNJoXAyy5"
      },
      "outputs": [],
      "source": [
        "# 1. Create prompt template\n",
        "system_template = \"Translate the following into {language}:\"\n",
        "prompt_template = ChatPromptTemplate.from_messages([\n",
        "    ('system', system_template),\n",
        "    ('user', '{text}')\n",
        "])"
      ]
    },
    {
      "cell_type": "code",
      "execution_count": 57,
      "metadata": {
        "id": "ly4-Se1dA5gB"
      },
      "outputs": [],
      "source": [
        "# 2. Create chain\n",
        "chain = prompt_template | gpt | StrOutputParser()"
      ]
    },
    {
      "cell_type": "code",
      "execution_count": 58,
      "metadata": {
        "id": "lTA6PWwfA9r6"
      },
      "outputs": [],
      "source": [
        "# 3. App definition\n",
        "app = FastAPI(\n",
        "  title=\"LangChain Server\",\n",
        "  version=\"1.0\",\n",
        "  description=\"A simple API server using LangChain's Runnable interfaces\",\n",
        ")"
      ]
    },
    {
      "cell_type": "code",
      "execution_count": 59,
      "metadata": {
        "id": "9DiU8tlVBfvd"
      },
      "outputs": [],
      "source": [
        "# Allow asyncio to work within a running event loop (e.g., in Jupyter)\n",
        "nest_asyncio.apply()"
      ]
    },
    {
      "cell_type": "code",
      "execution_count": 60,
      "metadata": {
        "id": "jnsUczlhHVVI"
      },
      "outputs": [],
      "source": [
        "add_routes(\n",
        "    app,\n",
        "    chain,\n",
        "    path=\"/finalchain3\",\n",
        ")"
      ]
    },
    {
      "cell_type": "code",
      "execution_count": 61,
      "metadata": {
        "id": "1HNm0OxGHKYh"
      },
      "outputs": [],
      "source": [
        "from fastapi.testclient import TestClient\n",
        "# Initialize TestClient\n",
        "client = TestClient(app)\n",
        "\n",
        "# Test simple route\n",
        "response = client.post(\"/finalchain3\", json={\"language\": \"Japanese\"})"
      ]
    },
    {
      "cell_type": "code",
      "execution_count": 62,
      "metadata": {
        "colab": {
          "base_uri": "https://localhost:8080/"
        },
        "id": "b3sIQCG3Hg1S",
        "outputId": "82742e2a-0a67-4a91-8071-6604576131bf"
      },
      "outputs": [
        {
          "name": "stdout",
          "output_type": "stream",
          "text": [
            "<Response [404 Not Found]>\n"
          ]
        }
      ],
      "source": [
        "print(response)"
      ]
    },
    {
      "cell_type": "code",
      "execution_count": 63,
      "metadata": {
        "colab": {
          "base_uri": "https://localhost:8080/",
          "height": 365
        },
        "id": "8r5FB9-lBBuX",
        "outputId": "5d14b6d3-0fe3-4bcf-c858-fc6f11dbd2e6"
      },
      "outputs": [
        {
          "ename": "ValueError",
          "evalue": "A runnable already exists at path: /finalchain3. If adding multiple runnables make sure they have different paths.",
          "output_type": "error",
          "traceback": [
            "\u001b[0;31m---------------------------------------------------------------------------\u001b[0m",
            "\u001b[0;31mValueError\u001b[0m                                Traceback (most recent call last)",
            "\u001b[0;32m<ipython-input-63-5a4f81f30a0f>\u001b[0m in \u001b[0;36m<cell line: 2>\u001b[0;34m()\u001b[0m\n\u001b[1;32m      1\u001b[0m \u001b[0;31m# 4. Adding chain route\u001b[0m\u001b[0;34m\u001b[0m\u001b[0;34m\u001b[0m\u001b[0m\n\u001b[0;32m----> 2\u001b[0;31m add_routes(\n\u001b[0m\u001b[1;32m      3\u001b[0m     \u001b[0mapp\u001b[0m\u001b[0;34m,\u001b[0m\u001b[0;34m\u001b[0m\u001b[0;34m\u001b[0m\u001b[0m\n\u001b[1;32m      4\u001b[0m     \u001b[0mchain\u001b[0m\u001b[0;34m,\u001b[0m\u001b[0;34m\u001b[0m\u001b[0;34m\u001b[0m\u001b[0m\n\u001b[1;32m      5\u001b[0m     \u001b[0mpath\u001b[0m\u001b[0;34m=\u001b[0m\u001b[0;34m\"/finalchain3\"\u001b[0m\u001b[0;34m,\u001b[0m\u001b[0;34m\u001b[0m\u001b[0;34m\u001b[0m\u001b[0m\n",
            "\u001b[0;32m/usr/local/lib/python3.10/dist-packages/langserve/server.py\u001b[0m in \u001b[0;36madd_routes\u001b[0;34m(app, runnable, path, input_type, output_type, config_keys, include_callback_events, per_req_config_modifier, enable_feedback_endpoint, token_feedback_config, enable_public_trace_link_endpoint, disabled_endpoints, stream_log_name_allow_list, enabled_endpoints, dependencies, playground_type, astream_events_version, serializer)\u001b[0m\n\u001b[1;32m    423\u001b[0m         \u001b[0;31m# Cannot do this checking logic for a router since\u001b[0m\u001b[0;34m\u001b[0m\u001b[0;34m\u001b[0m\u001b[0m\n\u001b[1;32m    424\u001b[0m         \u001b[0;31m# API routers are not hashable\u001b[0m\u001b[0;34m\u001b[0m\u001b[0;34m\u001b[0m\u001b[0m\n\u001b[0;32m--> 425\u001b[0;31m         \u001b[0m_register_path_for_app\u001b[0m\u001b[0;34m(\u001b[0m\u001b[0mapp\u001b[0m\u001b[0;34m,\u001b[0m \u001b[0mpath\u001b[0m\u001b[0;34m,\u001b[0m \u001b[0mendpoint_configuration\u001b[0m\u001b[0;34m)\u001b[0m\u001b[0;34m\u001b[0m\u001b[0;34m\u001b[0m\u001b[0m\n\u001b[0m\u001b[1;32m    426\u001b[0m \u001b[0;34m\u001b[0m\u001b[0m\n\u001b[1;32m    427\u001b[0m     \u001b[0;31m# Determine the base URL for the playground endpoint\u001b[0m\u001b[0;34m\u001b[0m\u001b[0;34m\u001b[0m\u001b[0m\n",
            "\u001b[0;32m/usr/local/lib/python3.10/dist-packages/langserve/server.py\u001b[0m in \u001b[0;36m_register_path_for_app\u001b[0;34m(app, path, endpoint_configuration)\u001b[0m\n\u001b[1;32m    191\u001b[0m         \u001b[0mseen_paths\u001b[0m \u001b[0;34m=\u001b[0m \u001b[0m_APP_TO_PATHS\u001b[0m\u001b[0;34m.\u001b[0m\u001b[0mget\u001b[0m\u001b[0;34m(\u001b[0m\u001b[0mapp\u001b[0m\u001b[0;34m)\u001b[0m\u001b[0;34m\u001b[0m\u001b[0;34m\u001b[0m\u001b[0m\n\u001b[1;32m    192\u001b[0m         \u001b[0;32mif\u001b[0m \u001b[0mpath\u001b[0m \u001b[0;32min\u001b[0m \u001b[0mseen_paths\u001b[0m\u001b[0;34m:\u001b[0m\u001b[0;34m\u001b[0m\u001b[0;34m\u001b[0m\u001b[0m\n\u001b[0;32m--> 193\u001b[0;31m             raise ValueError(\n\u001b[0m\u001b[1;32m    194\u001b[0m                 \u001b[0;34mf\"A runnable already exists at path: {path}. If adding \"\u001b[0m\u001b[0;34m\u001b[0m\u001b[0;34m\u001b[0m\u001b[0m\n\u001b[1;32m    195\u001b[0m                 \u001b[0;34mf\"multiple runnables make sure they have different paths.\"\u001b[0m\u001b[0;34m\u001b[0m\u001b[0;34m\u001b[0m\u001b[0m\n",
            "\u001b[0;31mValueError\u001b[0m: A runnable already exists at path: /finalchain3. If adding multiple runnables make sure they have different paths."
          ]
        }
      ],
      "source": [
        "# 4. Adding chain route\n",
        "add_routes(\n",
        "    app,\n",
        "    chain,\n",
        "    path=\"/finalchain3\",\n",
        ")\n",
        "\n",
        "if __name__ == \"__main__\":\n",
        "\n",
        "  uvicorn.run(app, host=\"0.0.0.0\", port=8000)"
      ]
    },
    {
      "cell_type": "code",
      "execution_count": null,
      "metadata": {
        "id": "H4LmmML9DIEh"
      },
      "outputs": [],
      "source": [
        "app = FastAPI(\n",
        "    title=\"LangChain Server\",\n",
        "    version=\"1.0\",\n",
        "    description=\"A simple api server using Langchain's Runnable interfaces\",\n",
        ")\n",
        "\n",
        "add_routes(\n",
        "    app,\n",
        "    ChatOpenAI(model=\"gpt-3.5-turbo-0125\"),\n",
        "    path=\"/openai\",\n",
        ")\n",
        "\n",
        "model = ChatOpenAI(model=\"gpt-4o\")\n",
        "prompt = ChatPromptTemplate.from_template(\"tell me a joke about {topic}\")\n",
        "\n",
        "add_routes(\n",
        "    app,\n",
        "    prompt | model,\n",
        "    path=\"/joke\",\n",
        ")\n",
        "\n",
        "if __name__ == \"__main__\":\n",
        "    import uvicorn\n",
        "\n",
        "    uvicorn.run(app, host='localhost', port=8000)"
      ]
    },
    {
      "cell_type": "code",
      "execution_count": null,
      "metadata": {
        "id": "eo3-OnkyCOol"
      },
      "outputs": [],
      "source": [
        "prompt=ChatPromptTemplate.from_template(\"provide me an essay about {topic}\")\n",
        "prompt1=ChatPromptTemplate.from_template(\"provide me a poem about {topic}\")\n",
        "\n",
        "add_routes(\n",
        "    app,\n",
        "    prompt|model,\n",
        "    path=\"/essay\"\n",
        "\n",
        ")\n",
        "\n",
        "add_routes(\n",
        "    app,\n",
        "    prompt1|model,\n",
        "    path=\"/poem\"\n",
        "\n",
        ")\n",
        "\n",
        "if __name__==\"__main__\":\n",
        "    uvicorn.run(app,host=\"localhost\",port=8000)"
      ]
    }
  ],
  "metadata": {
    "colab": {
      "provenance": []
    },
    "kernelspec": {
      "display_name": "Python 3",
      "name": "python3"
    },
    "language_info": {
      "name": "python"
    }
  },
  "nbformat": 4,
  "nbformat_minor": 0
}
